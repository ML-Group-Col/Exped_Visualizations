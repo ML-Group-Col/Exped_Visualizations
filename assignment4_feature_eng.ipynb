{
 "cells": [
  {
   "cell_type": "markdown",
   "metadata": {},
   "source": [
    "## Feature Engineering"
   ]
  },
  {
   "cell_type": "code",
   "execution_count": 1,
   "metadata": {},
   "outputs": [],
   "source": [
    "import pandas as pd\n",
    "import numpy as np"
   ]
  },
  {
   "cell_type": "code",
   "execution_count": 2,
   "metadata": {},
   "outputs": [],
   "source": [
    "import pickle\n",
    "\n",
    "with open('df2.data','rb') as data:\n",
    "    df = pickle.load(data)"
   ]
  },
  {
   "cell_type": "code",
   "execution_count": 3,
   "metadata": {},
   "outputs": [
    {
     "output_type": "execute_result",
     "data": {
      "text/plain": "      Carácter del procedimiento Forma del procedimiento  \\\n0                       Nacional              Presencial   \n1                       Nacional              Presencial   \n2                            nan                     nan   \n3                       Nacional                   Mixta   \n4                       Nacional                   Mixta   \n...                          ...                     ...   \n96117                   Nacional                   Mixta   \n96118                   Nacional              Presencial   \n96119                   Nacional              Presencial   \n96120                   Nacional              Presencial   \n96121                   Nacional             Electronica   \n\n         Artículo de excepción  \\\n0                          NaN   \n1                          NaN   \n2                  Art. 43 s/f   \n3                  Art. 43 s/f   \n4                  Art. 43 s/f   \n...                        ...   \n96117  Art. 42 párrafo primero   \n96118          Art. 41 fr. XII   \n96119              Art. 43 s/f   \n96120           Art. 41 fr. XI   \n96121  Art. 42 párrafo primero   \n\n                                   Título del expediente  \\\n0              [mejor, iluminacion, iglesi, san, miguel]   \n1      [adquisicion, uniform, direccion, segur, publi...   \n2       [proyect, ejecut, jardin, vecinal, coloni, amer]   \n3                    [construccion, deport, bicentenari]   \n4                  [acondicion, centr, cultural, deport]   \n...                                                  ...   \n96117  [scn, req, , aconor, maquinari, equip, industr...   \n96118      [jabon, tocador, det, polv, jabon, lavanderi]   \n96119      [construccion, , aul, didact, obra, exterior]   \n96120                        [adquisicion, muebl, mader]   \n96121  [reparacion, integral, mecan, apertur, puert, ...   \n\n                                Plantilla del expediente  \\\n0      V20150817 30. Licitación Pública Nacional de O...   \n1      V20150817 28. Licitación Pública Nacional de A...   \n2                        06. Adjudicación Directa LOPSRM   \n3      V20151220 19. Invitación a cuando menos tres N...   \n4      V20151220 19. Invitación a cuando menos tres N...   \n...                                                  ...   \n96117                    05. Adjudicación Directa LAASSP   \n96118                    05. Adjudicación Directa LAASSP   \n96119                    06. Adjudicación Directa LOPSRM   \n96120                    05. Adjudicación Directa LAASSP   \n96121                    05. Adjudicación Directa LAASSP   \n\n                                 Descripción del Anuncio  \\\n0              [mejor, iluminacion, iglesi, san, miguel]   \n1      [adquisicion, uniform, direccion, segur, publi...   \n2      [proyect, ejecut, jardin, vecinal, coloni, ame...   \n3                    [construccion, deport, bicentenari]   \n4                  [acondicion, centr, cultural, deport]   \n...                                                  ...   \n96117                     [maquinari, equip, industrial]   \n96118      [jabon, tocador, det, polv, jabon, lavanderi]   \n96119  [construccion, aul, didact, obra, exterior, vi...   \n96120                        [adquisicion, muebl, mader]   \n96121  [reparacion, integral, mecan, apertur, puert, ...   \n\n                                         Nombre de la UC Entidad federativa  \\\n0      QROO-Cozumel-Dirección de Obras Públicas #8230...                Sur   \n1      QROO-Cozumel-Dirección de Obras Públicas #8230...                Sur   \n2      GTO-Salamanca-DIRECCION GENERAL DE OBRAS PUBLI...                NaN   \n3      MEX-Nicolás Romero-Direccion de Obras Publicas...             Centro   \n4      MEX-Nicolás Romero-Direccion de Obras Publicas...             Centro   \n...                                                  ...                ...   \n96117  SEMAR-Dirección General Adjunta de Adquisicion...             Centro   \n96118   DICONSA-Dirección de Comercialización #008VSS998              Norte   \n96119  CHIS-Instituto de la Infraestructura Física Ed...       Pacifico Sur   \n96120  INPI-Dirección de Adquisiciones y Obra Pública...             Centro   \n96121  IMSS-Coordinación de Abastecimiento y Equipami...             Centro   \n\n                   Tipo de contratación Publicación del anuncio  \\\n0                          Obra Publica        2020-08-10 12:49   \n1                         Adquisiciones        2020-08-14 11:19   \n2      Servicios Relacionados con la OP        2020-03-20 12:35   \n3                          Obra Publica        2020-06-08 10:26   \n4                          Obra Publica        2020-06-08 10:16   \n...                                 ...                     ...   \n96117                     Adquisiciones        2020-08-06 13:52   \n96118                     Adquisiciones        2020-08-06 13:43   \n96119                      Obra Publica        2020-08-06 13:32   \n96120                     Adquisiciones        2020-08-12 13:55   \n96121                         Servicios        2020-08-06 19:08   \n\n      Vigencia del anuncio Fecha de creación Fecha de última modificacion  \\\n0         2011-08-17 07:00   2011/07/2910:40             2020/08/31 12:51   \n1         2011-08-17 12:00   2011/08/0112:14             2020/08/18 11:32   \n2         2011-08-23 23:00   2011/08/2316:57             2020/03/24 14:26   \n3         2011-09-23 11:00   2011/09/0109:55             2020/06/08 10:26   \n4         2011-09-23 09:00   2011/09/0109:29             2020/06/08 10:15   \n...                    ...               ...                          ...   \n96117     2020-07-29 23:00   2020/08/0613:26             2020/08/06 13:53   \n96118     2020-07-15 11:00   2020/08/0613:26             2020/08/06 13:42   \n96119     2020-07-24 13:00   2020/08/0613:27             2020/08/06 13:31   \n96120     2020-07-30 09:00   2020/08/0613:28             2020/09/02 09:15   \n96121     2020-08-24 11:00   2020/08/0613:31             2020/08/25 12:16   \n\n                                   Dirección del anuncio  word_servici  \\\n0      https://compranet.funcionpublica.gob.mx/esop/g...             0   \n1      https://compranet.funcionpublica.gob.mx/esop/g...             0   \n2      https://compranet.funcionpublica.gob.mx/esop/g...             0   \n3      https://compranet.funcionpublica.gob.mx/esop/g...             0   \n4      https://compranet.funcionpublica.gob.mx/esop/g...             0   \n...                                                  ...           ...   \n96117  https://compranet.funcionpublica.gob.mx/esop/g...             0   \n96118  https://compranet.funcionpublica.gob.mx/esop/g...             0   \n96119  https://compranet.funcionpublica.gob.mx/esop/g...             0   \n96120  https://compranet.funcionpublica.gob.mx/esop/g...             0   \n96121  https://compranet.funcionpublica.gob.mx/esop/g...             0   \n\n       word_adquisicion  word_material  \n0                     0              0  \n1                     1              0  \n2                     0              0  \n3                     0              0  \n4                     0              0  \n...                 ...            ...  \n96117                 0              0  \n96118                 0              0  \n96119                 0              0  \n96120                 1              0  \n96121                 0              0  \n\n[96122 rows x 17 columns]",
      "text/html": "<div>\n<style scoped>\n    .dataframe tbody tr th:only-of-type {\n        vertical-align: middle;\n    }\n\n    .dataframe tbody tr th {\n        vertical-align: top;\n    }\n\n    .dataframe thead th {\n        text-align: right;\n    }\n</style>\n<table border=\"1\" class=\"dataframe\">\n  <thead>\n    <tr style=\"text-align: right;\">\n      <th></th>\n      <th>Carácter del procedimiento</th>\n      <th>Forma del procedimiento</th>\n      <th>Artículo de excepción</th>\n      <th>Título del expediente</th>\n      <th>Plantilla del expediente</th>\n      <th>Descripción del Anuncio</th>\n      <th>Nombre de la UC</th>\n      <th>Entidad federativa</th>\n      <th>Tipo de contratación</th>\n      <th>Publicación del anuncio</th>\n      <th>Vigencia del anuncio</th>\n      <th>Fecha de creación</th>\n      <th>Fecha de última modificacion</th>\n      <th>Dirección del anuncio</th>\n      <th>word_servici</th>\n      <th>word_adquisicion</th>\n      <th>word_material</th>\n    </tr>\n  </thead>\n  <tbody>\n    <tr>\n      <th>0</th>\n      <td>Nacional</td>\n      <td>Presencial</td>\n      <td>NaN</td>\n      <td>[mejor, iluminacion, iglesi, san, miguel]</td>\n      <td>V20150817 30. Licitación Pública Nacional de O...</td>\n      <td>[mejor, iluminacion, iglesi, san, miguel]</td>\n      <td>QROO-Cozumel-Dirección de Obras Públicas #8230...</td>\n      <td>Sur</td>\n      <td>Obra Publica</td>\n      <td>2020-08-10 12:49</td>\n      <td>2011-08-17 07:00</td>\n      <td>2011/07/2910:40</td>\n      <td>2020/08/31 12:51</td>\n      <td>https://compranet.funcionpublica.gob.mx/esop/g...</td>\n      <td>0</td>\n      <td>0</td>\n      <td>0</td>\n    </tr>\n    <tr>\n      <th>1</th>\n      <td>Nacional</td>\n      <td>Presencial</td>\n      <td>NaN</td>\n      <td>[adquisicion, uniform, direccion, segur, publi...</td>\n      <td>V20150817 28. Licitación Pública Nacional de A...</td>\n      <td>[adquisicion, uniform, direccion, segur, publi...</td>\n      <td>QROO-Cozumel-Dirección de Obras Públicas #8230...</td>\n      <td>Sur</td>\n      <td>Adquisiciones</td>\n      <td>2020-08-14 11:19</td>\n      <td>2011-08-17 12:00</td>\n      <td>2011/08/0112:14</td>\n      <td>2020/08/18 11:32</td>\n      <td>https://compranet.funcionpublica.gob.mx/esop/g...</td>\n      <td>0</td>\n      <td>1</td>\n      <td>0</td>\n    </tr>\n    <tr>\n      <th>2</th>\n      <td>nan</td>\n      <td>nan</td>\n      <td>Art. 43 s/f</td>\n      <td>[proyect, ejecut, jardin, vecinal, coloni, amer]</td>\n      <td>06. Adjudicación Directa LOPSRM</td>\n      <td>[proyect, ejecut, jardin, vecinal, coloni, ame...</td>\n      <td>GTO-Salamanca-DIRECCION GENERAL DE OBRAS PUBLI...</td>\n      <td>NaN</td>\n      <td>Servicios Relacionados con la OP</td>\n      <td>2020-03-20 12:35</td>\n      <td>2011-08-23 23:00</td>\n      <td>2011/08/2316:57</td>\n      <td>2020/03/24 14:26</td>\n      <td>https://compranet.funcionpublica.gob.mx/esop/g...</td>\n      <td>0</td>\n      <td>0</td>\n      <td>0</td>\n    </tr>\n    <tr>\n      <th>3</th>\n      <td>Nacional</td>\n      <td>Mixta</td>\n      <td>Art. 43 s/f</td>\n      <td>[construccion, deport, bicentenari]</td>\n      <td>V20151220 19. Invitación a cuando menos tres N...</td>\n      <td>[construccion, deport, bicentenari]</td>\n      <td>MEX-Nicolás Romero-Direccion de Obras Publicas...</td>\n      <td>Centro</td>\n      <td>Obra Publica</td>\n      <td>2020-06-08 10:26</td>\n      <td>2011-09-23 11:00</td>\n      <td>2011/09/0109:55</td>\n      <td>2020/06/08 10:26</td>\n      <td>https://compranet.funcionpublica.gob.mx/esop/g...</td>\n      <td>0</td>\n      <td>0</td>\n      <td>0</td>\n    </tr>\n    <tr>\n      <th>4</th>\n      <td>Nacional</td>\n      <td>Mixta</td>\n      <td>Art. 43 s/f</td>\n      <td>[acondicion, centr, cultural, deport]</td>\n      <td>V20151220 19. Invitación a cuando menos tres N...</td>\n      <td>[acondicion, centr, cultural, deport]</td>\n      <td>MEX-Nicolás Romero-Direccion de Obras Publicas...</td>\n      <td>Centro</td>\n      <td>Obra Publica</td>\n      <td>2020-06-08 10:16</td>\n      <td>2011-09-23 09:00</td>\n      <td>2011/09/0109:29</td>\n      <td>2020/06/08 10:15</td>\n      <td>https://compranet.funcionpublica.gob.mx/esop/g...</td>\n      <td>0</td>\n      <td>0</td>\n      <td>0</td>\n    </tr>\n    <tr>\n      <th>...</th>\n      <td>...</td>\n      <td>...</td>\n      <td>...</td>\n      <td>...</td>\n      <td>...</td>\n      <td>...</td>\n      <td>...</td>\n      <td>...</td>\n      <td>...</td>\n      <td>...</td>\n      <td>...</td>\n      <td>...</td>\n      <td>...</td>\n      <td>...</td>\n      <td>...</td>\n      <td>...</td>\n      <td>...</td>\n    </tr>\n    <tr>\n      <th>96117</th>\n      <td>Nacional</td>\n      <td>Mixta</td>\n      <td>Art. 42 párrafo primero</td>\n      <td>[scn, req, , aconor, maquinari, equip, industr...</td>\n      <td>05. Adjudicación Directa LAASSP</td>\n      <td>[maquinari, equip, industrial]</td>\n      <td>SEMAR-Dirección General Adjunta de Adquisicion...</td>\n      <td>Centro</td>\n      <td>Adquisiciones</td>\n      <td>2020-08-06 13:52</td>\n      <td>2020-07-29 23:00</td>\n      <td>2020/08/0613:26</td>\n      <td>2020/08/06 13:53</td>\n      <td>https://compranet.funcionpublica.gob.mx/esop/g...</td>\n      <td>0</td>\n      <td>0</td>\n      <td>0</td>\n    </tr>\n    <tr>\n      <th>96118</th>\n      <td>Nacional</td>\n      <td>Presencial</td>\n      <td>Art. 41 fr. XII</td>\n      <td>[jabon, tocador, det, polv, jabon, lavanderi]</td>\n      <td>05. Adjudicación Directa LAASSP</td>\n      <td>[jabon, tocador, det, polv, jabon, lavanderi]</td>\n      <td>DICONSA-Dirección de Comercialización #008VSS998</td>\n      <td>Norte</td>\n      <td>Adquisiciones</td>\n      <td>2020-08-06 13:43</td>\n      <td>2020-07-15 11:00</td>\n      <td>2020/08/0613:26</td>\n      <td>2020/08/06 13:42</td>\n      <td>https://compranet.funcionpublica.gob.mx/esop/g...</td>\n      <td>0</td>\n      <td>0</td>\n      <td>0</td>\n    </tr>\n    <tr>\n      <th>96119</th>\n      <td>Nacional</td>\n      <td>Presencial</td>\n      <td>Art. 43 s/f</td>\n      <td>[construccion, , aul, didact, obra, exterior]</td>\n      <td>06. Adjudicación Directa LOPSRM</td>\n      <td>[construccion, aul, didact, obra, exterior, vi...</td>\n      <td>CHIS-Instituto de la Infraestructura Física Ed...</td>\n      <td>Pacifico Sur</td>\n      <td>Obra Publica</td>\n      <td>2020-08-06 13:32</td>\n      <td>2020-07-24 13:00</td>\n      <td>2020/08/0613:27</td>\n      <td>2020/08/06 13:31</td>\n      <td>https://compranet.funcionpublica.gob.mx/esop/g...</td>\n      <td>0</td>\n      <td>0</td>\n      <td>0</td>\n    </tr>\n    <tr>\n      <th>96120</th>\n      <td>Nacional</td>\n      <td>Presencial</td>\n      <td>Art. 41 fr. XI</td>\n      <td>[adquisicion, muebl, mader]</td>\n      <td>05. Adjudicación Directa LAASSP</td>\n      <td>[adquisicion, muebl, mader]</td>\n      <td>INPI-Dirección de Adquisiciones y Obra Pública...</td>\n      <td>Centro</td>\n      <td>Adquisiciones</td>\n      <td>2020-08-12 13:55</td>\n      <td>2020-07-30 09:00</td>\n      <td>2020/08/0613:28</td>\n      <td>2020/09/02 09:15</td>\n      <td>https://compranet.funcionpublica.gob.mx/esop/g...</td>\n      <td>0</td>\n      <td>1</td>\n      <td>0</td>\n    </tr>\n    <tr>\n      <th>96121</th>\n      <td>Nacional</td>\n      <td>Electronica</td>\n      <td>Art. 42 párrafo primero</td>\n      <td>[reparacion, integral, mecan, apertur, puert, ...</td>\n      <td>05. Adjudicación Directa LAASSP</td>\n      <td>[reparacion, integral, mecan, apertur, puert, ...</td>\n      <td>IMSS-Coordinación de Abastecimiento y Equipami...</td>\n      <td>Centro</td>\n      <td>Servicios</td>\n      <td>2020-08-06 19:08</td>\n      <td>2020-08-24 11:00</td>\n      <td>2020/08/0613:31</td>\n      <td>2020/08/25 12:16</td>\n      <td>https://compranet.funcionpublica.gob.mx/esop/g...</td>\n      <td>0</td>\n      <td>0</td>\n      <td>0</td>\n    </tr>\n  </tbody>\n</table>\n<p>96122 rows × 17 columns</p>\n</div>"
     },
     "metadata": {},
     "execution_count": 3
    }
   ],
   "source": [
    "df"
   ]
  },
  {
   "cell_type": "markdown",
   "metadata": {},
   "source": [
    "## Removing Attributes"
   ]
  },
  {
   "cell_type": "code",
   "execution_count": 4,
   "metadata": {},
   "outputs": [
    {
     "output_type": "execute_result",
     "data": {
      "text/plain": "DICONSA-Dirección de Comercialización #008VSS998                                                                    14048\nINDAABIN-Dirección General de Avalúos y Obras #006A00997                                                             2385\nOnceTV-División de Recursos Materiales y Servicios #011B01001                                                        1544\nIMSS-Oficina de Adquisiciones Delegación Morelos #050GYR007                                                          1488\nSEMAR-Dirección General Adjunta de Adquisiciones #013000999                                                          1410\n                                                                                                                    ...  \nMOR-Instituto de Capacitacion para el Trabajo del Estado de Morelos-Dirección del Área Administrativa #917039976        1\nMEX-Metepec-H. AYUNTAMIENTO DE METEPEC #815054958                                                                       1\nMOR-Tlaltizapán-Dirección de Desarrollo Urbano, Vivienda y Obras Publicas #817024971                                    1\nHGO-Universidad Intercultural del Estado de Hidalgo-DIRECCION DE ADMINISTRACION #913069969                              1\nCHIS-Ostuacán-DIRECCIÓN DE OBRAS PÚBLICAS #807062939                                                                    1\nName: Nombre de la UC, Length: 1905, dtype: int64"
     },
     "metadata": {},
     "execution_count": 4
    }
   ],
   "source": [
    "df['Nombre de la UC'].value_counts()"
   ]
  },
  {
   "cell_type": "markdown",
   "metadata": {},
   "source": [
    "## Removing text variables used for NLP"
   ]
  },
  {
   "cell_type": "code",
   "execution_count": null,
   "metadata": {},
   "outputs": [],
   "source": [
    "df.drop(['Título del expediente','Descripción del Anuncio','Dirección del Anuncio','Fecha de Creación','Fecha de última modificación','Vigencia del Anuncio'])"
   ]
  },
  {
   "cell_type": "markdown",
   "metadata": {},
   "source": [
    "### Target : Cáracter del procedimiento"
   ]
  },
  {
   "cell_type": "code",
   "execution_count": 17,
   "metadata": {},
   "outputs": [
    {
     "output_type": "execute_result",
     "data": {
      "text/plain": "Nacional                  80611\nInternacional bajo TLC     6743\nInternacional              5848\nnan                        2041\nOtro                        877\nInternacional Abierto         2\nName: Carácter del procedimiento, dtype: int64"
     },
     "metadata": {},
     "execution_count": 17
    }
   ],
   "source": [
    "df['Carácter del procedimiento'].value_counts()"
   ]
  },
  {
   "cell_type": "markdown",
   "metadata": {},
   "source": [
    "We will binarize this class in National and Other. "
   ]
  },
  {
   "cell_type": "code",
   "execution_count": null,
   "metadata": {},
   "outputs": [],
   "source": [
    "def binarize(column, target_variable):\n",
    "    for i in column:\n",
    "        if i == target_variable:\n",
    "            return 1\n",
    "        else: \n",
    "            return 0 \n",
    "    return  "
   ]
  },
  {
   "cell_type": "code",
   "execution_count": null,
   "metadata": {},
   "outputs": [],
   "source": []
  }
 ],
 "metadata": {
  "language_info": {
   "codemirror_mode": {
    "name": "ipython",
    "version": 3
   },
   "file_extension": ".py",
   "mimetype": "text/x-python",
   "name": "python",
   "nbconvert_exporter": "python",
   "pygments_lexer": "ipython3",
   "version": 3
  },
  "orig_nbformat": 2,
  "kernelspec": {
   "name": "python_defaultSpec_1601482611901",
   "display_name": "Python 3.7.6 64-bit ('base': conda)"
  }
 },
 "nbformat": 4,
 "nbformat_minor": 2
}