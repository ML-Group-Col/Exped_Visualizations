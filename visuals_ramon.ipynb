{
 "metadata": {
  "language_info": {
   "codemirror_mode": {
    "name": "ipython",
    "version": 3
   },
   "file_extension": ".py",
   "mimetype": "text/x-python",
   "name": "python",
   "nbconvert_exporter": "python",
   "pygments_lexer": "ipython3",
   "version": "3.7.4-final"
  },
  "orig_nbformat": 2,
  "kernelspec": {
   "name": "Python 3.7.4 64-bit ('base': conda)",
   "display_name": "Python 3.7.4 64-bit ('base': conda)",
   "metadata": {
    "interpreter": {
     "hash": "1c806136200b0eca212bee46925cab97b1df6a3bae2401ff46da3aaaf2e1deb3"
    }
   }
  }
 },
 "nbformat": 4,
 "nbformat_minor": 2,
 "cells": [
  {
   "cell_type": "code",
   "execution_count": 2,
   "metadata": {},
   "outputs": [
    {
     "output_type": "execute_result",
     "data": {
      "text/plain": [
       "      Caracter del procedimiento Forma del procedimiento  \\\n",
       "0                       nacional              presencial   \n",
       "1                       nacional              presencial   \n",
       "2                            NaN                     NaN   \n",
       "3                       nacional                   mixta   \n",
       "4                       nacional                   mixta   \n",
       "...                          ...                     ...   \n",
       "96117                   nacional                   mixta   \n",
       "96118                   nacional              presencial   \n",
       "96119                   nacional              presencial   \n",
       "96120                   nacional              presencial   \n",
       "96121                   nacional             electronica   \n",
       "\n",
       "                             Operador Correo electronico Entidad federativa  \\\n",
       "0               gabriel caamal caamal            cozumel                sur   \n",
       "1               gabriel caamal caamal            cozumel                sur   \n",
       "2             adriana ortega gonzalez          salamanca              bajio   \n",
       "3               paulino mata gonzalez            hotmail                NaN   \n",
       "4               paulino mata gonzalez            hotmail                NaN   \n",
       "...                               ...                ...                ...   \n",
       "96117          maribel martinez lopez              semar                NaN   \n",
       "96118          timoteo sigala mercado            diconsa              norte   \n",
       "96119         ricardo gutierrez ramos            inifech       pacifico sur   \n",
       "96120        griselda rodriguez rojas               inpi                NaN   \n",
       "96121  karla carolina alvarez alvarez               imss                NaN   \n",
       "\n",
       "                   Tipo de contratacion Articulo     Plantilla  \\\n",
       "0                          obra publica      NaN    licitacion   \n",
       "1                         adquisiciones      NaN    licitacion   \n",
       "2      servicios relacionados con la op       43  adjudicacion   \n",
       "3                          obra publica       43    invitacion   \n",
       "4                          obra publica       43    invitacion   \n",
       "...                                 ...      ...           ...   \n",
       "96117                     adquisiciones       42  adjudicacion   \n",
       "96118                     adquisiciones       41  adjudicacion   \n",
       "96119                      obra publica       43  adjudicacion   \n",
       "96120                     adquisiciones       41  adjudicacion   \n",
       "96121                         servicios       42  adjudicacion   \n",
       "\n",
       "       Forma_Procedimiento_Presencial  Forma_Procedimiento_Electronica  ...  \\\n",
       "0                                   1                                0  ...   \n",
       "1                                   1                                0  ...   \n",
       "2                                   0                                0  ...   \n",
       "3                                   0                                0  ...   \n",
       "4                                   0                                0  ...   \n",
       "...                               ...                              ...  ...   \n",
       "96117                               0                                0  ...   \n",
       "96118                               1                                0  ...   \n",
       "96119                               1                                0  ...   \n",
       "96120                               1                                0  ...   \n",
       "96121                               0                                1  ...   \n",
       "\n",
       "       Most_used_description_word_servici  \\\n",
       "0                                       0   \n",
       "1                                       0   \n",
       "2                                       0   \n",
       "3                                       0   \n",
       "4                                       0   \n",
       "...                                   ...   \n",
       "96117                                   0   \n",
       "96118                                   0   \n",
       "96119                                   0   \n",
       "96120                                   0   \n",
       "96121                                   0   \n",
       "\n",
       "       Most_used_description_word_adquisicion  \\\n",
       "0                                           0   \n",
       "1                                           1   \n",
       "2                                           0   \n",
       "3                                           0   \n",
       "4                                           0   \n",
       "...                                       ...   \n",
       "96117                                       0   \n",
       "96118                                       0   \n",
       "96119                                       0   \n",
       "96120                                       1   \n",
       "96121                                       0   \n",
       "\n",
       "       Most_used_description_word_material  Mes_pub  Dia_pub  Hora_pub  \\\n",
       "0                                        0        8       10        12   \n",
       "1                                        0        8       14        11   \n",
       "2                                        0        3       20        12   \n",
       "3                                        0        6        8        10   \n",
       "4                                        0        6        8        10   \n",
       "...                                    ...      ...      ...       ...   \n",
       "96117                                    0        8        6        13   \n",
       "96118                                    0        8        6        13   \n",
       "96119                                    0        8        6        13   \n",
       "96120                                    0        8       12        13   \n",
       "96121                                    0        8        6        19   \n",
       "\n",
       "       Min_pub  Most_used_UC_word_gyr  Most_used_UC_word_material  \\\n",
       "0           49                      0                           0   \n",
       "1           19                      0                           0   \n",
       "2           35                      0                           0   \n",
       "3           26                      0                           0   \n",
       "4           16                      0                           0   \n",
       "...        ...                    ...                         ...   \n",
       "96117       52                      0                           0   \n",
       "96118       43                      0                           0   \n",
       "96119       32                      0                           0   \n",
       "96120       55                      0                           0   \n",
       "96121        8                      1                           0   \n",
       "\n",
       "       Most_used_UC_word_general  \n",
       "0                              0  \n",
       "1                              0  \n",
       "2                              1  \n",
       "3                              0  \n",
       "4                              0  \n",
       "...                          ...  \n",
       "96117                          1  \n",
       "96118                          0  \n",
       "96119                          0  \n",
       "96120                          0  \n",
       "96121                          0  \n",
       "\n",
       "[96122 rows x 43 columns]"
      ],
      "text/html": "<div>\n<style scoped>\n    .dataframe tbody tr th:only-of-type {\n        vertical-align: middle;\n    }\n\n    .dataframe tbody tr th {\n        vertical-align: top;\n    }\n\n    .dataframe thead th {\n        text-align: right;\n    }\n</style>\n<table border=\"1\" class=\"dataframe\">\n  <thead>\n    <tr style=\"text-align: right;\">\n      <th></th>\n      <th>Caracter del procedimiento</th>\n      <th>Forma del procedimiento</th>\n      <th>Operador</th>\n      <th>Correo electronico</th>\n      <th>Entidad federativa</th>\n      <th>Tipo de contratacion</th>\n      <th>Articulo</th>\n      <th>Plantilla</th>\n      <th>Forma_Procedimiento_Presencial</th>\n      <th>Forma_Procedimiento_Electronica</th>\n      <th>...</th>\n      <th>Most_used_description_word_servici</th>\n      <th>Most_used_description_word_adquisicion</th>\n      <th>Most_used_description_word_material</th>\n      <th>Mes_pub</th>\n      <th>Dia_pub</th>\n      <th>Hora_pub</th>\n      <th>Min_pub</th>\n      <th>Most_used_UC_word_gyr</th>\n      <th>Most_used_UC_word_material</th>\n      <th>Most_used_UC_word_general</th>\n    </tr>\n  </thead>\n  <tbody>\n    <tr>\n      <th>0</th>\n      <td>nacional</td>\n      <td>presencial</td>\n      <td>gabriel caamal caamal</td>\n      <td>cozumel</td>\n      <td>sur</td>\n      <td>obra publica</td>\n      <td>NaN</td>\n      <td>licitacion</td>\n      <td>1</td>\n      <td>0</td>\n      <td>...</td>\n      <td>0</td>\n      <td>0</td>\n      <td>0</td>\n      <td>8</td>\n      <td>10</td>\n      <td>12</td>\n      <td>49</td>\n      <td>0</td>\n      <td>0</td>\n      <td>0</td>\n    </tr>\n    <tr>\n      <th>1</th>\n      <td>nacional</td>\n      <td>presencial</td>\n      <td>gabriel caamal caamal</td>\n      <td>cozumel</td>\n      <td>sur</td>\n      <td>adquisiciones</td>\n      <td>NaN</td>\n      <td>licitacion</td>\n      <td>1</td>\n      <td>0</td>\n      <td>...</td>\n      <td>0</td>\n      <td>1</td>\n      <td>0</td>\n      <td>8</td>\n      <td>14</td>\n      <td>11</td>\n      <td>19</td>\n      <td>0</td>\n      <td>0</td>\n      <td>0</td>\n    </tr>\n    <tr>\n      <th>2</th>\n      <td>NaN</td>\n      <td>NaN</td>\n      <td>adriana ortega gonzalez</td>\n      <td>salamanca</td>\n      <td>bajio</td>\n      <td>servicios relacionados con la op</td>\n      <td>43</td>\n      <td>adjudicacion</td>\n      <td>0</td>\n      <td>0</td>\n      <td>...</td>\n      <td>0</td>\n      <td>0</td>\n      <td>0</td>\n      <td>3</td>\n      <td>20</td>\n      <td>12</td>\n      <td>35</td>\n      <td>0</td>\n      <td>0</td>\n      <td>1</td>\n    </tr>\n    <tr>\n      <th>3</th>\n      <td>nacional</td>\n      <td>mixta</td>\n      <td>paulino mata gonzalez</td>\n      <td>hotmail</td>\n      <td>NaN</td>\n      <td>obra publica</td>\n      <td>43</td>\n      <td>invitacion</td>\n      <td>0</td>\n      <td>0</td>\n      <td>...</td>\n      <td>0</td>\n      <td>0</td>\n      <td>0</td>\n      <td>6</td>\n      <td>8</td>\n      <td>10</td>\n      <td>26</td>\n      <td>0</td>\n      <td>0</td>\n      <td>0</td>\n    </tr>\n    <tr>\n      <th>4</th>\n      <td>nacional</td>\n      <td>mixta</td>\n      <td>paulino mata gonzalez</td>\n      <td>hotmail</td>\n      <td>NaN</td>\n      <td>obra publica</td>\n      <td>43</td>\n      <td>invitacion</td>\n      <td>0</td>\n      <td>0</td>\n      <td>...</td>\n      <td>0</td>\n      <td>0</td>\n      <td>0</td>\n      <td>6</td>\n      <td>8</td>\n      <td>10</td>\n      <td>16</td>\n      <td>0</td>\n      <td>0</td>\n      <td>0</td>\n    </tr>\n    <tr>\n      <th>...</th>\n      <td>...</td>\n      <td>...</td>\n      <td>...</td>\n      <td>...</td>\n      <td>...</td>\n      <td>...</td>\n      <td>...</td>\n      <td>...</td>\n      <td>...</td>\n      <td>...</td>\n      <td>...</td>\n      <td>...</td>\n      <td>...</td>\n      <td>...</td>\n      <td>...</td>\n      <td>...</td>\n      <td>...</td>\n      <td>...</td>\n      <td>...</td>\n      <td>...</td>\n      <td>...</td>\n    </tr>\n    <tr>\n      <th>96117</th>\n      <td>nacional</td>\n      <td>mixta</td>\n      <td>maribel martinez lopez</td>\n      <td>semar</td>\n      <td>NaN</td>\n      <td>adquisiciones</td>\n      <td>42</td>\n      <td>adjudicacion</td>\n      <td>0</td>\n      <td>0</td>\n      <td>...</td>\n      <td>0</td>\n      <td>0</td>\n      <td>0</td>\n      <td>8</td>\n      <td>6</td>\n      <td>13</td>\n      <td>52</td>\n      <td>0</td>\n      <td>0</td>\n      <td>1</td>\n    </tr>\n    <tr>\n      <th>96118</th>\n      <td>nacional</td>\n      <td>presencial</td>\n      <td>timoteo sigala mercado</td>\n      <td>diconsa</td>\n      <td>norte</td>\n      <td>adquisiciones</td>\n      <td>41</td>\n      <td>adjudicacion</td>\n      <td>1</td>\n      <td>0</td>\n      <td>...</td>\n      <td>0</td>\n      <td>0</td>\n      <td>0</td>\n      <td>8</td>\n      <td>6</td>\n      <td>13</td>\n      <td>43</td>\n      <td>0</td>\n      <td>0</td>\n      <td>0</td>\n    </tr>\n    <tr>\n      <th>96119</th>\n      <td>nacional</td>\n      <td>presencial</td>\n      <td>ricardo gutierrez ramos</td>\n      <td>inifech</td>\n      <td>pacifico sur</td>\n      <td>obra publica</td>\n      <td>43</td>\n      <td>adjudicacion</td>\n      <td>1</td>\n      <td>0</td>\n      <td>...</td>\n      <td>0</td>\n      <td>0</td>\n      <td>0</td>\n      <td>8</td>\n      <td>6</td>\n      <td>13</td>\n      <td>32</td>\n      <td>0</td>\n      <td>0</td>\n      <td>0</td>\n    </tr>\n    <tr>\n      <th>96120</th>\n      <td>nacional</td>\n      <td>presencial</td>\n      <td>griselda rodriguez rojas</td>\n      <td>inpi</td>\n      <td>NaN</td>\n      <td>adquisiciones</td>\n      <td>41</td>\n      <td>adjudicacion</td>\n      <td>1</td>\n      <td>0</td>\n      <td>...</td>\n      <td>0</td>\n      <td>1</td>\n      <td>0</td>\n      <td>8</td>\n      <td>12</td>\n      <td>13</td>\n      <td>55</td>\n      <td>0</td>\n      <td>0</td>\n      <td>0</td>\n    </tr>\n    <tr>\n      <th>96121</th>\n      <td>nacional</td>\n      <td>electronica</td>\n      <td>karla carolina alvarez alvarez</td>\n      <td>imss</td>\n      <td>NaN</td>\n      <td>servicios</td>\n      <td>42</td>\n      <td>adjudicacion</td>\n      <td>0</td>\n      <td>1</td>\n      <td>...</td>\n      <td>0</td>\n      <td>0</td>\n      <td>0</td>\n      <td>8</td>\n      <td>6</td>\n      <td>19</td>\n      <td>8</td>\n      <td>1</td>\n      <td>0</td>\n      <td>0</td>\n    </tr>\n  </tbody>\n</table>\n<p>96122 rows × 43 columns</p>\n</div>"
     },
     "metadata": {},
     "execution_count": 2
    }
   ],
   "source": [
    "import pandas as pd\n",
    "import numpy as np\n",
    "import matplotlib.pyplot as plt\n",
    "import seaborn as sns\n",
    "\n",
    "import pickle\n",
    "\n",
    "with open('df2.data','rb') as data:\n",
    "    df = pickle.load(data)\n",
    "df"
   ]
  },
  {
   "source": [
    "# Visualizations with 1 categorical item"
   ],
   "cell_type": "markdown",
   "metadata": {}
  },
  {
   "cell_type": "code",
   "execution_count": 75,
   "metadata": {},
   "outputs": [],
   "source": [
    "def bar_plot_one_item(data, X_name, y_name, title, not_label, yes_label):\n",
    "    # Create a copy to avoid changes to the original dataframe\n",
    "    df = data[[X_name,y_name]].copy()\n",
    "    # Converto to categorical if there are numbers\n",
    "    if df[X_name].dtypes != 'object' or df[y_name].dtypes != 'object':\n",
    "        df = df.astype('object')\n",
    "    # Fill missing values with mode for categorical\n",
    "    df = df.fillna(df.mode().iloc[0])\n",
    "    # Initialize the figure with size 900x1100\n",
    "    fig = plt.figure(figsize=(9, 11))\n",
    "    pd.crosstab(df[X_name],df[y_name]).plot(kind='bar', stacked=True)\n",
    "    # Print title\n",
    "    plt.title(title)\n",
    "    # Define legend\n",
    "    plt.legend(loc=0, labels=(not_label,yes_label))\n",
    "    # Export the figure\n",
    "    plt.savefig('plot.png',bbox_inches = 'tight')\n",
    "    # Show in the console\n",
    "    plt.show()\n",
    "    \n",
    "    return None"
   ]
  },
  {
   "cell_type": "code",
   "execution_count": 77,
   "metadata": {},
   "outputs": [
    {
     "output_type": "display_data",
     "data": {
      "text/plain": "<Figure size 648x792 with 0 Axes>"
     },
     "metadata": {}
    },
    {
     "output_type": "display_data",
     "data": {
      "text/plain": "<Figure size 432x288 with 1 Axes>",
      "image/svg+xml": "<?xml version=\"1.0\" encoding=\"utf-8\" standalone=\"no\"?>\r\n<!DOCTYPE svg PUBLIC \"-//W3C//DTD SVG 1.1//EN\"\r\n  \"http://www.w3.org/Graphics/SVG/1.1/DTD/svg11.dtd\">\r\n<!-- Created with matplotlib (https://matplotlib.org/) -->\r\n<svg height=\"427.156563pt\" version=\"1.1\" viewBox=\"0 0 388.0125 427.156563\" width=\"388.0125pt\" xmlns=\"http://www.w3.org/2000/svg\" xmlns:xlink=\"http://www.w3.org/1999/xlink\">\r\n <defs>\r\n  <style type=\"text/css\">\r\n*{stroke-linecap:butt;stroke-linejoin:round;}\r\n  </style>\r\n </defs>\r\n <g id=\"figure_1\">\r\n  <g id=\"patch_1\">\r\n   <path d=\"M 0 427.156563 \r\nL 388.0125 427.156563 \r\nL 388.0125 0 \r\nL 0 0 \r\nz\r\n\" style=\"fill:none;\"/>\r\n  </g>\r\n  <g id=\"axes_1\">\r\n   <g id=\"patch_2\">\r\n    <path d=\"M 46.0125 239.758125 \r\nL 380.8125 239.758125 \r\nL 380.8125 22.318125 \r\nL 46.0125 22.318125 \r\nz\r\n\" style=\"fill:#ffffff;\"/>\r\n   </g>\r\n   <g id=\"patch_3\">\r\n    <path clip-path=\"url(#p844cc6416c)\" d=\"M 62.7525 239.758125 \r\nL 96.2325 239.758125 \r\nL 96.2325 36.820453 \r\nL 62.7525 36.820453 \r\nz\r\n\" style=\"fill:#1f77b4;\"/>\r\n   </g>\r\n   <g id=\"patch_4\">\r\n    <path clip-path=\"url(#p844cc6416c)\" d=\"M 129.7125 239.758125 \r\nL 163.1925 239.758125 \r\nL 163.1925 237.603917 \r\nL 129.7125 237.603917 \r\nz\r\n\" style=\"fill:#1f77b4;\"/>\r\n   </g>\r\n   <g id=\"patch_5\">\r\n    <path clip-path=\"url(#p844cc6416c)\" d=\"M 196.6725 239.758125 \r\nL 230.1525 239.758125 \r\nL 230.1525 210.197362 \r\nL 196.6725 210.197362 \r\nz\r\n\" style=\"fill:#1f77b4;\"/>\r\n   </g>\r\n   <g id=\"patch_6\">\r\n    <path clip-path=\"url(#p844cc6416c)\" d=\"M 263.6325 239.758125 \r\nL 297.1125 239.758125 \r\nL 297.1125 182.808145 \r\nL 263.6325 182.808145 \r\nz\r\n\" style=\"fill:#1f77b4;\"/>\r\n   </g>\r\n   <g id=\"patch_7\">\r\n    <path clip-path=\"url(#p844cc6416c)\" d=\"M 330.5925 239.758125 \r\nL 364.0725 239.758125 \r\nL 364.0725 232.710354 \r\nL 330.5925 232.710354 \r\nz\r\n\" style=\"fill:#1f77b4;\"/>\r\n   </g>\r\n   <g id=\"patch_8\">\r\n    <path clip-path=\"url(#p844cc6416c)\" d=\"M 62.7525 36.820453 \r\nL 96.2325 36.820453 \r\nL 96.2325 32.672411 \r\nL 62.7525 32.672411 \r\nz\r\n\" style=\"fill:#ff7f0e;\"/>\r\n   </g>\r\n   <g id=\"patch_9\">\r\n    <path clip-path=\"url(#p844cc6416c)\" d=\"M 129.7125 237.603917 \r\nL 163.1925 237.603917 \r\nL 163.1925 236.702357 \r\nL 129.7125 236.702357 \r\nz\r\n\" style=\"fill:#ff7f0e;\"/>\r\n   </g>\r\n   <g id=\"patch_10\">\r\n    <path clip-path=\"url(#p844cc6416c)\" d=\"M 196.6725 210.197362 \r\nL 230.1525 210.197362 \r\nL 230.1525 208.307554 \r\nL 196.6725 208.307554 \r\nz\r\n\" style=\"fill:#ff7f0e;\"/>\r\n   </g>\r\n   <g id=\"patch_11\">\r\n    <path clip-path=\"url(#p844cc6416c)\" d=\"M 263.6325 182.808145 \r\nL 297.1125 182.808145 \r\nL 297.1125 72.934863 \r\nL 263.6325 72.934863 \r\nz\r\n\" style=\"fill:#ff7f0e;\"/>\r\n   </g>\r\n   <g id=\"patch_12\">\r\n    <path clip-path=\"url(#p844cc6416c)\" d=\"M 330.5925 232.710354 \r\nL 364.0725 232.710354 \r\nL 364.0725 231.54006 \r\nL 330.5925 231.54006 \r\nz\r\n\" style=\"fill:#ff7f0e;\"/>\r\n   </g>\r\n   <g id=\"matplotlib.axis_1\">\r\n    <g id=\"xtick_1\">\r\n     <g id=\"line2d_1\">\r\n      <defs>\r\n       <path d=\"M 0 0 \r\nL 0 3.5 \r\n\" id=\"mfb05b78a9e\" style=\"stroke:#000000;stroke-width:0.8;\"/>\r\n      </defs>\r\n      <g>\r\n       <use style=\"stroke:#000000;stroke-width:0.8;\" x=\"79.4925\" xlink:href=\"#mfb05b78a9e\" y=\"239.758125\"/>\r\n      </g>\r\n     </g>\r\n     <g id=\"text_1\">\r\n      <!-- adquisiciones -->\r\n      <defs>\r\n       <path d=\"M 34.28125 27.484375 \r\nQ 23.390625 27.484375 19.1875 25 \r\nQ 14.984375 22.515625 14.984375 16.5 \r\nQ 14.984375 11.71875 18.140625 8.90625 \r\nQ 21.296875 6.109375 26.703125 6.109375 \r\nQ 34.1875 6.109375 38.703125 11.40625 \r\nQ 43.21875 16.703125 43.21875 25.484375 \r\nL 43.21875 27.484375 \r\nz\r\nM 52.203125 31.203125 \r\nL 52.203125 0 \r\nL 43.21875 0 \r\nL 43.21875 8.296875 \r\nQ 40.140625 3.328125 35.546875 0.953125 \r\nQ 30.953125 -1.421875 24.3125 -1.421875 \r\nQ 15.921875 -1.421875 10.953125 3.296875 \r\nQ 6 8.015625 6 15.921875 \r\nQ 6 25.140625 12.171875 29.828125 \r\nQ 18.359375 34.515625 30.609375 34.515625 \r\nL 43.21875 34.515625 \r\nL 43.21875 35.40625 \r\nQ 43.21875 41.609375 39.140625 45 \r\nQ 35.0625 48.390625 27.6875 48.390625 \r\nQ 23 48.390625 18.546875 47.265625 \r\nQ 14.109375 46.140625 10.015625 43.890625 \r\nL 10.015625 52.203125 \r\nQ 14.9375 54.109375 19.578125 55.046875 \r\nQ 24.21875 56 28.609375 56 \r\nQ 40.484375 56 46.34375 49.84375 \r\nQ 52.203125 43.703125 52.203125 31.203125 \r\nz\r\n\" id=\"DejaVuSans-97\"/>\r\n       <path d=\"M 45.40625 46.390625 \r\nL 45.40625 75.984375 \r\nL 54.390625 75.984375 \r\nL 54.390625 0 \r\nL 45.40625 0 \r\nL 45.40625 8.203125 \r\nQ 42.578125 3.328125 38.25 0.953125 \r\nQ 33.9375 -1.421875 27.875 -1.421875 \r\nQ 17.96875 -1.421875 11.734375 6.484375 \r\nQ 5.515625 14.40625 5.515625 27.296875 \r\nQ 5.515625 40.1875 11.734375 48.09375 \r\nQ 17.96875 56 27.875 56 \r\nQ 33.9375 56 38.25 53.625 \r\nQ 42.578125 51.265625 45.40625 46.390625 \r\nz\r\nM 14.796875 27.296875 \r\nQ 14.796875 17.390625 18.875 11.75 \r\nQ 22.953125 6.109375 30.078125 6.109375 \r\nQ 37.203125 6.109375 41.296875 11.75 \r\nQ 45.40625 17.390625 45.40625 27.296875 \r\nQ 45.40625 37.203125 41.296875 42.84375 \r\nQ 37.203125 48.484375 30.078125 48.484375 \r\nQ 22.953125 48.484375 18.875 42.84375 \r\nQ 14.796875 37.203125 14.796875 27.296875 \r\nz\r\n\" id=\"DejaVuSans-100\"/>\r\n       <path d=\"M 14.796875 27.296875 \r\nQ 14.796875 17.390625 18.875 11.75 \r\nQ 22.953125 6.109375 30.078125 6.109375 \r\nQ 37.203125 6.109375 41.296875 11.75 \r\nQ 45.40625 17.390625 45.40625 27.296875 \r\nQ 45.40625 37.203125 41.296875 42.84375 \r\nQ 37.203125 48.484375 30.078125 48.484375 \r\nQ 22.953125 48.484375 18.875 42.84375 \r\nQ 14.796875 37.203125 14.796875 27.296875 \r\nz\r\nM 45.40625 8.203125 \r\nQ 42.578125 3.328125 38.25 0.953125 \r\nQ 33.9375 -1.421875 27.875 -1.421875 \r\nQ 17.96875 -1.421875 11.734375 6.484375 \r\nQ 5.515625 14.40625 5.515625 27.296875 \r\nQ 5.515625 40.1875 11.734375 48.09375 \r\nQ 17.96875 56 27.875 56 \r\nQ 33.9375 56 38.25 53.625 \r\nQ 42.578125 51.265625 45.40625 46.390625 \r\nL 45.40625 54.6875 \r\nL 54.390625 54.6875 \r\nL 54.390625 -20.796875 \r\nL 45.40625 -20.796875 \r\nz\r\n\" id=\"DejaVuSans-113\"/>\r\n       <path d=\"M 8.5 21.578125 \r\nL 8.5 54.6875 \r\nL 17.484375 54.6875 \r\nL 17.484375 21.921875 \r\nQ 17.484375 14.15625 20.5 10.265625 \r\nQ 23.53125 6.390625 29.59375 6.390625 \r\nQ 36.859375 6.390625 41.078125 11.03125 \r\nQ 45.3125 15.671875 45.3125 23.6875 \r\nL 45.3125 54.6875 \r\nL 54.296875 54.6875 \r\nL 54.296875 0 \r\nL 45.3125 0 \r\nL 45.3125 8.40625 \r\nQ 42.046875 3.421875 37.71875 1 \r\nQ 33.40625 -1.421875 27.6875 -1.421875 \r\nQ 18.265625 -1.421875 13.375 4.4375 \r\nQ 8.5 10.296875 8.5 21.578125 \r\nz\r\nM 31.109375 56 \r\nz\r\n\" id=\"DejaVuSans-117\"/>\r\n       <path d=\"M 9.421875 54.6875 \r\nL 18.40625 54.6875 \r\nL 18.40625 0 \r\nL 9.421875 0 \r\nz\r\nM 9.421875 75.984375 \r\nL 18.40625 75.984375 \r\nL 18.40625 64.59375 \r\nL 9.421875 64.59375 \r\nz\r\n\" id=\"DejaVuSans-105\"/>\r\n       <path d=\"M 44.28125 53.078125 \r\nL 44.28125 44.578125 \r\nQ 40.484375 46.53125 36.375 47.5 \r\nQ 32.28125 48.484375 27.875 48.484375 \r\nQ 21.1875 48.484375 17.84375 46.4375 \r\nQ 14.5 44.390625 14.5 40.28125 \r\nQ 14.5 37.15625 16.890625 35.375 \r\nQ 19.28125 33.59375 26.515625 31.984375 \r\nL 29.59375 31.296875 \r\nQ 39.15625 29.25 43.1875 25.515625 \r\nQ 47.21875 21.78125 47.21875 15.09375 \r\nQ 47.21875 7.46875 41.1875 3.015625 \r\nQ 35.15625 -1.421875 24.609375 -1.421875 \r\nQ 20.21875 -1.421875 15.453125 -0.5625 \r\nQ 10.6875 0.296875 5.421875 2 \r\nL 5.421875 11.28125 \r\nQ 10.40625 8.6875 15.234375 7.390625 \r\nQ 20.0625 6.109375 24.8125 6.109375 \r\nQ 31.15625 6.109375 34.5625 8.28125 \r\nQ 37.984375 10.453125 37.984375 14.40625 \r\nQ 37.984375 18.0625 35.515625 20.015625 \r\nQ 33.0625 21.96875 24.703125 23.78125 \r\nL 21.578125 24.515625 \r\nQ 13.234375 26.265625 9.515625 29.90625 \r\nQ 5.8125 33.546875 5.8125 39.890625 \r\nQ 5.8125 47.609375 11.28125 51.796875 \r\nQ 16.75 56 26.8125 56 \r\nQ 31.78125 56 36.171875 55.265625 \r\nQ 40.578125 54.546875 44.28125 53.078125 \r\nz\r\n\" id=\"DejaVuSans-115\"/>\r\n       <path d=\"M 48.78125 52.59375 \r\nL 48.78125 44.1875 \r\nQ 44.96875 46.296875 41.140625 47.34375 \r\nQ 37.3125 48.390625 33.40625 48.390625 \r\nQ 24.65625 48.390625 19.8125 42.84375 \r\nQ 14.984375 37.3125 14.984375 27.296875 \r\nQ 14.984375 17.28125 19.8125 11.734375 \r\nQ 24.65625 6.203125 33.40625 6.203125 \r\nQ 37.3125 6.203125 41.140625 7.25 \r\nQ 44.96875 8.296875 48.78125 10.40625 \r\nL 48.78125 2.09375 \r\nQ 45.015625 0.34375 40.984375 -0.53125 \r\nQ 36.96875 -1.421875 32.421875 -1.421875 \r\nQ 20.0625 -1.421875 12.78125 6.34375 \r\nQ 5.515625 14.109375 5.515625 27.296875 \r\nQ 5.515625 40.671875 12.859375 48.328125 \r\nQ 20.21875 56 33.015625 56 \r\nQ 37.15625 56 41.109375 55.140625 \r\nQ 45.0625 54.296875 48.78125 52.59375 \r\nz\r\n\" id=\"DejaVuSans-99\"/>\r\n       <path d=\"M 30.609375 48.390625 \r\nQ 23.390625 48.390625 19.1875 42.75 \r\nQ 14.984375 37.109375 14.984375 27.296875 \r\nQ 14.984375 17.484375 19.15625 11.84375 \r\nQ 23.34375 6.203125 30.609375 6.203125 \r\nQ 37.796875 6.203125 41.984375 11.859375 \r\nQ 46.1875 17.53125 46.1875 27.296875 \r\nQ 46.1875 37.015625 41.984375 42.703125 \r\nQ 37.796875 48.390625 30.609375 48.390625 \r\nz\r\nM 30.609375 56 \r\nQ 42.328125 56 49.015625 48.375 \r\nQ 55.71875 40.765625 55.71875 27.296875 \r\nQ 55.71875 13.875 49.015625 6.21875 \r\nQ 42.328125 -1.421875 30.609375 -1.421875 \r\nQ 18.84375 -1.421875 12.171875 6.21875 \r\nQ 5.515625 13.875 5.515625 27.296875 \r\nQ 5.515625 40.765625 12.171875 48.375 \r\nQ 18.84375 56 30.609375 56 \r\nz\r\n\" id=\"DejaVuSans-111\"/>\r\n       <path d=\"M 54.890625 33.015625 \r\nL 54.890625 0 \r\nL 45.90625 0 \r\nL 45.90625 32.71875 \r\nQ 45.90625 40.484375 42.875 44.328125 \r\nQ 39.84375 48.1875 33.796875 48.1875 \r\nQ 26.515625 48.1875 22.3125 43.546875 \r\nQ 18.109375 38.921875 18.109375 30.90625 \r\nL 18.109375 0 \r\nL 9.078125 0 \r\nL 9.078125 54.6875 \r\nL 18.109375 54.6875 \r\nL 18.109375 46.1875 \r\nQ 21.34375 51.125 25.703125 53.5625 \r\nQ 30.078125 56 35.796875 56 \r\nQ 45.21875 56 50.046875 50.171875 \r\nQ 54.890625 44.34375 54.890625 33.015625 \r\nz\r\n\" id=\"DejaVuSans-110\"/>\r\n       <path d=\"M 56.203125 29.59375 \r\nL 56.203125 25.203125 \r\nL 14.890625 25.203125 \r\nQ 15.484375 15.921875 20.484375 11.0625 \r\nQ 25.484375 6.203125 34.421875 6.203125 \r\nQ 39.59375 6.203125 44.453125 7.46875 \r\nQ 49.3125 8.734375 54.109375 11.28125 \r\nL 54.109375 2.78125 \r\nQ 49.265625 0.734375 44.1875 -0.34375 \r\nQ 39.109375 -1.421875 33.890625 -1.421875 \r\nQ 20.796875 -1.421875 13.15625 6.1875 \r\nQ 5.515625 13.8125 5.515625 26.8125 \r\nQ 5.515625 40.234375 12.765625 48.109375 \r\nQ 20.015625 56 32.328125 56 \r\nQ 43.359375 56 49.78125 48.890625 \r\nQ 56.203125 41.796875 56.203125 29.59375 \r\nz\r\nM 47.21875 32.234375 \r\nQ 47.125 39.59375 43.09375 43.984375 \r\nQ 39.0625 48.390625 32.421875 48.390625 \r\nQ 24.90625 48.390625 20.390625 44.140625 \r\nQ 15.875 39.890625 15.1875 32.171875 \r\nz\r\n\" id=\"DejaVuSans-101\"/>\r\n      </defs>\r\n      <g transform=\"translate(82.251875 314.781563)rotate(-90)scale(0.1 -0.1)\">\r\n       <use xlink:href=\"#DejaVuSans-97\"/>\r\n       <use x=\"61.279297\" xlink:href=\"#DejaVuSans-100\"/>\r\n       <use x=\"124.755859\" xlink:href=\"#DejaVuSans-113\"/>\r\n       <use x=\"188.232422\" xlink:href=\"#DejaVuSans-117\"/>\r\n       <use x=\"251.611328\" xlink:href=\"#DejaVuSans-105\"/>\r\n       <use x=\"279.394531\" xlink:href=\"#DejaVuSans-115\"/>\r\n       <use x=\"331.494141\" xlink:href=\"#DejaVuSans-105\"/>\r\n       <use x=\"359.277344\" xlink:href=\"#DejaVuSans-99\"/>\r\n       <use x=\"414.257812\" xlink:href=\"#DejaVuSans-105\"/>\r\n       <use x=\"442.041016\" xlink:href=\"#DejaVuSans-111\"/>\r\n       <use x=\"503.222656\" xlink:href=\"#DejaVuSans-110\"/>\r\n       <use x=\"566.601562\" xlink:href=\"#DejaVuSans-101\"/>\r\n       <use x=\"628.125\" xlink:href=\"#DejaVuSans-115\"/>\r\n      </g>\r\n     </g>\r\n    </g>\r\n    <g id=\"xtick_2\">\r\n     <g id=\"line2d_2\">\r\n      <g>\r\n       <use style=\"stroke:#000000;stroke-width:0.8;\" x=\"146.4525\" xlink:href=\"#mfb05b78a9e\" y=\"239.758125\"/>\r\n      </g>\r\n     </g>\r\n     <g id=\"text_2\">\r\n      <!-- arrendamientos -->\r\n      <defs>\r\n       <path d=\"M 41.109375 46.296875 \r\nQ 39.59375 47.171875 37.8125 47.578125 \r\nQ 36.03125 48 33.890625 48 \r\nQ 26.265625 48 22.1875 43.046875 \r\nQ 18.109375 38.09375 18.109375 28.8125 \r\nL 18.109375 0 \r\nL 9.078125 0 \r\nL 9.078125 54.6875 \r\nL 18.109375 54.6875 \r\nL 18.109375 46.1875 \r\nQ 20.953125 51.171875 25.484375 53.578125 \r\nQ 30.03125 56 36.53125 56 \r\nQ 37.453125 56 38.578125 55.875 \r\nQ 39.703125 55.765625 41.0625 55.515625 \r\nz\r\n\" id=\"DejaVuSans-114\"/>\r\n       <path d=\"M 52 44.1875 \r\nQ 55.375 50.25 60.0625 53.125 \r\nQ 64.75 56 71.09375 56 \r\nQ 79.640625 56 84.28125 50.015625 \r\nQ 88.921875 44.046875 88.921875 33.015625 \r\nL 88.921875 0 \r\nL 79.890625 0 \r\nL 79.890625 32.71875 \r\nQ 79.890625 40.578125 77.09375 44.375 \r\nQ 74.3125 48.1875 68.609375 48.1875 \r\nQ 61.625 48.1875 57.5625 43.546875 \r\nQ 53.515625 38.921875 53.515625 30.90625 \r\nL 53.515625 0 \r\nL 44.484375 0 \r\nL 44.484375 32.71875 \r\nQ 44.484375 40.625 41.703125 44.40625 \r\nQ 38.921875 48.1875 33.109375 48.1875 \r\nQ 26.21875 48.1875 22.15625 43.53125 \r\nQ 18.109375 38.875 18.109375 30.90625 \r\nL 18.109375 0 \r\nL 9.078125 0 \r\nL 9.078125 54.6875 \r\nL 18.109375 54.6875 \r\nL 18.109375 46.1875 \r\nQ 21.1875 51.21875 25.484375 53.609375 \r\nQ 29.78125 56 35.6875 56 \r\nQ 41.65625 56 45.828125 52.96875 \r\nQ 50 49.953125 52 44.1875 \r\nz\r\n\" id=\"DejaVuSans-109\"/>\r\n       <path d=\"M 18.3125 70.21875 \r\nL 18.3125 54.6875 \r\nL 36.8125 54.6875 \r\nL 36.8125 47.703125 \r\nL 18.3125 47.703125 \r\nL 18.3125 18.015625 \r\nQ 18.3125 11.328125 20.140625 9.421875 \r\nQ 21.96875 7.515625 27.59375 7.515625 \r\nL 36.8125 7.515625 \r\nL 36.8125 0 \r\nL 27.59375 0 \r\nQ 17.1875 0 13.234375 3.875 \r\nQ 9.28125 7.765625 9.28125 18.015625 \r\nL 9.28125 47.703125 \r\nL 2.6875 47.703125 \r\nL 2.6875 54.6875 \r\nL 9.28125 54.6875 \r\nL 9.28125 70.21875 \r\nz\r\n\" id=\"DejaVuSans-116\"/>\r\n      </defs>\r\n      <g transform=\"translate(149.211875 326.328438)rotate(-90)scale(0.1 -0.1)\">\r\n       <use xlink:href=\"#DejaVuSans-97\"/>\r\n       <use x=\"61.279297\" xlink:href=\"#DejaVuSans-114\"/>\r\n       <use x=\"102.376953\" xlink:href=\"#DejaVuSans-114\"/>\r\n       <use x=\"143.458984\" xlink:href=\"#DejaVuSans-101\"/>\r\n       <use x=\"204.982422\" xlink:href=\"#DejaVuSans-110\"/>\r\n       <use x=\"268.361328\" xlink:href=\"#DejaVuSans-100\"/>\r\n       <use x=\"331.837891\" xlink:href=\"#DejaVuSans-97\"/>\r\n       <use x=\"393.117188\" xlink:href=\"#DejaVuSans-109\"/>\r\n       <use x=\"490.529297\" xlink:href=\"#DejaVuSans-105\"/>\r\n       <use x=\"518.3125\" xlink:href=\"#DejaVuSans-101\"/>\r\n       <use x=\"579.835938\" xlink:href=\"#DejaVuSans-110\"/>\r\n       <use x=\"643.214844\" xlink:href=\"#DejaVuSans-116\"/>\r\n       <use x=\"682.423828\" xlink:href=\"#DejaVuSans-111\"/>\r\n       <use x=\"743.605469\" xlink:href=\"#DejaVuSans-115\"/>\r\n      </g>\r\n     </g>\r\n    </g>\r\n    <g id=\"xtick_3\">\r\n     <g id=\"line2d_3\">\r\n      <g>\r\n       <use style=\"stroke:#000000;stroke-width:0.8;\" x=\"213.4125\" xlink:href=\"#mfb05b78a9e\" y=\"239.758125\"/>\r\n      </g>\r\n     </g>\r\n     <g id=\"text_3\">\r\n      <!-- obra publica -->\r\n      <defs>\r\n       <path d=\"M 48.6875 27.296875 \r\nQ 48.6875 37.203125 44.609375 42.84375 \r\nQ 40.53125 48.484375 33.40625 48.484375 \r\nQ 26.265625 48.484375 22.1875 42.84375 \r\nQ 18.109375 37.203125 18.109375 27.296875 \r\nQ 18.109375 17.390625 22.1875 11.75 \r\nQ 26.265625 6.109375 33.40625 6.109375 \r\nQ 40.53125 6.109375 44.609375 11.75 \r\nQ 48.6875 17.390625 48.6875 27.296875 \r\nz\r\nM 18.109375 46.390625 \r\nQ 20.953125 51.265625 25.265625 53.625 \r\nQ 29.59375 56 35.59375 56 \r\nQ 45.5625 56 51.78125 48.09375 \r\nQ 58.015625 40.1875 58.015625 27.296875 \r\nQ 58.015625 14.40625 51.78125 6.484375 \r\nQ 45.5625 -1.421875 35.59375 -1.421875 \r\nQ 29.59375 -1.421875 25.265625 0.953125 \r\nQ 20.953125 3.328125 18.109375 8.203125 \r\nL 18.109375 0 \r\nL 9.078125 0 \r\nL 9.078125 75.984375 \r\nL 18.109375 75.984375 \r\nz\r\n\" id=\"DejaVuSans-98\"/>\r\n       <path id=\"DejaVuSans-32\"/>\r\n       <path d=\"M 18.109375 8.203125 \r\nL 18.109375 -20.796875 \r\nL 9.078125 -20.796875 \r\nL 9.078125 54.6875 \r\nL 18.109375 54.6875 \r\nL 18.109375 46.390625 \r\nQ 20.953125 51.265625 25.265625 53.625 \r\nQ 29.59375 56 35.59375 56 \r\nQ 45.5625 56 51.78125 48.09375 \r\nQ 58.015625 40.1875 58.015625 27.296875 \r\nQ 58.015625 14.40625 51.78125 6.484375 \r\nQ 45.5625 -1.421875 35.59375 -1.421875 \r\nQ 29.59375 -1.421875 25.265625 0.953125 \r\nQ 20.953125 3.328125 18.109375 8.203125 \r\nz\r\nM 48.6875 27.296875 \r\nQ 48.6875 37.203125 44.609375 42.84375 \r\nQ 40.53125 48.484375 33.40625 48.484375 \r\nQ 26.265625 48.484375 22.1875 42.84375 \r\nQ 18.109375 37.203125 18.109375 27.296875 \r\nQ 18.109375 17.390625 22.1875 11.75 \r\nQ 26.265625 6.109375 33.40625 6.109375 \r\nQ 40.53125 6.109375 44.609375 11.75 \r\nQ 48.6875 17.390625 48.6875 27.296875 \r\nz\r\n\" id=\"DejaVuSans-112\"/>\r\n       <path d=\"M 9.421875 75.984375 \r\nL 18.40625 75.984375 \r\nL 18.40625 0 \r\nL 9.421875 0 \r\nz\r\n\" id=\"DejaVuSans-108\"/>\r\n      </defs>\r\n      <g transform=\"translate(216.171875 308.859688)rotate(-90)scale(0.1 -0.1)\">\r\n       <use xlink:href=\"#DejaVuSans-111\"/>\r\n       <use x=\"61.181641\" xlink:href=\"#DejaVuSans-98\"/>\r\n       <use x=\"124.658203\" xlink:href=\"#DejaVuSans-114\"/>\r\n       <use x=\"165.771484\" xlink:href=\"#DejaVuSans-97\"/>\r\n       <use x=\"227.050781\" xlink:href=\"#DejaVuSans-32\"/>\r\n       <use x=\"258.837891\" xlink:href=\"#DejaVuSans-112\"/>\r\n       <use x=\"322.314453\" xlink:href=\"#DejaVuSans-117\"/>\r\n       <use x=\"385.693359\" xlink:href=\"#DejaVuSans-98\"/>\r\n       <use x=\"449.169922\" xlink:href=\"#DejaVuSans-108\"/>\r\n       <use x=\"476.953125\" xlink:href=\"#DejaVuSans-105\"/>\r\n       <use x=\"504.736328\" xlink:href=\"#DejaVuSans-99\"/>\r\n       <use x=\"559.716797\" xlink:href=\"#DejaVuSans-97\"/>\r\n      </g>\r\n     </g>\r\n    </g>\r\n    <g id=\"xtick_4\">\r\n     <g id=\"line2d_4\">\r\n      <g>\r\n       <use style=\"stroke:#000000;stroke-width:0.8;\" x=\"280.3725\" xlink:href=\"#mfb05b78a9e\" y=\"239.758125\"/>\r\n      </g>\r\n     </g>\r\n     <g id=\"text_4\">\r\n      <!-- servicios -->\r\n      <defs>\r\n       <path d=\"M 2.984375 54.6875 \r\nL 12.5 54.6875 \r\nL 29.59375 8.796875 \r\nL 46.6875 54.6875 \r\nL 56.203125 54.6875 \r\nL 35.6875 0 \r\nL 23.484375 0 \r\nz\r\n\" id=\"DejaVuSans-118\"/>\r\n      </defs>\r\n      <g transform=\"translate(283.131875 290.533125)rotate(-90)scale(0.1 -0.1)\">\r\n       <use xlink:href=\"#DejaVuSans-115\"/>\r\n       <use x=\"52.099609\" xlink:href=\"#DejaVuSans-101\"/>\r\n       <use x=\"113.623047\" xlink:href=\"#DejaVuSans-114\"/>\r\n       <use x=\"154.736328\" xlink:href=\"#DejaVuSans-118\"/>\r\n       <use x=\"213.916016\" xlink:href=\"#DejaVuSans-105\"/>\r\n       <use x=\"241.699219\" xlink:href=\"#DejaVuSans-99\"/>\r\n       <use x=\"296.679688\" xlink:href=\"#DejaVuSans-105\"/>\r\n       <use x=\"324.462891\" xlink:href=\"#DejaVuSans-111\"/>\r\n       <use x=\"385.644531\" xlink:href=\"#DejaVuSans-115\"/>\r\n      </g>\r\n     </g>\r\n    </g>\r\n    <g id=\"xtick_5\">\r\n     <g id=\"line2d_5\">\r\n      <g>\r\n       <use style=\"stroke:#000000;stroke-width:0.8;\" x=\"347.3325\" xlink:href=\"#mfb05b78a9e\" y=\"239.758125\"/>\r\n      </g>\r\n     </g>\r\n     <g id=\"text_5\">\r\n      <!-- servicios relacionados con la op -->\r\n      <g transform=\"translate(350.091875 406.278438)rotate(-90)scale(0.1 -0.1)\">\r\n       <use xlink:href=\"#DejaVuSans-115\"/>\r\n       <use x=\"52.099609\" xlink:href=\"#DejaVuSans-101\"/>\r\n       <use x=\"113.623047\" xlink:href=\"#DejaVuSans-114\"/>\r\n       <use x=\"154.736328\" xlink:href=\"#DejaVuSans-118\"/>\r\n       <use x=\"213.916016\" xlink:href=\"#DejaVuSans-105\"/>\r\n       <use x=\"241.699219\" xlink:href=\"#DejaVuSans-99\"/>\r\n       <use x=\"296.679688\" xlink:href=\"#DejaVuSans-105\"/>\r\n       <use x=\"324.462891\" xlink:href=\"#DejaVuSans-111\"/>\r\n       <use x=\"385.644531\" xlink:href=\"#DejaVuSans-115\"/>\r\n       <use x=\"437.744141\" xlink:href=\"#DejaVuSans-32\"/>\r\n       <use x=\"469.53125\" xlink:href=\"#DejaVuSans-114\"/>\r\n       <use x=\"510.613281\" xlink:href=\"#DejaVuSans-101\"/>\r\n       <use x=\"572.136719\" xlink:href=\"#DejaVuSans-108\"/>\r\n       <use x=\"599.919922\" xlink:href=\"#DejaVuSans-97\"/>\r\n       <use x=\"661.199219\" xlink:href=\"#DejaVuSans-99\"/>\r\n       <use x=\"716.179688\" xlink:href=\"#DejaVuSans-105\"/>\r\n       <use x=\"743.962891\" xlink:href=\"#DejaVuSans-111\"/>\r\n       <use x=\"805.144531\" xlink:href=\"#DejaVuSans-110\"/>\r\n       <use x=\"868.523438\" xlink:href=\"#DejaVuSans-97\"/>\r\n       <use x=\"929.802734\" xlink:href=\"#DejaVuSans-100\"/>\r\n       <use x=\"993.279297\" xlink:href=\"#DejaVuSans-111\"/>\r\n       <use x=\"1054.460938\" xlink:href=\"#DejaVuSans-115\"/>\r\n       <use x=\"1106.560547\" xlink:href=\"#DejaVuSans-32\"/>\r\n       <use x=\"1138.347656\" xlink:href=\"#DejaVuSans-99\"/>\r\n       <use x=\"1193.328125\" xlink:href=\"#DejaVuSans-111\"/>\r\n       <use x=\"1254.509766\" xlink:href=\"#DejaVuSans-110\"/>\r\n       <use x=\"1317.888672\" xlink:href=\"#DejaVuSans-32\"/>\r\n       <use x=\"1349.675781\" xlink:href=\"#DejaVuSans-108\"/>\r\n       <use x=\"1377.458984\" xlink:href=\"#DejaVuSans-97\"/>\r\n       <use x=\"1438.738281\" xlink:href=\"#DejaVuSans-32\"/>\r\n       <use x=\"1470.525391\" xlink:href=\"#DejaVuSans-111\"/>\r\n       <use x=\"1531.707031\" xlink:href=\"#DejaVuSans-112\"/>\r\n      </g>\r\n     </g>\r\n    </g>\r\n    <g id=\"text_6\">\r\n     <!-- Tipo de contratacion -->\r\n     <defs>\r\n      <path d=\"M -0.296875 72.90625 \r\nL 61.375 72.90625 \r\nL 61.375 64.59375 \r\nL 35.5 64.59375 \r\nL 35.5 0 \r\nL 25.59375 0 \r\nL 25.59375 64.59375 \r\nL -0.296875 64.59375 \r\nz\r\n\" id=\"DejaVuSans-84\"/>\r\n     </defs>\r\n     <g transform=\"translate(161.861719 417.876875)scale(0.1 -0.1)\">\r\n      <use xlink:href=\"#DejaVuSans-84\"/>\r\n      <use x=\"61.037109\" xlink:href=\"#DejaVuSans-105\"/>\r\n      <use x=\"88.820312\" xlink:href=\"#DejaVuSans-112\"/>\r\n      <use x=\"152.296875\" xlink:href=\"#DejaVuSans-111\"/>\r\n      <use x=\"213.478516\" xlink:href=\"#DejaVuSans-32\"/>\r\n      <use x=\"245.265625\" xlink:href=\"#DejaVuSans-100\"/>\r\n      <use x=\"308.742188\" xlink:href=\"#DejaVuSans-101\"/>\r\n      <use x=\"370.265625\" xlink:href=\"#DejaVuSans-32\"/>\r\n      <use x=\"402.052734\" xlink:href=\"#DejaVuSans-99\"/>\r\n      <use x=\"457.033203\" xlink:href=\"#DejaVuSans-111\"/>\r\n      <use x=\"518.214844\" xlink:href=\"#DejaVuSans-110\"/>\r\n      <use x=\"581.59375\" xlink:href=\"#DejaVuSans-116\"/>\r\n      <use x=\"620.802734\" xlink:href=\"#DejaVuSans-114\"/>\r\n      <use x=\"661.916016\" xlink:href=\"#DejaVuSans-97\"/>\r\n      <use x=\"723.195312\" xlink:href=\"#DejaVuSans-116\"/>\r\n      <use x=\"762.404297\" xlink:href=\"#DejaVuSans-97\"/>\r\n      <use x=\"823.683594\" xlink:href=\"#DejaVuSans-99\"/>\r\n      <use x=\"878.664062\" xlink:href=\"#DejaVuSans-105\"/>\r\n      <use x=\"906.447266\" xlink:href=\"#DejaVuSans-111\"/>\r\n      <use x=\"967.628906\" xlink:href=\"#DejaVuSans-110\"/>\r\n     </g>\r\n    </g>\r\n   </g>\r\n   <g id=\"matplotlib.axis_2\">\r\n    <g id=\"ytick_1\">\r\n     <g id=\"line2d_6\">\r\n      <defs>\r\n       <path d=\"M 0 0 \r\nL -3.5 0 \r\n\" id=\"mc2514c45ff\" style=\"stroke:#000000;stroke-width:0.8;\"/>\r\n      </defs>\r\n      <g>\r\n       <use style=\"stroke:#000000;stroke-width:0.8;\" x=\"46.0125\" xlink:href=\"#mc2514c45ff\" y=\"239.758125\"/>\r\n      </g>\r\n     </g>\r\n     <g id=\"text_7\">\r\n      <!-- 0 -->\r\n      <defs>\r\n       <path d=\"M 31.78125 66.40625 \r\nQ 24.171875 66.40625 20.328125 58.90625 \r\nQ 16.5 51.421875 16.5 36.375 \r\nQ 16.5 21.390625 20.328125 13.890625 \r\nQ 24.171875 6.390625 31.78125 6.390625 \r\nQ 39.453125 6.390625 43.28125 13.890625 \r\nQ 47.125 21.390625 47.125 36.375 \r\nQ 47.125 51.421875 43.28125 58.90625 \r\nQ 39.453125 66.40625 31.78125 66.40625 \r\nz\r\nM 31.78125 74.21875 \r\nQ 44.046875 74.21875 50.515625 64.515625 \r\nQ 56.984375 54.828125 56.984375 36.375 \r\nQ 56.984375 17.96875 50.515625 8.265625 \r\nQ 44.046875 -1.421875 31.78125 -1.421875 \r\nQ 19.53125 -1.421875 13.0625 8.265625 \r\nQ 6.59375 17.96875 6.59375 36.375 \r\nQ 6.59375 54.828125 13.0625 64.515625 \r\nQ 19.53125 74.21875 31.78125 74.21875 \r\nz\r\n\" id=\"DejaVuSans-48\"/>\r\n      </defs>\r\n      <g transform=\"translate(32.65 243.557344)scale(0.1 -0.1)\">\r\n       <use xlink:href=\"#DejaVuSans-48\"/>\r\n      </g>\r\n     </g>\r\n    </g>\r\n    <g id=\"ytick_2\">\r\n     <g id=\"line2d_7\">\r\n      <g>\r\n       <use style=\"stroke:#000000;stroke-width:0.8;\" x=\"46.0125\" xlink:href=\"#mc2514c45ff\" y=\"196.413898\"/>\r\n      </g>\r\n     </g>\r\n     <g id=\"text_8\">\r\n      <!-- 10000 -->\r\n      <defs>\r\n       <path d=\"M 12.40625 8.296875 \r\nL 28.515625 8.296875 \r\nL 28.515625 63.921875 \r\nL 10.984375 60.40625 \r\nL 10.984375 69.390625 \r\nL 28.421875 72.90625 \r\nL 38.28125 72.90625 \r\nL 38.28125 8.296875 \r\nL 54.390625 8.296875 \r\nL 54.390625 0 \r\nL 12.40625 0 \r\nz\r\n\" id=\"DejaVuSans-49\"/>\r\n      </defs>\r\n      <g transform=\"translate(7.2 200.213117)scale(0.1 -0.1)\">\r\n       <use xlink:href=\"#DejaVuSans-49\"/>\r\n       <use x=\"63.623047\" xlink:href=\"#DejaVuSans-48\"/>\r\n       <use x=\"127.246094\" xlink:href=\"#DejaVuSans-48\"/>\r\n       <use x=\"190.869141\" xlink:href=\"#DejaVuSans-48\"/>\r\n       <use x=\"254.492188\" xlink:href=\"#DejaVuSans-48\"/>\r\n      </g>\r\n     </g>\r\n    </g>\r\n    <g id=\"ytick_3\">\r\n     <g id=\"line2d_8\">\r\n      <g>\r\n       <use style=\"stroke:#000000;stroke-width:0.8;\" x=\"46.0125\" xlink:href=\"#mc2514c45ff\" y=\"153.069671\"/>\r\n      </g>\r\n     </g>\r\n     <g id=\"text_9\">\r\n      <!-- 20000 -->\r\n      <defs>\r\n       <path d=\"M 19.1875 8.296875 \r\nL 53.609375 8.296875 \r\nL 53.609375 0 \r\nL 7.328125 0 \r\nL 7.328125 8.296875 \r\nQ 12.9375 14.109375 22.625 23.890625 \r\nQ 32.328125 33.6875 34.8125 36.53125 \r\nQ 39.546875 41.84375 41.421875 45.53125 \r\nQ 43.3125 49.21875 43.3125 52.78125 \r\nQ 43.3125 58.59375 39.234375 62.25 \r\nQ 35.15625 65.921875 28.609375 65.921875 \r\nQ 23.96875 65.921875 18.8125 64.3125 \r\nQ 13.671875 62.703125 7.8125 59.421875 \r\nL 7.8125 69.390625 \r\nQ 13.765625 71.78125 18.9375 73 \r\nQ 24.125 74.21875 28.421875 74.21875 \r\nQ 39.75 74.21875 46.484375 68.546875 \r\nQ 53.21875 62.890625 53.21875 53.421875 \r\nQ 53.21875 48.921875 51.53125 44.890625 \r\nQ 49.859375 40.875 45.40625 35.40625 \r\nQ 44.1875 33.984375 37.640625 27.21875 \r\nQ 31.109375 20.453125 19.1875 8.296875 \r\nz\r\n\" id=\"DejaVuSans-50\"/>\r\n      </defs>\r\n      <g transform=\"translate(7.2 156.868889)scale(0.1 -0.1)\">\r\n       <use xlink:href=\"#DejaVuSans-50\"/>\r\n       <use x=\"63.623047\" xlink:href=\"#DejaVuSans-48\"/>\r\n       <use x=\"127.246094\" xlink:href=\"#DejaVuSans-48\"/>\r\n       <use x=\"190.869141\" xlink:href=\"#DejaVuSans-48\"/>\r\n       <use x=\"254.492188\" xlink:href=\"#DejaVuSans-48\"/>\r\n      </g>\r\n     </g>\r\n    </g>\r\n    <g id=\"ytick_4\">\r\n     <g id=\"line2d_9\">\r\n      <g>\r\n       <use style=\"stroke:#000000;stroke-width:0.8;\" x=\"46.0125\" xlink:href=\"#mc2514c45ff\" y=\"109.725443\"/>\r\n      </g>\r\n     </g>\r\n     <g id=\"text_10\">\r\n      <!-- 30000 -->\r\n      <defs>\r\n       <path d=\"M 40.578125 39.3125 \r\nQ 47.65625 37.796875 51.625 33 \r\nQ 55.609375 28.21875 55.609375 21.1875 \r\nQ 55.609375 10.40625 48.1875 4.484375 \r\nQ 40.765625 -1.421875 27.09375 -1.421875 \r\nQ 22.515625 -1.421875 17.65625 -0.515625 \r\nQ 12.796875 0.390625 7.625 2.203125 \r\nL 7.625 11.71875 \r\nQ 11.71875 9.328125 16.59375 8.109375 \r\nQ 21.484375 6.890625 26.8125 6.890625 \r\nQ 36.078125 6.890625 40.9375 10.546875 \r\nQ 45.796875 14.203125 45.796875 21.1875 \r\nQ 45.796875 27.640625 41.28125 31.265625 \r\nQ 36.765625 34.90625 28.71875 34.90625 \r\nL 20.21875 34.90625 \r\nL 20.21875 43.015625 \r\nL 29.109375 43.015625 \r\nQ 36.375 43.015625 40.234375 45.921875 \r\nQ 44.09375 48.828125 44.09375 54.296875 \r\nQ 44.09375 59.90625 40.109375 62.90625 \r\nQ 36.140625 65.921875 28.71875 65.921875 \r\nQ 24.65625 65.921875 20.015625 65.03125 \r\nQ 15.375 64.15625 9.8125 62.3125 \r\nL 9.8125 71.09375 \r\nQ 15.4375 72.65625 20.34375 73.4375 \r\nQ 25.25 74.21875 29.59375 74.21875 \r\nQ 40.828125 74.21875 47.359375 69.109375 \r\nQ 53.90625 64.015625 53.90625 55.328125 \r\nQ 53.90625 49.265625 50.4375 45.09375 \r\nQ 46.96875 40.921875 40.578125 39.3125 \r\nz\r\n\" id=\"DejaVuSans-51\"/>\r\n      </defs>\r\n      <g transform=\"translate(7.2 113.524662)scale(0.1 -0.1)\">\r\n       <use xlink:href=\"#DejaVuSans-51\"/>\r\n       <use x=\"63.623047\" xlink:href=\"#DejaVuSans-48\"/>\r\n       <use x=\"127.246094\" xlink:href=\"#DejaVuSans-48\"/>\r\n       <use x=\"190.869141\" xlink:href=\"#DejaVuSans-48\"/>\r\n       <use x=\"254.492188\" xlink:href=\"#DejaVuSans-48\"/>\r\n      </g>\r\n     </g>\r\n    </g>\r\n    <g id=\"ytick_5\">\r\n     <g id=\"line2d_10\">\r\n      <g>\r\n       <use style=\"stroke:#000000;stroke-width:0.8;\" x=\"46.0125\" xlink:href=\"#mc2514c45ff\" y=\"66.381216\"/>\r\n      </g>\r\n     </g>\r\n     <g id=\"text_11\">\r\n      <!-- 40000 -->\r\n      <defs>\r\n       <path d=\"M 37.796875 64.3125 \r\nL 12.890625 25.390625 \r\nL 37.796875 25.390625 \r\nz\r\nM 35.203125 72.90625 \r\nL 47.609375 72.90625 \r\nL 47.609375 25.390625 \r\nL 58.015625 25.390625 \r\nL 58.015625 17.1875 \r\nL 47.609375 17.1875 \r\nL 47.609375 0 \r\nL 37.796875 0 \r\nL 37.796875 17.1875 \r\nL 4.890625 17.1875 \r\nL 4.890625 26.703125 \r\nz\r\n\" id=\"DejaVuSans-52\"/>\r\n      </defs>\r\n      <g transform=\"translate(7.2 70.180435)scale(0.1 -0.1)\">\r\n       <use xlink:href=\"#DejaVuSans-52\"/>\r\n       <use x=\"63.623047\" xlink:href=\"#DejaVuSans-48\"/>\r\n       <use x=\"127.246094\" xlink:href=\"#DejaVuSans-48\"/>\r\n       <use x=\"190.869141\" xlink:href=\"#DejaVuSans-48\"/>\r\n       <use x=\"254.492188\" xlink:href=\"#DejaVuSans-48\"/>\r\n      </g>\r\n     </g>\r\n    </g>\r\n    <g id=\"ytick_6\">\r\n     <g id=\"line2d_11\">\r\n      <g>\r\n       <use style=\"stroke:#000000;stroke-width:0.8;\" x=\"46.0125\" xlink:href=\"#mc2514c45ff\" y=\"23.036989\"/>\r\n      </g>\r\n     </g>\r\n     <g id=\"text_12\">\r\n      <!-- 50000 -->\r\n      <defs>\r\n       <path d=\"M 10.796875 72.90625 \r\nL 49.515625 72.90625 \r\nL 49.515625 64.59375 \r\nL 19.828125 64.59375 \r\nL 19.828125 46.734375 \r\nQ 21.96875 47.46875 24.109375 47.828125 \r\nQ 26.265625 48.1875 28.421875 48.1875 \r\nQ 40.625 48.1875 47.75 41.5 \r\nQ 54.890625 34.8125 54.890625 23.390625 \r\nQ 54.890625 11.625 47.5625 5.09375 \r\nQ 40.234375 -1.421875 26.90625 -1.421875 \r\nQ 22.3125 -1.421875 17.546875 -0.640625 \r\nQ 12.796875 0.140625 7.71875 1.703125 \r\nL 7.71875 11.625 \r\nQ 12.109375 9.234375 16.796875 8.0625 \r\nQ 21.484375 6.890625 26.703125 6.890625 \r\nQ 35.15625 6.890625 40.078125 11.328125 \r\nQ 45.015625 15.765625 45.015625 23.390625 \r\nQ 45.015625 31 40.078125 35.4375 \r\nQ 35.15625 39.890625 26.703125 39.890625 \r\nQ 22.75 39.890625 18.8125 39.015625 \r\nQ 14.890625 38.140625 10.796875 36.28125 \r\nz\r\n\" id=\"DejaVuSans-53\"/>\r\n      </defs>\r\n      <g transform=\"translate(7.2 26.836208)scale(0.1 -0.1)\">\r\n       <use xlink:href=\"#DejaVuSans-53\"/>\r\n       <use x=\"63.623047\" xlink:href=\"#DejaVuSans-48\"/>\r\n       <use x=\"127.246094\" xlink:href=\"#DejaVuSans-48\"/>\r\n       <use x=\"190.869141\" xlink:href=\"#DejaVuSans-48\"/>\r\n       <use x=\"254.492188\" xlink:href=\"#DejaVuSans-48\"/>\r\n      </g>\r\n     </g>\r\n    </g>\r\n   </g>\r\n   <g id=\"patch_13\">\r\n    <path d=\"M 46.0125 239.758125 \r\nL 46.0125 22.318125 \r\n\" style=\"fill:none;stroke:#000000;stroke-linecap:square;stroke-linejoin:miter;stroke-width:0.8;\"/>\r\n   </g>\r\n   <g id=\"patch_14\">\r\n    <path d=\"M 380.8125 239.758125 \r\nL 380.8125 22.318125 \r\n\" style=\"fill:none;stroke:#000000;stroke-linecap:square;stroke-linejoin:miter;stroke-width:0.8;\"/>\r\n   </g>\r\n   <g id=\"patch_15\">\r\n    <path d=\"M 46.0125 239.758125 \r\nL 380.8125 239.758125 \r\n\" style=\"fill:none;stroke:#000000;stroke-linecap:square;stroke-linejoin:miter;stroke-width:0.8;\"/>\r\n   </g>\r\n   <g id=\"patch_16\">\r\n    <path d=\"M 46.0125 22.318125 \r\nL 380.8125 22.318125 \r\n\" style=\"fill:none;stroke:#000000;stroke-linecap:square;stroke-linejoin:miter;stroke-width:0.8;\"/>\r\n   </g>\r\n   <g id=\"text_13\">\r\n    <!-- Pattern: Tipo_de_contratacion == 'servicios' -->\r\n    <defs>\r\n     <path d=\"M 19.671875 64.796875 \r\nL 19.671875 37.40625 \r\nL 32.078125 37.40625 \r\nQ 38.96875 37.40625 42.71875 40.96875 \r\nQ 46.484375 44.53125 46.484375 51.125 \r\nQ 46.484375 57.671875 42.71875 61.234375 \r\nQ 38.96875 64.796875 32.078125 64.796875 \r\nz\r\nM 9.8125 72.90625 \r\nL 32.078125 72.90625 \r\nQ 44.34375 72.90625 50.609375 67.359375 \r\nQ 56.890625 61.8125 56.890625 51.125 \r\nQ 56.890625 40.328125 50.609375 34.8125 \r\nQ 44.34375 29.296875 32.078125 29.296875 \r\nL 19.671875 29.296875 \r\nL 19.671875 0 \r\nL 9.8125 0 \r\nz\r\n\" id=\"DejaVuSans-80\"/>\r\n     <path d=\"M 11.71875 12.40625 \r\nL 22.015625 12.40625 \r\nL 22.015625 0 \r\nL 11.71875 0 \r\nz\r\nM 11.71875 51.703125 \r\nL 22.015625 51.703125 \r\nL 22.015625 39.3125 \r\nL 11.71875 39.3125 \r\nz\r\n\" id=\"DejaVuSans-58\"/>\r\n     <path d=\"M 50.984375 -16.609375 \r\nL 50.984375 -23.578125 \r\nL -0.984375 -23.578125 \r\nL -0.984375 -16.609375 \r\nz\r\n\" id=\"DejaVuSans-95\"/>\r\n     <path d=\"M 10.59375 45.40625 \r\nL 73.1875 45.40625 \r\nL 73.1875 37.203125 \r\nL 10.59375 37.203125 \r\nz\r\nM 10.59375 25.484375 \r\nL 73.1875 25.484375 \r\nL 73.1875 17.1875 \r\nL 10.59375 17.1875 \r\nz\r\n\" id=\"DejaVuSans-61\"/>\r\n     <path d=\"M 17.921875 72.90625 \r\nL 17.921875 45.796875 \r\nL 9.625 45.796875 \r\nL 9.625 72.90625 \r\nz\r\n\" id=\"DejaVuSans-39\"/>\r\n    </defs>\r\n    <g transform=\"translate(80.049375 16.318125)scale(0.12 -0.12)\">\r\n     <use xlink:href=\"#DejaVuSans-80\"/>\r\n     <use x=\"60.240234\" xlink:href=\"#DejaVuSans-97\"/>\r\n     <use x=\"121.519531\" xlink:href=\"#DejaVuSans-116\"/>\r\n     <use x=\"160.728516\" xlink:href=\"#DejaVuSans-116\"/>\r\n     <use x=\"199.9375\" xlink:href=\"#DejaVuSans-101\"/>\r\n     <use x=\"261.460938\" xlink:href=\"#DejaVuSans-114\"/>\r\n     <use x=\"302.558594\" xlink:href=\"#DejaVuSans-110\"/>\r\n     <use x=\"365.9375\" xlink:href=\"#DejaVuSans-58\"/>\r\n     <use x=\"399.628906\" xlink:href=\"#DejaVuSans-32\"/>\r\n     <use x=\"431.416016\" xlink:href=\"#DejaVuSans-84\"/>\r\n     <use x=\"492.453125\" xlink:href=\"#DejaVuSans-105\"/>\r\n     <use x=\"520.236328\" xlink:href=\"#DejaVuSans-112\"/>\r\n     <use x=\"583.712891\" xlink:href=\"#DejaVuSans-111\"/>\r\n     <use x=\"644.894531\" xlink:href=\"#DejaVuSans-95\"/>\r\n     <use x=\"694.894531\" xlink:href=\"#DejaVuSans-100\"/>\r\n     <use x=\"758.371094\" xlink:href=\"#DejaVuSans-101\"/>\r\n     <use x=\"819.894531\" xlink:href=\"#DejaVuSans-95\"/>\r\n     <use x=\"869.894531\" xlink:href=\"#DejaVuSans-99\"/>\r\n     <use x=\"924.875\" xlink:href=\"#DejaVuSans-111\"/>\r\n     <use x=\"986.056641\" xlink:href=\"#DejaVuSans-110\"/>\r\n     <use x=\"1049.435547\" xlink:href=\"#DejaVuSans-116\"/>\r\n     <use x=\"1088.644531\" xlink:href=\"#DejaVuSans-114\"/>\r\n     <use x=\"1129.757812\" xlink:href=\"#DejaVuSans-97\"/>\r\n     <use x=\"1191.037109\" xlink:href=\"#DejaVuSans-116\"/>\r\n     <use x=\"1230.246094\" xlink:href=\"#DejaVuSans-97\"/>\r\n     <use x=\"1291.525391\" xlink:href=\"#DejaVuSans-99\"/>\r\n     <use x=\"1346.505859\" xlink:href=\"#DejaVuSans-105\"/>\r\n     <use x=\"1374.289062\" xlink:href=\"#DejaVuSans-111\"/>\r\n     <use x=\"1435.470703\" xlink:href=\"#DejaVuSans-110\"/>\r\n     <use x=\"1498.849609\" xlink:href=\"#DejaVuSans-32\"/>\r\n     <use x=\"1530.636719\" xlink:href=\"#DejaVuSans-61\"/>\r\n     <use x=\"1614.425781\" xlink:href=\"#DejaVuSans-61\"/>\r\n     <use x=\"1698.214844\" xlink:href=\"#DejaVuSans-32\"/>\r\n     <use x=\"1730.001953\" xlink:href=\"#DejaVuSans-39\"/>\r\n     <use x=\"1757.492188\" xlink:href=\"#DejaVuSans-115\"/>\r\n     <use x=\"1809.591797\" xlink:href=\"#DejaVuSans-101\"/>\r\n     <use x=\"1871.115234\" xlink:href=\"#DejaVuSans-114\"/>\r\n     <use x=\"1912.228516\" xlink:href=\"#DejaVuSans-118\"/>\r\n     <use x=\"1971.408203\" xlink:href=\"#DejaVuSans-105\"/>\r\n     <use x=\"1999.191406\" xlink:href=\"#DejaVuSans-99\"/>\r\n     <use x=\"2054.171875\" xlink:href=\"#DejaVuSans-105\"/>\r\n     <use x=\"2081.955078\" xlink:href=\"#DejaVuSans-111\"/>\r\n     <use x=\"2143.136719\" xlink:href=\"#DejaVuSans-115\"/>\r\n     <use x=\"2195.236328\" xlink:href=\"#DejaVuSans-39\"/>\r\n    </g>\r\n   </g>\r\n   <g id=\"legend_1\">\r\n    <g id=\"patch_17\">\r\n     <path d=\"M 196.5875 59.674375 \r\nL 373.8125 59.674375 \r\nQ 375.8125 59.674375 375.8125 57.674375 \r\nL 375.8125 29.318125 \r\nQ 375.8125 27.318125 373.8125 27.318125 \r\nL 196.5875 27.318125 \r\nQ 194.5875 27.318125 194.5875 29.318125 \r\nL 194.5875 57.674375 \r\nQ 194.5875 59.674375 196.5875 59.674375 \r\nz\r\n\" style=\"fill:#ffffff;opacity:0.8;stroke:#cccccc;stroke-linejoin:miter;\"/>\r\n    </g>\r\n    <g id=\"patch_18\">\r\n     <path d=\"M 198.5875 38.916563 \r\nL 218.5875 38.916563 \r\nL 218.5875 31.916563 \r\nL 198.5875 31.916563 \r\nz\r\n\" style=\"fill:#1f77b4;\"/>\r\n    </g>\r\n    <g id=\"text_14\">\r\n     <!-- Does not have \"servici\" in ad -->\r\n     <defs>\r\n      <path d=\"M 19.671875 64.796875 \r\nL 19.671875 8.109375 \r\nL 31.59375 8.109375 \r\nQ 46.6875 8.109375 53.6875 14.9375 \r\nQ 60.6875 21.78125 60.6875 36.53125 \r\nQ 60.6875 51.171875 53.6875 57.984375 \r\nQ 46.6875 64.796875 31.59375 64.796875 \r\nz\r\nM 9.8125 72.90625 \r\nL 30.078125 72.90625 \r\nQ 51.265625 72.90625 61.171875 64.09375 \r\nQ 71.09375 55.28125 71.09375 36.53125 \r\nQ 71.09375 17.671875 61.125 8.828125 \r\nQ 51.171875 0 30.078125 0 \r\nL 9.8125 0 \r\nz\r\n\" id=\"DejaVuSans-68\"/>\r\n      <path d=\"M 54.890625 33.015625 \r\nL 54.890625 0 \r\nL 45.90625 0 \r\nL 45.90625 32.71875 \r\nQ 45.90625 40.484375 42.875 44.328125 \r\nQ 39.84375 48.1875 33.796875 48.1875 \r\nQ 26.515625 48.1875 22.3125 43.546875 \r\nQ 18.109375 38.921875 18.109375 30.90625 \r\nL 18.109375 0 \r\nL 9.078125 0 \r\nL 9.078125 75.984375 \r\nL 18.109375 75.984375 \r\nL 18.109375 46.1875 \r\nQ 21.34375 51.125 25.703125 53.5625 \r\nQ 30.078125 56 35.796875 56 \r\nQ 45.21875 56 50.046875 50.171875 \r\nQ 54.890625 44.34375 54.890625 33.015625 \r\nz\r\n\" id=\"DejaVuSans-104\"/>\r\n      <path d=\"M 17.921875 72.90625 \r\nL 17.921875 45.796875 \r\nL 9.625 45.796875 \r\nL 9.625 72.90625 \r\nz\r\nM 36.375 72.90625 \r\nL 36.375 45.796875 \r\nL 28.078125 45.796875 \r\nL 28.078125 72.90625 \r\nz\r\n\" id=\"DejaVuSans-34\"/>\r\n     </defs>\r\n     <g transform=\"translate(226.5875 38.916563)scale(0.1 -0.1)\">\r\n      <use xlink:href=\"#DejaVuSans-68\"/>\r\n      <use x=\"77.001953\" xlink:href=\"#DejaVuSans-111\"/>\r\n      <use x=\"138.183594\" xlink:href=\"#DejaVuSans-101\"/>\r\n      <use x=\"199.707031\" xlink:href=\"#DejaVuSans-115\"/>\r\n      <use x=\"251.806641\" xlink:href=\"#DejaVuSans-32\"/>\r\n      <use x=\"283.59375\" xlink:href=\"#DejaVuSans-110\"/>\r\n      <use x=\"346.972656\" xlink:href=\"#DejaVuSans-111\"/>\r\n      <use x=\"408.154297\" xlink:href=\"#DejaVuSans-116\"/>\r\n      <use x=\"447.363281\" xlink:href=\"#DejaVuSans-32\"/>\r\n      <use x=\"479.150391\" xlink:href=\"#DejaVuSans-104\"/>\r\n      <use x=\"542.529297\" xlink:href=\"#DejaVuSans-97\"/>\r\n      <use x=\"603.808594\" xlink:href=\"#DejaVuSans-118\"/>\r\n      <use x=\"662.988281\" xlink:href=\"#DejaVuSans-101\"/>\r\n      <use x=\"724.511719\" xlink:href=\"#DejaVuSans-32\"/>\r\n      <use x=\"756.298828\" xlink:href=\"#DejaVuSans-34\"/>\r\n      <use x=\"802.294922\" xlink:href=\"#DejaVuSans-115\"/>\r\n      <use x=\"854.394531\" xlink:href=\"#DejaVuSans-101\"/>\r\n      <use x=\"915.917969\" xlink:href=\"#DejaVuSans-114\"/>\r\n      <use x=\"957.03125\" xlink:href=\"#DejaVuSans-118\"/>\r\n      <use x=\"1016.210938\" xlink:href=\"#DejaVuSans-105\"/>\r\n      <use x=\"1043.994141\" xlink:href=\"#DejaVuSans-99\"/>\r\n      <use x=\"1098.974609\" xlink:href=\"#DejaVuSans-105\"/>\r\n      <use x=\"1126.757812\" xlink:href=\"#DejaVuSans-34\"/>\r\n      <use x=\"1172.753906\" xlink:href=\"#DejaVuSans-32\"/>\r\n      <use x=\"1204.541016\" xlink:href=\"#DejaVuSans-105\"/>\r\n      <use x=\"1232.324219\" xlink:href=\"#DejaVuSans-110\"/>\r\n      <use x=\"1295.703125\" xlink:href=\"#DejaVuSans-32\"/>\r\n      <use x=\"1327.490234\" xlink:href=\"#DejaVuSans-97\"/>\r\n      <use x=\"1388.769531\" xlink:href=\"#DejaVuSans-100\"/>\r\n     </g>\r\n    </g>\r\n    <g id=\"patch_19\">\r\n     <path d=\"M 198.5875 53.594688 \r\nL 218.5875 53.594688 \r\nL 218.5875 46.594688 \r\nL 198.5875 46.594688 \r\nz\r\n\" style=\"fill:#ff7f0e;\"/>\r\n    </g>\r\n    <g id=\"text_15\">\r\n     <!-- Have \"servici\" in ad -->\r\n     <defs>\r\n      <path d=\"M 9.8125 72.90625 \r\nL 19.671875 72.90625 \r\nL 19.671875 43.015625 \r\nL 55.515625 43.015625 \r\nL 55.515625 72.90625 \r\nL 65.375 72.90625 \r\nL 65.375 0 \r\nL 55.515625 0 \r\nL 55.515625 34.71875 \r\nL 19.671875 34.71875 \r\nL 19.671875 0 \r\nL 9.8125 0 \r\nz\r\n\" id=\"DejaVuSans-72\"/>\r\n     </defs>\r\n     <g transform=\"translate(226.5875 53.594688)scale(0.1 -0.1)\">\r\n      <use xlink:href=\"#DejaVuSans-72\"/>\r\n      <use x=\"75.195312\" xlink:href=\"#DejaVuSans-97\"/>\r\n      <use x=\"136.474609\" xlink:href=\"#DejaVuSans-118\"/>\r\n      <use x=\"195.654297\" xlink:href=\"#DejaVuSans-101\"/>\r\n      <use x=\"257.177734\" xlink:href=\"#DejaVuSans-32\"/>\r\n      <use x=\"288.964844\" xlink:href=\"#DejaVuSans-34\"/>\r\n      <use x=\"334.960938\" xlink:href=\"#DejaVuSans-115\"/>\r\n      <use x=\"387.060547\" xlink:href=\"#DejaVuSans-101\"/>\r\n      <use x=\"448.583984\" xlink:href=\"#DejaVuSans-114\"/>\r\n      <use x=\"489.697266\" xlink:href=\"#DejaVuSans-118\"/>\r\n      <use x=\"548.876953\" xlink:href=\"#DejaVuSans-105\"/>\r\n      <use x=\"576.660156\" xlink:href=\"#DejaVuSans-99\"/>\r\n      <use x=\"631.640625\" xlink:href=\"#DejaVuSans-105\"/>\r\n      <use x=\"659.423828\" xlink:href=\"#DejaVuSans-34\"/>\r\n      <use x=\"705.419922\" xlink:href=\"#DejaVuSans-32\"/>\r\n      <use x=\"737.207031\" xlink:href=\"#DejaVuSans-105\"/>\r\n      <use x=\"764.990234\" xlink:href=\"#DejaVuSans-110\"/>\r\n      <use x=\"828.369141\" xlink:href=\"#DejaVuSans-32\"/>\r\n      <use x=\"860.15625\" xlink:href=\"#DejaVuSans-97\"/>\r\n      <use x=\"921.435547\" xlink:href=\"#DejaVuSans-100\"/>\r\n     </g>\r\n    </g>\r\n   </g>\r\n  </g>\r\n </g>\r\n <defs>\r\n  <clipPath id=\"p844cc6416c\">\r\n   <rect height=\"217.44\" width=\"334.8\" x=\"46.0125\" y=\"22.318125\"/>\r\n  </clipPath>\r\n </defs>\r\n</svg>\r\n",
      "image/png": "[encoded data removed]"
     },
     "metadata": {
      "needs_background": "light"
     }
    }
   ],
   "source": [
    "bar_plot_one_item(df,'Tipo de contratacion','Most_used_description_word_servici',\"Pattern: Tipo_de_contratacion == 'servicios'\",'Does not have \"servici\" in ad','Have \"servici\" in ad')"
   ]
  },
  {
   "source": [
    "# Visualization with 2 categorical items"
   ],
   "cell_type": "markdown",
   "metadata": {}
  },
  {
   "cell_type": "code",
   "execution_count": null,
   "metadata": {},
   "outputs": [],
   "source": []
  },
  {
   "source": [
    "# Visulization with 3 categorical items"
   ],
   "cell_type": "markdown",
   "metadata": {}
  },
  {
   "cell_type": "code",
   "execution_count": 160,
   "metadata": {},
   "outputs": [],
   "source": [
    "import plotly.express as px\n",
    "\n",
    "def plot_three_categories(data):\n",
    "    df = data.copy()\n",
    "    # Simplify the graph for the number of unique values\n",
    "    df['Tipo de contratacion'][(df['Tipo de contratacion'] != 'obra publica')] = 'otros'\n",
    "    df['Caracter del procedimiento'][(df['Caracter del procedimiento'] != 'otro')] = 'nacional_int'\n",
    "    df['Plantilla'][(df['Plantilla'] != 'adjudicacion')] = 'otro'\n",
    "    df['Articulo'][(df['Articulo'] != 'no')] = '43/42/41'\n",
    "    # Fill missing values with mode\n",
    "    df = df.fillna(df.mode().iloc[0])\n",
    "    # Get the frquencies\n",
    "    temp = df.groupby(['Plantilla','Caracter del procedimiento','Tipo de contratacion','Articulo'], as_index=False).agg({'Operador':['count']})\n",
    "    temp.columns = list(map(''.join, temp.columns.values))\n",
    "    temp.columns = [*temp.columns[:-1], 'count']\n",
    "    # Create the treemap\n",
    "    fig = px.treemap(temp,\n",
    "                 path=['Caracter del procedimiento','Tipo de contratacion','Articulo'],\n",
    "                 values = 'count',\n",
    "                 color='count')\n",
    "    fig.show()\n",
    "\n",
    "    return None"
   ]
  },
  {
   "cell_type": "code",
   "execution_count": 161,
   "metadata": {},
   "outputs": [
    {
     "output_type": "display_data",
     "data": {
      "application/vnd.plotly.v1+json": {
       "config": {
        "plotlyServerURL": "https://plot.ly"
       },
       "data": [
        {
         "branchvalues": "total",
         "customdata": [
          [
           4440.1787453053275
          ],
          [
           17
          ],
          [
           65407.12368730788
          ],
          [
           844
          ],
          [
           50
          ],
          [
           495
          ],
          [
           16
          ],
          [
           4409.85564304462
          ],
          [
           17
          ],
          [
           65042.017885144196
          ],
          [
           828.5953488372093
          ],
          [
           60433.73164995538
          ],
          [
           812.8631698973775
          ]
         ],
         "domain": {
          "x": [
           0,
           1
          ],
          "y": [
           0,
           1
          ]
         },
         "hovertemplate": "labels=%{label}<br>count_sum=%{value}<br>parent=%{parent}<br>id=%{id}<br>count=%{color}<extra></extra>",
         "ids": [
          "nacional_int/obra publica/43/42/41",
          "otro/obra publica/43/42/41",
          "nacional_int/otros/43/42/41",
          "otro/otros/43/42/41",
          "nacional_int/obra publica/no",
          "nacional_int/otros/no",
          "otro/otros/no",
          "nacional_int/obra publica",
          "otro/obra publica",
          "nacional_int/otros",
          "otro/otros",
          "nacional_int",
          "otro"
         ],
         "labels": [
          "43/42/41",
          "43/42/41",
          "43/42/41",
          "43/42/41",
          "no",
          "no",
          "no",
          "obra publica",
          "obra publica",
          "otros",
          "otros",
          "nacional_int",
          "otro"
         ],
         "marker": {
          "coloraxis": "coloraxis",
          "colors": [
           4440.1787453053275,
           17,
           65407.12368730788,
           844,
           50,
           495,
           16,
           4409.85564304462,
           17,
           65042.017885144196,
           828.5953488372093,
           60433.73164995538,
           812.8631698973775
          ]
         },
         "name": "",
         "parents": [
          "nacional_int/obra publica",
          "otro/obra publica",
          "nacional_int/otros",
          "otro/otros",
          "nacional_int/obra publica",
          "nacional_int/otros",
          "otro/otros",
          "nacional_int",
          "otro",
          "nacional_int",
          "otro",
          "",
          ""
         ],
         "type": "treemap",
         "values": [
          7189,
          17,
          87511,
          844,
          50,
          495,
          16,
          7239,
          17,
          88006,
          860,
          95245,
          877
         ]
        }
       ],
       "layout": {
        "coloraxis": {
         "colorbar": {
          "title": {
           "text": "count"
          }
         },
         "colorscale": [
          [
           0,
           "#0d0887"
          ],
          [
           0.1111111111111111,
           "#46039f"
          ],
          [
           0.2222222222222222,
           "#7201a8"
          ],
          [
           0.3333333333333333,
           "#9c179e"
          ],
          [
           0.4444444444444444,
           "#bd3786"
          ],
          [
           0.5555555555555556,
           "#d8576b"
          ],
          [
           0.6666666666666666,
           "#ed7953"
          ],
          [
           0.7777777777777778,
           "#fb9f3a"
          ],
          [
           0.8888888888888888,
           "#fdca26"
          ],
          [
           1,
           "#f0f921"
          ]
         ]
        },
        "legend": {
         "tracegroupgap": 0
        },
        "margin": {
         "t": 60
        },
        "template": {
         "data": {
          "bar": [
           {
            "error_x": {
             "color": "#2a3f5f"
            },
            "error_y": {
             "color": "#2a3f5f"
            },
            "marker": {
             "line": {
              "color": "#E5ECF6",
              "width": 0.5
             }
            },
            "type": "bar"
           }
          ],
          "barpolar": [
           {
            "marker": {
             "line": {
              "color": "#E5ECF6",
              "width": 0.5
             }
            },
            "type": "barpolar"
           }
          ],
          "carpet": [
           {
            "aaxis": {
             "endlinecolor": "#2a3f5f",
             "gridcolor": "white",
             "linecolor": "white",
             "minorgridcolor": "white",
             "startlinecolor": "#2a3f5f"
            },
            "baxis": {
             "endlinecolor": "#2a3f5f",
             "gridcolor": "white",
             "linecolor": "white",
             "minorgridcolor": "white",
             "startlinecolor": "#2a3f5f"
            },
            "type": "carpet"
           }
          ],
          "choropleth": [
           {
            "colorbar": {
             "outlinewidth": 0,
             "ticks": ""
            },
            "type": "choropleth"
           }
          ],
          "contour": [
           {
            "colorbar": {
             "outlinewidth": 0,
             "ticks": ""
            },
            "colorscale": [
             [
              0,
              "#0d0887"
             ],
             [
              0.1111111111111111,
              "#46039f"
             ],
             [
              0.2222222222222222,
              "#7201a8"
             ],
             [
              0.3333333333333333,
              "#9c179e"
             ],
             [
              0.4444444444444444,
              "#bd3786"
             ],
             [
              0.5555555555555556,
              "#d8576b"
             ],
             [
              0.6666666666666666,
              "#ed7953"
             ],
             [
              0.7777777777777778,
              "#fb9f3a"
             ],
             [
              0.8888888888888888,
              "#fdca26"
             ],
             [
              1,
              "#f0f921"
             ]
            ],
            "type": "contour"
           }
          ],
          "contourcarpet": [
           {
            "colorbar": {
             "outlinewidth": 0,
             "ticks": ""
            },
            "type": "contourcarpet"
           }
          ],
          "heatmap": [
           {
            "colorbar": {
             "outlinewidth": 0,
             "ticks": ""
            },
            "colorscale": [
             [
              0,
              "#0d0887"
             ],
             [
              0.1111111111111111,
              "#46039f"
             ],
             [
              0.2222222222222222,
              "#7201a8"
             ],
             [
              0.3333333333333333,
              "#9c179e"
             ],
             [
              0.4444444444444444,
              "#bd3786"
             ],
             [
              0.5555555555555556,
              "#d8576b"
             ],
             [
              0.6666666666666666,
              "#ed7953"
             ],
             [
              0.7777777777777778,
              "#fb9f3a"
             ],
             [
              0.8888888888888888,
              "#fdca26"
             ],
             [
              1,
              "#f0f921"
             ]
            ],
            "type": "heatmap"
           }
          ],
          "heatmapgl": [
           {
            "colorbar": {
             "outlinewidth": 0,
             "ticks": ""
            },
            "colorscale": [
             [
              0,
              "#0d0887"
             ],
             [
              0.1111111111111111,
              "#46039f"
             ],
             [
              0.2222222222222222,
              "#7201a8"
             ],
             [
              0.3333333333333333,
              "#9c179e"
             ],
             [
              0.4444444444444444,
              "#bd3786"
             ],
             [
              0.5555555555555556,
              "#d8576b"
             ],
             [
              0.6666666666666666,
              "#ed7953"
             ],
             [
              0.7777777777777778,
              "#fb9f3a"
             ],
             [
              0.8888888888888888,
              "#fdca26"
             ],
             [
              1,
              "#f0f921"
             ]
            ],
            "type": "heatmapgl"
           }
          ],
          "histogram": [
           {
            "marker": {
             "colorbar": {
              "outlinewidth": 0,
              "ticks": ""
             }
            },
            "type": "histogram"
           }
          ],
          "histogram2d": [
           {
            "colorbar": {
             "outlinewidth": 0,
             "ticks": ""
            },
            "colorscale": [
             [
              0,
              "#0d0887"
             ],
             [
              0.1111111111111111,
              "#46039f"
             ],
             [
              0.2222222222222222,
              "#7201a8"
             ],
             [
              0.3333333333333333,
              "#9c179e"
             ],
             [
              0.4444444444444444,
              "#bd3786"
             ],
             [
              0.5555555555555556,
              "#d8576b"
             ],
             [
              0.6666666666666666,
              "#ed7953"
             ],
             [
              0.7777777777777778,
              "#fb9f3a"
             ],
             [
              0.8888888888888888,
              "#fdca26"
             ],
             [
              1,
              "#f0f921"
             ]
            ],
            "type": "histogram2d"
           }
          ],
          "histogram2dcontour": [
           {
            "colorbar": {
             "outlinewidth": 0,
             "ticks": ""
            },
            "colorscale": [
             [
              0,
              "#0d0887"
             ],
             [
              0.1111111111111111,
              "#46039f"
             ],
             [
              0.2222222222222222,
              "#7201a8"
             ],
             [
              0.3333333333333333,
              "#9c179e"
             ],
             [
              0.4444444444444444,
              "#bd3786"
             ],
             [
              0.5555555555555556,
              "#d8576b"
             ],
             [
              0.6666666666666666,
              "#ed7953"
             ],
             [
              0.7777777777777778,
              "#fb9f3a"
             ],
             [
              0.8888888888888888,
              "#fdca26"
             ],
             [
              1,
              "#f0f921"
             ]
            ],
            "type": "histogram2dcontour"
           }
          ],
          "mesh3d": [
           {
            "colorbar": {
             "outlinewidth": 0,
             "ticks": ""
            },
            "type": "mesh3d"
           }
          ],
          "parcoords": [
           {
            "line": {
             "colorbar": {
              "outlinewidth": 0,
              "ticks": ""
             }
            },
            "type": "parcoords"
           }
          ],
          "pie": [
           {
            "automargin": true,
            "type": "pie"
           }
          ],
          "scatter": [
           {
            "marker": {
             "colorbar": {
              "outlinewidth": 0,
              "ticks": ""
             }
            },
            "type": "scatter"
           }
          ],
          "scatter3d": [
           {
            "line": {
             "colorbar": {
              "outlinewidth": 0,
              "ticks": ""
             }
            },
            "marker": {
             "colorbar": {
              "outlinewidth": 0,
              "ticks": ""
             }
            },
            "type": "scatter3d"
           }
          ],
          "scattercarpet": [
           {
            "marker": {
             "colorbar": {
              "outlinewidth": 0,
              "ticks": ""
             }
            },
            "type": "scattercarpet"
           }
          ],
          "scattergeo": [
           {
            "marker": {
             "colorbar": {
              "outlinewidth": 0,
              "ticks": ""
             }
            },
            "type": "scattergeo"
           }
          ],
          "scattergl": [
           {
            "marker": {
             "colorbar": {
              "outlinewidth": 0,
              "ticks": ""
             }
            },
            "type": "scattergl"
           }
          ],
          "scattermapbox": [
           {
            "marker": {
             "colorbar": {
              "outlinewidth": 0,
              "ticks": ""
             }
            },
            "type": "scattermapbox"
           }
          ],
          "scatterpolar": [
           {
            "marker": {
             "colorbar": {
              "outlinewidth": 0,
              "ticks": ""
             }
            },
            "type": "scatterpolar"
           }
          ],
          "scatterpolargl": [
           {
            "marker": {
             "colorbar": {
              "outlinewidth": 0,
              "ticks": ""
             }
            },
            "type": "scatterpolargl"
           }
          ],
          "scatterternary": [
           {
            "marker": {
             "colorbar": {
              "outlinewidth": 0,
              "ticks": ""
             }
            },
            "type": "scatterternary"
           }
          ],
          "surface": [
           {
            "colorbar": {
             "outlinewidth": 0,
             "ticks": ""
            },
            "colorscale": [
             [
              0,
              "#0d0887"
             ],
             [
              0.1111111111111111,
              "#46039f"
             ],
             [
              0.2222222222222222,
              "#7201a8"
             ],
             [
              0.3333333333333333,
              "#9c179e"
             ],
             [
              0.4444444444444444,
              "#bd3786"
             ],
             [
              0.5555555555555556,
              "#d8576b"
             ],
             [
              0.6666666666666666,
              "#ed7953"
             ],
             [
              0.7777777777777778,
              "#fb9f3a"
             ],
             [
              0.8888888888888888,
              "#fdca26"
             ],
             [
              1,
              "#f0f921"
             ]
            ],
            "type": "surface"
           }
          ],
          "table": [
           {
            "cells": {
             "fill": {
              "color": "#EBF0F8"
             },
             "line": {
              "color": "white"
             }
            },
            "header": {
             "fill": {
              "color": "#C8D4E3"
             },
             "line": {
              "color": "white"
             }
            },
            "type": "table"
           }
          ]
         },
         "layout": {
          "annotationdefaults": {
           "arrowcolor": "#2a3f5f",
           "arrowhead": 0,
           "arrowwidth": 1
          },
          "coloraxis": {
           "colorbar": {
            "outlinewidth": 0,
            "ticks": ""
           }
          },
          "colorscale": {
           "diverging": [
            [
             0,
             "#8e0152"
            ],
            [
             0.1,
             "#c51b7d"
            ],
            [
             0.2,
             "#de77ae"
            ],
            [
             0.3,
             "#f1b6da"
            ],
            [
             0.4,
             "#fde0ef"
            ],
            [
             0.5,
             "#f7f7f7"
            ],
            [
             0.6,
             "#e6f5d0"
            ],
            [
             0.7,
             "#b8e186"
            ],
            [
             0.8,
             "#7fbc41"
            ],
            [
             0.9,
             "#4d9221"
            ],
            [
             1,
             "#276419"
            ]
           ],
           "sequential": [
            [
             0,
             "#0d0887"
            ],
            [
             0.1111111111111111,
             "#46039f"
            ],
            [
             0.2222222222222222,
             "#7201a8"
            ],
            [
             0.3333333333333333,
             "#9c179e"
            ],
            [
             0.4444444444444444,
             "#bd3786"
            ],
            [
             0.5555555555555556,
             "#d8576b"
            ],
            [
             0.6666666666666666,
             "#ed7953"
            ],
            [
             0.7777777777777778,
             "#fb9f3a"
            ],
            [
             0.8888888888888888,
             "#fdca26"
            ],
            [
             1,
             "#f0f921"
            ]
           ],
           "sequentialminus": [
            [
             0,
             "#0d0887"
            ],
            [
             0.1111111111111111,
             "#46039f"
            ],
            [
             0.2222222222222222,
             "#7201a8"
            ],
            [
             0.3333333333333333,
             "#9c179e"
            ],
            [
             0.4444444444444444,
             "#bd3786"
            ],
            [
             0.5555555555555556,
             "#d8576b"
            ],
            [
             0.6666666666666666,
             "#ed7953"
            ],
            [
             0.7777777777777778,
             "#fb9f3a"
            ],
            [
             0.8888888888888888,
             "#fdca26"
            ],
            [
             1,
             "#f0f921"
            ]
           ]
          },
          "colorway": [
           "#636efa",
           "#EF553B",
           "#00cc96",
           "#ab63fa",
           "#FFA15A",
           "#19d3f3",
           "#FF6692",
           "#B6E880",
           "#FF97FF",
           "#FECB52"
          ],
          "font": {
           "color": "#2a3f5f"
          },
          "geo": {
           "bgcolor": "white",
           "lakecolor": "white",
           "landcolor": "#E5ECF6",
           "showlakes": true,
           "showland": true,
           "subunitcolor": "white"
          },
          "hoverlabel": {
           "align": "left"
          },
          "hovermode": "closest",
          "mapbox": {
           "style": "light"
          },
          "paper_bgcolor": "white",
          "plot_bgcolor": "#E5ECF6",
          "polar": {
           "angularaxis": {
            "gridcolor": "white",
            "linecolor": "white",
            "ticks": ""
           },
           "bgcolor": "#E5ECF6",
           "radialaxis": {
            "gridcolor": "white",
            "linecolor": "white",
            "ticks": ""
           }
          },
          "scene": {
           "xaxis": {
            "backgroundcolor": "#E5ECF6",
            "gridcolor": "white",
            "gridwidth": 2,
            "linecolor": "white",
            "showbackground": true,
            "ticks": "",
            "zerolinecolor": "white"
           },
           "yaxis": {
            "backgroundcolor": "#E5ECF6",
            "gridcolor": "white",
            "gridwidth": 2,
            "linecolor": "white",
            "showbackground": true,
            "ticks": "",
            "zerolinecolor": "white"
           },
           "zaxis": {
            "backgroundcolor": "#E5ECF6",
            "gridcolor": "white",
            "gridwidth": 2,
            "linecolor": "white",
            "showbackground": true,
            "ticks": "",
            "zerolinecolor": "white"
           }
          },
          "shapedefaults": {
           "line": {
            "color": "#2a3f5f"
           }
          },
          "ternary": {
           "aaxis": {
            "gridcolor": "white",
            "linecolor": "white",
            "ticks": ""
           },
           "baxis": {
            "gridcolor": "white",
            "linecolor": "white",
            "ticks": ""
           },
           "bgcolor": "#E5ECF6",
           "caxis": {
            "gridcolor": "white",
            "linecolor": "white",
            "ticks": ""
           }
          },
          "title": {
           "x": 0.05
          },
          "xaxis": {
           "automargin": true,
           "gridcolor": "white",
           "linecolor": "white",
           "ticks": "",
           "title": {
            "standoff": 15
           },
           "zerolinecolor": "white",
           "zerolinewidth": 2
          },
          "yaxis": {
           "automargin": true,
           "gridcolor": "white",
           "linecolor": "white",
           "ticks": "",
           "title": {
            "standoff": 15
           },
           "zerolinecolor": "white",
           "zerolinewidth": 2
          }
         }
        }
       }
      }
     },
     "metadata": {}
    }
   ],
   "source": [
    "plot_three_categories(df)"
   ]
  },
  {
   "cell_type": "code",
   "execution_count": 121,
   "metadata": {},
   "outputs": [
    {
     "output_type": "execute_result",
     "data": {
      "text/plain": [
       "          Caracter del procedimiento  Forma del procedimiento  Operador  \\\n",
       "Articulo                                                                  \n",
       "41                             47882                    47882     47895   \n",
       "42                             30664                    30666     30674   \n",
       "43                              4593                     4593      4594   \n",
       "no                               561                      561       561   \n",
       "\n",
       "          Correo electronico  Entidad federativa  Tipo de contratacion  \\\n",
       "Articulo                                                                 \n",
       "41                     47895               21409                 47894   \n",
       "42                     30674               10962                 30674   \n",
       "43                      4594                2668                  4594   \n",
       "no                       561                 153                   561   \n",
       "\n",
       "          Plantilla  Forma_Procedimiento_Presencial  \\\n",
       "Articulo                                              \n",
       "41            47895                           47895   \n",
       "42            30674                           30674   \n",
       "43             4594                            4594   \n",
       "no              561                             561   \n",
       "\n",
       "          Forma_Procedimiento_Electronica  Forma_Procedimiento_Mixta  ...  \\\n",
       "Articulo                                                              ...   \n",
       "41                                  47895                      47895  ...   \n",
       "42                                  30674                      30674  ...   \n",
       "43                                   4594                       4594  ...   \n",
       "no                                    561                        561  ...   \n",
       "\n",
       "          Most_used_description_word_servici  \\\n",
       "Articulo                                       \n",
       "41                                     47895   \n",
       "42                                     30674   \n",
       "43                                      4594   \n",
       "no                                       561   \n",
       "\n",
       "          Most_used_description_word_adquisicion  \\\n",
       "Articulo                                           \n",
       "41                                         47895   \n",
       "42                                         30674   \n",
       "43                                          4594   \n",
       "no                                           561   \n",
       "\n",
       "          Most_used_description_word_material  Mes_pub  Dia_pub  Hora_pub  \\\n",
       "Articulo                                                                    \n",
       "41                                      47895    47895    47895     47895   \n",
       "42                                      30674    30674    30674     30674   \n",
       "43                                       4594     4594     4594      4594   \n",
       "no                                        561      561      561       561   \n",
       "\n",
       "          Min_pub  Most_used_UC_word_gyr  Most_used_UC_word_material  \\\n",
       "Articulo                                                               \n",
       "41          47895                  47895                       47895   \n",
       "42          30674                  30674                       30674   \n",
       "43           4594                   4594                        4594   \n",
       "no            561                    561                         561   \n",
       "\n",
       "          Most_used_UC_word_general  \n",
       "Articulo                             \n",
       "41                            47895  \n",
       "42                            30674  \n",
       "43                             4594  \n",
       "no                              561  \n",
       "\n",
       "[4 rows x 42 columns]"
      ],
      "text/html": "<div>\n<style scoped>\n    .dataframe tbody tr th:only-of-type {\n        vertical-align: middle;\n    }\n\n    .dataframe tbody tr th {\n        vertical-align: top;\n    }\n\n    .dataframe thead th {\n        text-align: right;\n    }\n</style>\n<table border=\"1\" class=\"dataframe\">\n  <thead>\n    <tr style=\"text-align: right;\">\n      <th></th>\n      <th>Caracter del procedimiento</th>\n      <th>Forma del procedimiento</th>\n      <th>Operador</th>\n      <th>Correo electronico</th>\n      <th>Entidad federativa</th>\n      <th>Tipo de contratacion</th>\n      <th>Plantilla</th>\n      <th>Forma_Procedimiento_Presencial</th>\n      <th>Forma_Procedimiento_Electronica</th>\n      <th>Forma_Procedimiento_Mixta</th>\n      <th>...</th>\n      <th>Most_used_description_word_servici</th>\n      <th>Most_used_description_word_adquisicion</th>\n      <th>Most_used_description_word_material</th>\n      <th>Mes_pub</th>\n      <th>Dia_pub</th>\n      <th>Hora_pub</th>\n      <th>Min_pub</th>\n      <th>Most_used_UC_word_gyr</th>\n      <th>Most_used_UC_word_material</th>\n      <th>Most_used_UC_word_general</th>\n    </tr>\n    <tr>\n      <th>Articulo</th>\n      <th></th>\n      <th></th>\n      <th></th>\n      <th></th>\n      <th></th>\n      <th></th>\n      <th></th>\n      <th></th>\n      <th></th>\n      <th></th>\n      <th></th>\n      <th></th>\n      <th></th>\n      <th></th>\n      <th></th>\n      <th></th>\n      <th></th>\n      <th></th>\n      <th></th>\n      <th></th>\n      <th></th>\n    </tr>\n  </thead>\n  <tbody>\n    <tr>\n      <th>41</th>\n      <td>47882</td>\n      <td>47882</td>\n      <td>47895</td>\n      <td>47895</td>\n      <td>21409</td>\n      <td>47894</td>\n      <td>47895</td>\n      <td>47895</td>\n      <td>47895</td>\n      <td>47895</td>\n      <td>...</td>\n      <td>47895</td>\n      <td>47895</td>\n      <td>47895</td>\n      <td>47895</td>\n      <td>47895</td>\n      <td>47895</td>\n      <td>47895</td>\n      <td>47895</td>\n      <td>47895</td>\n      <td>47895</td>\n    </tr>\n    <tr>\n      <th>42</th>\n      <td>30664</td>\n      <td>30666</td>\n      <td>30674</td>\n      <td>30674</td>\n      <td>10962</td>\n      <td>30674</td>\n      <td>30674</td>\n      <td>30674</td>\n      <td>30674</td>\n      <td>30674</td>\n      <td>...</td>\n      <td>30674</td>\n      <td>30674</td>\n      <td>30674</td>\n      <td>30674</td>\n      <td>30674</td>\n      <td>30674</td>\n      <td>30674</td>\n      <td>30674</td>\n      <td>30674</td>\n      <td>30674</td>\n    </tr>\n    <tr>\n      <th>43</th>\n      <td>4593</td>\n      <td>4593</td>\n      <td>4594</td>\n      <td>4594</td>\n      <td>2668</td>\n      <td>4594</td>\n      <td>4594</td>\n      <td>4594</td>\n      <td>4594</td>\n      <td>4594</td>\n      <td>...</td>\n      <td>4594</td>\n      <td>4594</td>\n      <td>4594</td>\n      <td>4594</td>\n      <td>4594</td>\n      <td>4594</td>\n      <td>4594</td>\n      <td>4594</td>\n      <td>4594</td>\n      <td>4594</td>\n    </tr>\n    <tr>\n      <th>no</th>\n      <td>561</td>\n      <td>561</td>\n      <td>561</td>\n      <td>561</td>\n      <td>153</td>\n      <td>561</td>\n      <td>561</td>\n      <td>561</td>\n      <td>561</td>\n      <td>561</td>\n      <td>...</td>\n      <td>561</td>\n      <td>561</td>\n      <td>561</td>\n      <td>561</td>\n      <td>561</td>\n      <td>561</td>\n      <td>561</td>\n      <td>561</td>\n      <td>561</td>\n      <td>561</td>\n    </tr>\n  </tbody>\n</table>\n<p>4 rows × 42 columns</p>\n</div>"
     },
     "metadata": {},
     "execution_count": 121
    }
   ],
   "source": [
    "df.groupby('Articulo').count()"
   ]
  }
 ]
}