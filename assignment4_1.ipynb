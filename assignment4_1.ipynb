{
 "cells": [
  {
   "cell_type": "markdown",
   "metadata": {},
   "source": [
    "# Assignment # 4"
   ]
  },
  {
   "cell_type": "code",
   "execution_count": 1,
   "metadata": {},
   "outputs": [],
   "source": [
    "import pandas as pd\n",
    "import unicodedata\n",
    "import numpy as np"
   ]
  },
  {
   "cell_type": "markdown",
   "metadata": {},
   "source": [
    "## Importing the Data"
   ]
  },
  {
   "cell_type": "code",
   "execution_count": 2,
   "metadata": {},
   "outputs": [],
   "source": [
    "df = pd.read_excel('ExpedientesPublicados2020_200906074133.xlsx')"
   ]
  },
  {
   "cell_type": "code",
   "execution_count": 3,
   "metadata": {},
   "outputs": [
    {
     "output_type": "execute_result",
     "data": {
      "text/plain": "   Código del expediente Número del procedimiento Carácter del procedimiento  \\\n0                  50739     EO-823001999-N8-2011                   Nacional   \n1                  51475    EA-823001999-N10-2011                   Nacional   \n2                  61495    AO-811027990-N12-2011                        NaN   \n3                  65885     IO-815060972-N7-2011                   Nacional   \n4                  65850     IO-815060972-N8-2011                   Nacional   \n5                  65910     IO-815060972-N6-2011                   Nacional   \n\n  Forma del procedimiento Artículo de excepción  \\\n0              Presencial                   NaN   \n1              Presencial                   NaN   \n2                     NaN           Art. 43 s/f   \n3                   Mixta           Art. 43 s/f   \n4                   Mixta           Art. 43 s/f   \n5                   Mixta           Art. 43 s/f   \n\n                  REFERENCIA_EXPEDIENTE  \\\n0                                   NaN   \n1                                   NaN   \n2              DGOP/HABITAT/PROY/007-11   \n3      NR-OP-IR-PREP-15060-EMF-002/2011   \n4      NR-OP-IR-PREP-15060-EMF-001/2011   \n5  NR-OP-IR-HABITAT-01/150601ME008/2011   \n\n                               Título del expediente  \\\n0  Mejoramiento de la iluminación de la Iglesia S...   \n1  Adquisición de Uniformes para la dirección de ...   \n2  PROYECTO EJECUTIVO JARDIN VECINAL COLONIA LAS ...   \n3             CONSTRUCCION DE DEPORTIVO BICENTENARIO   \n4   ACONDICIONAMIENTO DE CENTRO CULTURAL Y DEPORTIVO   \n5                            PAVIMENTACIÓN ASFÁLTICA   \n\n                            Plantilla del expediente  \\\n0  V20150817 30. Licitación Pública Nacional de O...   \n1  V20150817 28. Licitación Pública Nacional de A...   \n2                    06. Adjudicación Directa LOPSRM   \n3  V20151220 19. Invitación a cuando menos tres N...   \n4  V20151220 19. Invitación a cuando menos tres N...   \n5  V20151220 19. Invitación a cuando menos tres N...   \n\n                             Descripción del Anuncio Clave de la UC  \n0  Mejoramiento de la iluminación de la Iglesia S...      823001999  \n1  Adquisición de Uniformes para la dirección de ...      823001999  \n2  PROYECTO EJECUTIVO JARDIN VECINAL COLONIA LAS ...      811027990  \n3             CONSTRUCCION DE DEPORTIVO BICENTENARIO      815060972  \n4   ACONDICIONAMIENTO DE CENTRO CULTURAL Y DEPORTIVO      815060972  \n5                            PAVIMENTACIÓN ASFÁLTICA      815060972  ",
      "text/html": "<div>\n<style scoped>\n    .dataframe tbody tr th:only-of-type {\n        vertical-align: middle;\n    }\n\n    .dataframe tbody tr th {\n        vertical-align: top;\n    }\n\n    .dataframe thead th {\n        text-align: right;\n    }\n</style>\n<table border=\"1\" class=\"dataframe\">\n  <thead>\n    <tr style=\"text-align: right;\">\n      <th></th>\n      <th>Código del expediente</th>\n      <th>Número del procedimiento</th>\n      <th>Carácter del procedimiento</th>\n      <th>Forma del procedimiento</th>\n      <th>Artículo de excepción</th>\n      <th>REFERENCIA_EXPEDIENTE</th>\n      <th>Título del expediente</th>\n      <th>Plantilla del expediente</th>\n      <th>Descripción del Anuncio</th>\n      <th>Clave de la UC</th>\n    </tr>\n  </thead>\n  <tbody>\n    <tr>\n      <th>0</th>\n      <td>50739</td>\n      <td>EO-823001999-N8-2011</td>\n      <td>Nacional</td>\n      <td>Presencial</td>\n      <td>NaN</td>\n      <td>NaN</td>\n      <td>Mejoramiento de la iluminación de la Iglesia S...</td>\n      <td>V20150817 30. Licitación Pública Nacional de O...</td>\n      <td>Mejoramiento de la iluminación de la Iglesia S...</td>\n      <td>823001999</td>\n    </tr>\n    <tr>\n      <th>1</th>\n      <td>51475</td>\n      <td>EA-823001999-N10-2011</td>\n      <td>Nacional</td>\n      <td>Presencial</td>\n      <td>NaN</td>\n      <td>NaN</td>\n      <td>Adquisición de Uniformes para la dirección de ...</td>\n      <td>V20150817 28. Licitación Pública Nacional de A...</td>\n      <td>Adquisición de Uniformes para la dirección de ...</td>\n      <td>823001999</td>\n    </tr>\n    <tr>\n      <th>2</th>\n      <td>61495</td>\n      <td>AO-811027990-N12-2011</td>\n      <td>NaN</td>\n      <td>NaN</td>\n      <td>Art. 43 s/f</td>\n      <td>DGOP/HABITAT/PROY/007-11</td>\n      <td>PROYECTO EJECUTIVO JARDIN VECINAL COLONIA LAS ...</td>\n      <td>06. Adjudicación Directa LOPSRM</td>\n      <td>PROYECTO EJECUTIVO JARDIN VECINAL COLONIA LAS ...</td>\n      <td>811027990</td>\n    </tr>\n    <tr>\n      <th>3</th>\n      <td>65885</td>\n      <td>IO-815060972-N7-2011</td>\n      <td>Nacional</td>\n      <td>Mixta</td>\n      <td>Art. 43 s/f</td>\n      <td>NR-OP-IR-PREP-15060-EMF-002/2011</td>\n      <td>CONSTRUCCION DE DEPORTIVO BICENTENARIO</td>\n      <td>V20151220 19. Invitación a cuando menos tres N...</td>\n      <td>CONSTRUCCION DE DEPORTIVO BICENTENARIO</td>\n      <td>815060972</td>\n    </tr>\n    <tr>\n      <th>4</th>\n      <td>65850</td>\n      <td>IO-815060972-N8-2011</td>\n      <td>Nacional</td>\n      <td>Mixta</td>\n      <td>Art. 43 s/f</td>\n      <td>NR-OP-IR-PREP-15060-EMF-001/2011</td>\n      <td>ACONDICIONAMIENTO DE CENTRO CULTURAL Y DEPORTIVO</td>\n      <td>V20151220 19. Invitación a cuando menos tres N...</td>\n      <td>ACONDICIONAMIENTO DE CENTRO CULTURAL Y DEPORTIVO</td>\n      <td>815060972</td>\n    </tr>\n    <tr>\n      <th>5</th>\n      <td>65910</td>\n      <td>IO-815060972-N6-2011</td>\n      <td>Nacional</td>\n      <td>Mixta</td>\n      <td>Art. 43 s/f</td>\n      <td>NR-OP-IR-HABITAT-01/150601ME008/2011</td>\n      <td>PAVIMENTACIÓN ASFÁLTICA</td>\n      <td>V20151220 19. Invitación a cuando menos tres N...</td>\n      <td>PAVIMENTACIÓN ASFÁLTICA</td>\n      <td>815060972</td>\n    </tr>\n  </tbody>\n</table>\n</div>"
     },
     "metadata": {},
     "execution_count": 3
    }
   ],
   "source": [
    "df.iloc[0:6,:10]"
   ]
  },
  {
   "cell_type": "code",
   "execution_count": 4,
   "metadata": {},
   "outputs": [
    {
     "output_type": "execute_result",
     "data": {
      "text/plain": "                                     Nombre de la UC                 Operador  \\\n0  QROO-Cozumel-Dirección de Obras Públicas #8230...    Gabriel Caamal Caamal   \n1  QROO-Cozumel-Dirección de Obras Públicas #8230...    Gabriel Caamal Caamal   \n2  GTO-Salamanca-DIRECCION GENERAL DE OBRAS PUBLI...  Adriana Ortega González   \n3  MEX-Nicolás Romero-Direccion de Obras Publicas...    Paulino Mata González   \n4  MEX-Nicolás Romero-Direccion de Obras Publicas...    Paulino Mata González   \n5  MEX-Nicolás Romero-Direccion de Obras Publicas...    Paulino Mata González   \n\n                      Correo electrónico Entidad federativa  \\\n0  compranetobraspublicas@cozumel.gob.mx       Quintana Roo   \n1  compranetobraspublicas@cozumel.gob.mx       Quintana Roo   \n2        adriana.ortega@salamanca.gob.mx         Guanajuato   \n3                    arqpau7@hotmail.com             México   \n4                    arqpau7@hotmail.com             México   \n5                    arqpau7@hotmail.com             México   \n\n               Tipo de contratación Publicación del anuncio  \\\n0                      Obra Pública        2020-08-10 12:49   \n1                     Adquisiciones        2020-08-14 11:19   \n2  Servicios Relacionados con la OP        2020-03-20 12:35   \n3                      Obra Pública        2020-06-08 10:26   \n4                      Obra Pública        2020-06-08 10:16   \n5                      Obra Pública        2020-06-08 10:35   \n\n  Vigencia del anuncio Clave COG Fecha de creación  \\\n0     2011-08-17 07:00      6170   2011/07/2910:40   \n1     2011-08-17 12:00      2830   2011/08/0112:14   \n2     2011-08-23 23:00      6290   2011/08/2316:57   \n3     2011-09-23 11:00      6120   2011/09/0109:55   \n4     2011-09-23 09:00      6120   2011/09/0109:29   \n5     2011-09-26 09:00      6140   2011/09/0110:10   \n\n  Fecha de última modificacion  \\\n0             2020/08/31 12:51   \n1             2020/08/18 11:32   \n2             2020/03/24 14:26   \n3             2020/06/08 10:26   \n4             2020/06/08 10:15   \n5             2020/06/08 10:35   \n\n                               Dirección del anuncio  \n0  https://compranet.funcionpublica.gob.mx/esop/g...  \n1  https://compranet.funcionpublica.gob.mx/esop/g...  \n2  https://compranet.funcionpublica.gob.mx/esop/g...  \n3  https://compranet.funcionpublica.gob.mx/esop/g...  \n4  https://compranet.funcionpublica.gob.mx/esop/g...  \n5  https://compranet.funcionpublica.gob.mx/esop/g...  ",
      "text/html": "<div>\n<style scoped>\n    .dataframe tbody tr th:only-of-type {\n        vertical-align: middle;\n    }\n\n    .dataframe tbody tr th {\n        vertical-align: top;\n    }\n\n    .dataframe thead th {\n        text-align: right;\n    }\n</style>\n<table border=\"1\" class=\"dataframe\">\n  <thead>\n    <tr style=\"text-align: right;\">\n      <th></th>\n      <th>Nombre de la UC</th>\n      <th>Operador</th>\n      <th>Correo electrónico</th>\n      <th>Entidad federativa</th>\n      <th>Tipo de contratación</th>\n      <th>Publicación del anuncio</th>\n      <th>Vigencia del anuncio</th>\n      <th>Clave COG</th>\n      <th>Fecha de creación</th>\n      <th>Fecha de última modificacion</th>\n      <th>Dirección del anuncio</th>\n    </tr>\n  </thead>\n  <tbody>\n    <tr>\n      <th>0</th>\n      <td>QROO-Cozumel-Dirección de Obras Públicas #8230...</td>\n      <td>Gabriel Caamal Caamal</td>\n      <td>compranetobraspublicas@cozumel.gob.mx</td>\n      <td>Quintana Roo</td>\n      <td>Obra Pública</td>\n      <td>2020-08-10 12:49</td>\n      <td>2011-08-17 07:00</td>\n      <td>6170</td>\n      <td>2011/07/2910:40</td>\n      <td>2020/08/31 12:51</td>\n      <td>https://compranet.funcionpublica.gob.mx/esop/g...</td>\n    </tr>\n    <tr>\n      <th>1</th>\n      <td>QROO-Cozumel-Dirección de Obras Públicas #8230...</td>\n      <td>Gabriel Caamal Caamal</td>\n      <td>compranetobraspublicas@cozumel.gob.mx</td>\n      <td>Quintana Roo</td>\n      <td>Adquisiciones</td>\n      <td>2020-08-14 11:19</td>\n      <td>2011-08-17 12:00</td>\n      <td>2830</td>\n      <td>2011/08/0112:14</td>\n      <td>2020/08/18 11:32</td>\n      <td>https://compranet.funcionpublica.gob.mx/esop/g...</td>\n    </tr>\n    <tr>\n      <th>2</th>\n      <td>GTO-Salamanca-DIRECCION GENERAL DE OBRAS PUBLI...</td>\n      <td>Adriana Ortega González</td>\n      <td>adriana.ortega@salamanca.gob.mx</td>\n      <td>Guanajuato</td>\n      <td>Servicios Relacionados con la OP</td>\n      <td>2020-03-20 12:35</td>\n      <td>2011-08-23 23:00</td>\n      <td>6290</td>\n      <td>2011/08/2316:57</td>\n      <td>2020/03/24 14:26</td>\n      <td>https://compranet.funcionpublica.gob.mx/esop/g...</td>\n    </tr>\n    <tr>\n      <th>3</th>\n      <td>MEX-Nicolás Romero-Direccion de Obras Publicas...</td>\n      <td>Paulino Mata González</td>\n      <td>arqpau7@hotmail.com</td>\n      <td>México</td>\n      <td>Obra Pública</td>\n      <td>2020-06-08 10:26</td>\n      <td>2011-09-23 11:00</td>\n      <td>6120</td>\n      <td>2011/09/0109:55</td>\n      <td>2020/06/08 10:26</td>\n      <td>https://compranet.funcionpublica.gob.mx/esop/g...</td>\n    </tr>\n    <tr>\n      <th>4</th>\n      <td>MEX-Nicolás Romero-Direccion de Obras Publicas...</td>\n      <td>Paulino Mata González</td>\n      <td>arqpau7@hotmail.com</td>\n      <td>México</td>\n      <td>Obra Pública</td>\n      <td>2020-06-08 10:16</td>\n      <td>2011-09-23 09:00</td>\n      <td>6120</td>\n      <td>2011/09/0109:29</td>\n      <td>2020/06/08 10:15</td>\n      <td>https://compranet.funcionpublica.gob.mx/esop/g...</td>\n    </tr>\n    <tr>\n      <th>5</th>\n      <td>MEX-Nicolás Romero-Direccion de Obras Publicas...</td>\n      <td>Paulino Mata González</td>\n      <td>arqpau7@hotmail.com</td>\n      <td>México</td>\n      <td>Obra Pública</td>\n      <td>2020-06-08 10:35</td>\n      <td>2011-09-26 09:00</td>\n      <td>6140</td>\n      <td>2011/09/0110:10</td>\n      <td>2020/06/08 10:35</td>\n      <td>https://compranet.funcionpublica.gob.mx/esop/g...</td>\n    </tr>\n  </tbody>\n</table>\n</div>"
     },
     "metadata": {},
     "execution_count": 4
    }
   ],
   "source": [
    "df.iloc[0:6,10:21]"
   ]
  },
  {
   "cell_type": "code",
   "execution_count": 5,
   "metadata": {
    "tags": []
   },
   "outputs": [
    {
     "output_type": "stream",
     "name": "stdout",
     "text": "&lt;class &#39;pandas.core.frame.DataFrame&#39;&gt;\nRangeIndex: 96122 entries, 0 to 96121\nData columns (total 21 columns):\n #   Column                        Non-Null Count  Dtype \n---  ------                        --------------  ----- \n 0   Código del expediente         96122 non-null  int64 \n 1   Número del procedimiento      96120 non-null  object\n 2   Carácter del procedimiento    94081 non-null  object\n 3   Forma del procedimiento       94087 non-null  object\n 4   Artículo de excepción         83724 non-null  object\n 5   REFERENCIA_EXPEDIENTE         92094 non-null  object\n 6   Título del expediente         96122 non-null  object\n 7   Plantilla del expediente      96122 non-null  object\n 8   Descripción del Anuncio       96121 non-null  object\n 9   Clave de la UC                96122 non-null  object\n 10  Nombre de la UC               96122 non-null  object\n 11  Operador                      96122 non-null  object\n 12  Correo electrónico            96122 non-null  object\n 13  Entidad federativa            96121 non-null  object\n 14  Tipo de contratación          96121 non-null  object\n 15  Publicación del anuncio       96122 non-null  object\n 16  Vigencia del anuncio          96100 non-null  object\n 17  Clave COG                     96122 non-null  object\n 18  Fecha de creación             96122 non-null  object\n 19  Fecha de última modificacion  96122 non-null  object\n 20  Dirección del anuncio         96122 non-null  object\ndtypes: int64(1), object(20)\nmemory usage: 15.4+ MB\n"
    }
   ],
   "source": [
    "df.info()"
   ]
  },
  {
   "cell_type": "markdown",
   "metadata": {},
   "source": [
    "## Removing Irrelevant Attributes"
   ]
  },
  {
   "cell_type": "code",
   "execution_count": 6,
   "metadata": {},
   "outputs": [],
   "source": [
    "df_reduced = df.copy(deep = True)"
   ]
  },
  {
   "cell_type": "code",
   "execution_count": 7,
   "metadata": {},
   "outputs": [],
   "source": [
    "df_reduced = df_reduced.drop(['Código del expediente','Número del procedimiento','REFERENCIA_EXPEDIENTE','Clave de la UC','Clave COG','Operador','Correo electrónico'], axis = 1)"
   ]
  },
  {
   "cell_type": "markdown",
   "metadata": {},
   "source": [
    "- Código del expediente : identifier \n",
    "- Número del procedimiento : identifier\n",
    "- REFERENCIA_EXPEDIENTE : identifier\n",
    "- Clave de la UC : identifier\n",
    "- Clave COG : identifier \n",
    "- Operador : personal data \n",
    "- Correo electronico : personal data\n"
   ]
  },
  {
   "cell_type": "code",
   "execution_count": 8,
   "metadata": {},
   "outputs": [
    {
     "output_type": "execute_result",
     "data": {
      "text/plain": "0         True\n1         True\n2        False\n3         True\n4         True\n         ...  \n96117    False\n96118     True\n96119    False\n96120     True\n96121    False\nLength: 96122, dtype: bool"
     },
     "metadata": {},
     "execution_count": 8
    }
   ],
   "source": [
    "(df_reduced['Descripción del Anuncio'] == df_reduced['Título del expediente'])"
   ]
  },
  {
   "cell_type": "code",
   "execution_count": 9,
   "metadata": {},
   "outputs": [
    {
     "output_type": "execute_result",
     "data": {
      "text/plain": "&#39;PROYECTO EJECUTIVO JARDIN VECINAL COLONIA LAS AMERICAS DE ESTA CIUDAD DE SALAMANCA, GTO.&#39;"
     },
     "metadata": {},
     "execution_count": 9
    }
   ],
   "source": [
    "(df_reduced['Descripción del Anuncio'])[2]"
   ]
  },
  {
   "cell_type": "code",
   "execution_count": 10,
   "metadata": {},
   "outputs": [
    {
     "output_type": "execute_result",
     "data": {
      "text/plain": "&#39;PROYECTO EJECUTIVO JARDIN VECINAL COLONIA LAS AMERICAS &#39;"
     },
     "metadata": {},
     "execution_count": 10
    }
   ],
   "source": [
    "(df_reduced['Título del expediente'])[2]"
   ]
  },
  {
   "cell_type": "code",
   "execution_count": 11,
   "metadata": {},
   "outputs": [
    {
     "output_type": "execute_result",
     "data": {
      "text/plain": "  Carácter del procedimiento Forma del procedimiento Artículo de excepción  \\\n0                   Nacional              Presencial                   NaN   \n1                   Nacional              Presencial                   NaN   \n2                        NaN                     NaN           Art. 43 s/f   \n3                   Nacional                   Mixta           Art. 43 s/f   \n4                   Nacional                   Mixta           Art. 43 s/f   \n\n                               Título del expediente  \\\n0  Mejoramiento de la iluminación de la Iglesia S...   \n1  Adquisición de Uniformes para la dirección de ...   \n2  PROYECTO EJECUTIVO JARDIN VECINAL COLONIA LAS ...   \n3             CONSTRUCCION DE DEPORTIVO BICENTENARIO   \n4   ACONDICIONAMIENTO DE CENTRO CULTURAL Y DEPORTIVO   \n\n                            Plantilla del expediente  \\\n0  V20150817 30. Licitación Pública Nacional de O...   \n1  V20150817 28. Licitación Pública Nacional de A...   \n2                    06. Adjudicación Directa LOPSRM   \n3  V20151220 19. Invitación a cuando menos tres N...   \n4  V20151220 19. Invitación a cuando menos tres N...   \n\n                             Descripción del Anuncio  \\\n0  Mejoramiento de la iluminación de la Iglesia S...   \n1  Adquisición de Uniformes para la dirección de ...   \n2  PROYECTO EJECUTIVO JARDIN VECINAL COLONIA LAS ...   \n3             CONSTRUCCION DE DEPORTIVO BICENTENARIO   \n4   ACONDICIONAMIENTO DE CENTRO CULTURAL Y DEPORTIVO   \n\n                                     Nombre de la UC Entidad federativa  \\\n0  QROO-Cozumel-Dirección de Obras Públicas #8230...       Quintana Roo   \n1  QROO-Cozumel-Dirección de Obras Públicas #8230...       Quintana Roo   \n2  GTO-Salamanca-DIRECCION GENERAL DE OBRAS PUBLI...         Guanajuato   \n3  MEX-Nicolás Romero-Direccion de Obras Publicas...             México   \n4  MEX-Nicolás Romero-Direccion de Obras Publicas...             México   \n\n               Tipo de contratación Publicación del anuncio  \\\n0                      Obra Pública        2020-08-10 12:49   \n1                     Adquisiciones        2020-08-14 11:19   \n2  Servicios Relacionados con la OP        2020-03-20 12:35   \n3                      Obra Pública        2020-06-08 10:26   \n4                      Obra Pública        2020-06-08 10:16   \n\n  Vigencia del anuncio Fecha de creación Fecha de última modificacion  \\\n0     2011-08-17 07:00   2011/07/2910:40             2020/08/31 12:51   \n1     2011-08-17 12:00   2011/08/0112:14             2020/08/18 11:32   \n2     2011-08-23 23:00   2011/08/2316:57             2020/03/24 14:26   \n3     2011-09-23 11:00   2011/09/0109:55             2020/06/08 10:26   \n4     2011-09-23 09:00   2011/09/0109:29             2020/06/08 10:15   \n\n                               Dirección del anuncio  \n0  https://compranet.funcionpublica.gob.mx/esop/g...  \n1  https://compranet.funcionpublica.gob.mx/esop/g...  \n2  https://compranet.funcionpublica.gob.mx/esop/g...  \n3  https://compranet.funcionpublica.gob.mx/esop/g...  \n4  https://compranet.funcionpublica.gob.mx/esop/g...  ",
      "text/html": "<div>\n<style scoped>\n    .dataframe tbody tr th:only-of-type {\n        vertical-align: middle;\n    }\n\n    .dataframe tbody tr th {\n        vertical-align: top;\n    }\n\n    .dataframe thead th {\n        text-align: right;\n    }\n</style>\n<table border=\"1\" class=\"dataframe\">\n  <thead>\n    <tr style=\"text-align: right;\">\n      <th></th>\n      <th>Carácter del procedimiento</th>\n      <th>Forma del procedimiento</th>\n      <th>Artículo de excepción</th>\n      <th>Título del expediente</th>\n      <th>Plantilla del expediente</th>\n      <th>Descripción del Anuncio</th>\n      <th>Nombre de la UC</th>\n      <th>Entidad federativa</th>\n      <th>Tipo de contratación</th>\n      <th>Publicación del anuncio</th>\n      <th>Vigencia del anuncio</th>\n      <th>Fecha de creación</th>\n      <th>Fecha de última modificacion</th>\n      <th>Dirección del anuncio</th>\n    </tr>\n  </thead>\n  <tbody>\n    <tr>\n      <th>0</th>\n      <td>Nacional</td>\n      <td>Presencial</td>\n      <td>NaN</td>\n      <td>Mejoramiento de la iluminación de la Iglesia S...</td>\n      <td>V20150817 30. Licitación Pública Nacional de O...</td>\n      <td>Mejoramiento de la iluminación de la Iglesia S...</td>\n      <td>QROO-Cozumel-Dirección de Obras Públicas #8230...</td>\n      <td>Quintana Roo</td>\n      <td>Obra Pública</td>\n      <td>2020-08-10 12:49</td>\n      <td>2011-08-17 07:00</td>\n      <td>2011/07/2910:40</td>\n      <td>2020/08/31 12:51</td>\n      <td>https://compranet.funcionpublica.gob.mx/esop/g...</td>\n    </tr>\n    <tr>\n      <th>1</th>\n      <td>Nacional</td>\n      <td>Presencial</td>\n      <td>NaN</td>\n      <td>Adquisición de Uniformes para la dirección de ...</td>\n      <td>V20150817 28. Licitación Pública Nacional de A...</td>\n      <td>Adquisición de Uniformes para la dirección de ...</td>\n      <td>QROO-Cozumel-Dirección de Obras Públicas #8230...</td>\n      <td>Quintana Roo</td>\n      <td>Adquisiciones</td>\n      <td>2020-08-14 11:19</td>\n      <td>2011-08-17 12:00</td>\n      <td>2011/08/0112:14</td>\n      <td>2020/08/18 11:32</td>\n      <td>https://compranet.funcionpublica.gob.mx/esop/g...</td>\n    </tr>\n    <tr>\n      <th>2</th>\n      <td>NaN</td>\n      <td>NaN</td>\n      <td>Art. 43 s/f</td>\n      <td>PROYECTO EJECUTIVO JARDIN VECINAL COLONIA LAS ...</td>\n      <td>06. Adjudicación Directa LOPSRM</td>\n      <td>PROYECTO EJECUTIVO JARDIN VECINAL COLONIA LAS ...</td>\n      <td>GTO-Salamanca-DIRECCION GENERAL DE OBRAS PUBLI...</td>\n      <td>Guanajuato</td>\n      <td>Servicios Relacionados con la OP</td>\n      <td>2020-03-20 12:35</td>\n      <td>2011-08-23 23:00</td>\n      <td>2011/08/2316:57</td>\n      <td>2020/03/24 14:26</td>\n      <td>https://compranet.funcionpublica.gob.mx/esop/g...</td>\n    </tr>\n    <tr>\n      <th>3</th>\n      <td>Nacional</td>\n      <td>Mixta</td>\n      <td>Art. 43 s/f</td>\n      <td>CONSTRUCCION DE DEPORTIVO BICENTENARIO</td>\n      <td>V20151220 19. Invitación a cuando menos tres N...</td>\n      <td>CONSTRUCCION DE DEPORTIVO BICENTENARIO</td>\n      <td>MEX-Nicolás Romero-Direccion de Obras Publicas...</td>\n      <td>México</td>\n      <td>Obra Pública</td>\n      <td>2020-06-08 10:26</td>\n      <td>2011-09-23 11:00</td>\n      <td>2011/09/0109:55</td>\n      <td>2020/06/08 10:26</td>\n      <td>https://compranet.funcionpublica.gob.mx/esop/g...</td>\n    </tr>\n    <tr>\n      <th>4</th>\n      <td>Nacional</td>\n      <td>Mixta</td>\n      <td>Art. 43 s/f</td>\n      <td>ACONDICIONAMIENTO DE CENTRO CULTURAL Y DEPORTIVO</td>\n      <td>V20151220 19. Invitación a cuando menos tres N...</td>\n      <td>ACONDICIONAMIENTO DE CENTRO CULTURAL Y DEPORTIVO</td>\n      <td>MEX-Nicolás Romero-Direccion de Obras Publicas...</td>\n      <td>México</td>\n      <td>Obra Pública</td>\n      <td>2020-06-08 10:16</td>\n      <td>2011-09-23 09:00</td>\n      <td>2011/09/0109:29</td>\n      <td>2020/06/08 10:15</td>\n      <td>https://compranet.funcionpublica.gob.mx/esop/g...</td>\n    </tr>\n  </tbody>\n</table>\n</div>"
     },
     "metadata": {},
     "execution_count": 11
    }
   ],
   "source": [
    "df_reduced.head(5)"
   ]
  },
  {
   "cell_type": "markdown",
   "metadata": {},
   "source": [
    "## Feature Engineering"
   ]
  },
  {
   "cell_type": "code",
   "execution_count": 12,
   "metadata": {},
   "outputs": [],
   "source": [
    "#function to remove the accents\n",
    "def remove_accents(text):\n",
    "    new = unicodedata.normalize('NFKD', text).encode('ascii','ignore').decode('utf-8','ignore')\n",
    "    return new\n",
    "def lower_case(text):\n",
    "    return text.lower()"
   ]
  },
  {
   "cell_type": "code",
   "execution_count": 13,
   "metadata": {},
   "outputs": [],
   "source": [
    "df_reduced['Entidad federativa'] = df_reduced['Entidad federativa'].astype(str)\n",
    "df_reduced['Tipo de contratación'] = df_reduced['Tipo de contratación'].astype(str)\n",
    "df_reduced['Carácter del procedimiento'] = df_reduced['Carácter del procedimiento'].astype(str)\n",
    "df_reduced['Forma del procedimiento'] = df_reduced['Forma del procedimiento'].astype(str)"
   ]
  },
  {
   "cell_type": "code",
   "execution_count": 14,
   "metadata": {},
   "outputs": [],
   "source": [
    "df_reduced['Entidad federativa'] = df_reduced['Entidad federativa'].apply(remove_accents)\n",
    "df_reduced['Tipo de contratación'] = df_reduced['Tipo de contratación'].apply(remove_accents)\n",
    "df_reduced['Carácter del procedimiento'] = df_reduced['Carácter del procedimiento'].apply(remove_accents)\n",
    "df_reduced['Forma del procedimiento'] = df_reduced['Forma del procedimiento'].apply(remove_accents)"
   ]
  },
  {
   "cell_type": "code",
   "execution_count": 15,
   "metadata": {},
   "outputs": [
    {
     "output_type": "execute_result",
     "data": {
      "text/plain": "Ciudad de Mexico       37371\nVeracruz                4151\nMexico                  3930\nMorelos                 3255\nJalisco                 3197\nOaxaca                  2518\nPuebla                  2477\nSinaloa                 2470\nGuanajuato              2217\nYucatan                 2132\nChihuahua               2064\nTamaulipas              2048\nHidalgo                 2002\nSonora                  1991\nCoahuila                1896\nTabasco                 1858\nBaja California         1775\nNuevo Leon              1716\nChiapas                 1708\nMichoacan               1675\nQueretaro               1586\nGuerrero                1498\nSan Luis Potosi         1497\nCampeche                1276\nBaja California Sur     1272\nNayarit                 1233\nDurango                 1187\nQuintana Roo            1099\nZacatecas                850\nTlaxcala                 791\nColima                   718\nAguascalientes           663\nnan                        1\nName: Entidad federativa, dtype: int64"
     },
     "metadata": {},
     "execution_count": 15
    }
   ],
   "source": [
    "df_reduced['Entidad federativa'].value_counts()"
   ]
  },
  {
   "cell_type": "markdown",
   "metadata": {},
   "source": [
    "We will classify the states of Mexico into  regions"
   ]
  },
  {
   "cell_type": "code",
   "execution_count": 16,
   "metadata": {},
   "outputs": [],
   "source": [
    "map_states = {'Baja California':'North',\n",
    "                'Baja California Sur':'North',\n",
    "                'Chihuahua':'North',\n",
    "                'Coahuila':'North',\n",
    "                'Durango':'North',\n",
    "                'Zacatecas':'North',\n",
    "                'Aguascalientes':'North',\n",
    "                'Nuevo Leon':'North',\n",
    "                'Tamaulipas':'North','Sinaloa':'North Pacific','Nayarit':'North Pacific','Jalsico':'North Pacific','Colima':'North Pacific','Michoacan':'Bajio','Guanajuato':'Bajio','San Luis Potosio':'Bajio','Queretaro':'Bajio','Guerrero':'South Pacific','Oaxaca':'South Pacific','Chiapas':'South Pacific','Campeche':'South','Yucatan':'South','Quintana Roo':'South','Tabasco':'Gulf','Veracruz':'Gulf','Mexico':'Center','Puebla':'Center','Morelos':'Center','Tlaxcala':'Center','Hidalgo':'Center','Ciudad de Mexico':'Center'}"
   ]
  },
  {
   "cell_type": "code",
   "execution_count": 17,
   "metadata": {},
   "outputs": [],
   "source": [
    "df_reduced['Entidad federativa'] = df_reduced['Entidad federativa'].map(map_states)"
   ]
  },
  {
   "cell_type": "code",
   "execution_count": 18,
   "metadata": {},
   "outputs": [
    {
     "output_type": "execute_result",
     "data": {
      "text/plain": "Center           49826\nNorth            13471\nGulf              6009\nSouth Pacific     5724\nBajio             5478\nSouth             4507\nNorth Pacific     4421\nName: Entidad federativa, dtype: int64"
     },
     "metadata": {},
     "execution_count": 18
    }
   ],
   "source": [
    "df_reduced['Entidad federativa'].value_counts()"
   ]
  },
  {
   "cell_type": "code",
   "execution_count": 19,
   "metadata": {},
   "outputs": [
    {
     "output_type": "execute_result",
     "data": {
      "text/plain": "Nacional                  80611\nInternacional bajo TLC     6743\nInternacional              5848\nnan                        2041\nOtro                        877\nInternacional Abierto         2\nName: Carácter del procedimiento, dtype: int64"
     },
     "metadata": {},
     "execution_count": 19
    }
   ],
   "source": [
    "df_reduced['Carácter del procedimiento'].value_counts()"
   ]
  },
  {
   "cell_type": "code",
   "execution_count": 20,
   "metadata": {},
   "outputs": [
    {
     "output_type": "execute_result",
     "data": {
      "text/plain": "Presencial     47123\nElectronica    37730\nMixta           9234\nnan             2035\nName: Forma del procedimiento, dtype: int64"
     },
     "metadata": {},
     "execution_count": 20
    }
   ],
   "source": [
    "df_reduced['Forma del procedimiento'].value_counts()"
   ]
  },
  {
   "cell_type": "code",
   "execution_count": 21,
   "metadata": {},
   "outputs": [
    {
     "output_type": "execute_result",
     "data": {
      "text/plain": "Adquisiciones                       47776\nServicios                           38488\nObra Publica                         7256\nServicios Relacionados con la OP     1896\nArrendamientos                        705\nnan                                     1\nName: Tipo de contratación, dtype: int64"
     },
     "metadata": {},
     "execution_count": 21
    }
   ],
   "source": [
    "df_reduced['Tipo de contratación'].value_counts()"
   ]
  },
  {
   "cell_type": "markdown",
   "metadata": {},
   "source": [
    "### Natural Language Processing"
   ]
  },
  {
   "cell_type": "code",
   "execution_count": 22,
   "metadata": {},
   "outputs": [],
   "source": [
    "import nltk # Python library for NLP\n",
    "import matplotlib.pyplot as plt            # library for visualization\n",
    "import random                              # pseudo-random number generator\n",
    "import re                                  # library for regular expression operations\n",
    "import string                              # for string operations\n",
    "from nltk.corpus import stopwords          # module for stop words that come with NLTK\n",
    "from nltk.stem import PorterStemmer        # module for stemming\n",
    "from nltk.tokenize import TweetTokenizer   # module for tokenizing strings"
   ]
  },
  {
   "cell_type": "code",
   "execution_count": 23,
   "metadata": {
    "tags": []
   },
   "outputs": [
    {
     "output_type": "stream",
     "name": "stderr",
     "text": "[nltk_data] Downloading package stopwords to\n[nltk_data]     C:\\Users\\edudi\\AppData\\Roaming\\nltk_data...\n[nltk_data]   Package stopwords is already up-to-date!\n"
    },
    {
     "output_type": "execute_result",
     "data": {
      "text/plain": "True"
     },
     "metadata": {},
     "execution_count": 23
    }
   ],
   "source": [
    "nltk.download('stopwords')"
   ]
  },
  {
   "cell_type": "code",
   "execution_count": 24,
   "metadata": {},
   "outputs": [
    {
     "output_type": "execute_result",
     "data": {
      "text/plain": "&#39;Mejoramiento de la iluminación de la Iglesia San Miguel&#39;"
     },
     "metadata": {},
     "execution_count": 24
    }
   ],
   "source": [
    "df_reduced['Título del expediente'][0]"
   ]
  },
  {
   "cell_type": "markdown",
   "metadata": {},
   "source": [
    "We want to remove accented characters and convert to lowercase."
   ]
  },
  {
   "cell_type": "code",
   "execution_count": 25,
   "metadata": {},
   "outputs": [],
   "source": [
    "df_reduced['Título del expediente'] = df_reduced['Título del expediente'].astype(str)"
   ]
  },
  {
   "cell_type": "code",
   "execution_count": 26,
   "metadata": {},
   "outputs": [],
   "source": [
    "df_reduced['Título del expediente'] = df_reduced['Título del expediente'].apply(remove_accents)"
   ]
  },
  {
   "cell_type": "code",
   "execution_count": 27,
   "metadata": {},
   "outputs": [],
   "source": [
    "df_reduced['Título del expediente'] = df_reduced['Título del expediente'].apply(lower_case)"
   ]
  },
  {
   "cell_type": "code",
   "execution_count": 28,
   "metadata": {},
   "outputs": [],
   "source": [
    "df_reduced['Descripción del Anuncio'] = df_reduced['Descripción del Anuncio'].astype(str)"
   ]
  },
  {
   "cell_type": "code",
   "execution_count": 29,
   "metadata": {},
   "outputs": [],
   "source": [
    "df_reduced['Descripción del Anuncio'] = df_reduced['Descripción del Anuncio'].apply(remove_accents)"
   ]
  },
  {
   "cell_type": "code",
   "execution_count": 30,
   "metadata": {},
   "outputs": [],
   "source": [
    "df_reduced['Descripción del Anuncio'] = df_reduced['Descripción del Anuncio'].apply(lower_case)"
   ]
  },
  {
   "cell_type": "code",
   "execution_count": 31,
   "metadata": {},
   "outputs": [
    {
     "output_type": "execute_result",
     "data": {
      "text/plain": "0        mejoramiento de la iluminacion de la iglesia s...\n1        adquisicion de uniformes para la direccion de ...\n2        proyecto ejecutivo jardin vecinal colonia las ...\n3                   construccion de deportivo bicentenario\n4         acondicionamiento de centro cultural y deportivo\n                               ...                        \n96117                      maquinaria y equipo industrial \n96118    jabones de tocador, det en polvo, jabon de lav...\n96119    construccion de 02 aulas didacticas y obra ext...\n96120                     adquisicion de muebles de madera\n96121    reparacion integral de mecanismos de apertura ...\nName: Descripción del Anuncio, Length: 96122, dtype: object"
     },
     "metadata": {},
     "execution_count": 31
    }
   ],
   "source": [
    "df_reduced['Descripción del Anuncio']"
   ]
  },
  {
   "cell_type": "markdown",
   "metadata": {},
   "source": [
    "### Tokenizing the string"
   ]
  },
  {
   "cell_type": "code",
   "execution_count": 32,
   "metadata": {},
   "outputs": [],
   "source": [
    "from nltk.tokenize import sent_tokenize, word_tokenize"
   ]
  },
  {
   "cell_type": "code",
   "execution_count": 33,
   "metadata": {},
   "outputs": [],
   "source": [
    "df_new = df_reduced.copy(deep = True)"
   ]
  },
  {
   "cell_type": "markdown",
   "metadata": {},
   "source": [
    "Tokenize = split the strings into individual words without blanks or tabs."
   ]
  },
  {
   "cell_type": "code",
   "execution_count": 34,
   "metadata": {},
   "outputs": [],
   "source": [
    "df_new['Título del expediente']= df_new['Título del expediente'].fillna(\"\").map(nltk.word_tokenize)"
   ]
  },
  {
   "cell_type": "code",
   "execution_count": 35,
   "metadata": {},
   "outputs": [],
   "source": [
    "df_new['Descripción del Anuncio'] = df_new['Descripción del Anuncio'].fillna(\"\").map(nltk.word_tokenize)"
   ]
  },
  {
   "cell_type": "code",
   "execution_count": 36,
   "metadata": {},
   "outputs": [
    {
     "output_type": "execute_result",
     "data": {
      "text/plain": "  Carácter del procedimiento Forma del procedimiento Artículo de excepción  \\\n0                   Nacional              Presencial                   NaN   \n1                   Nacional              Presencial                   NaN   \n2                        nan                     nan           Art. 43 s/f   \n3                   Nacional                   Mixta           Art. 43 s/f   \n4                   Nacional                   Mixta           Art. 43 s/f   \n\n                               Título del expediente  \\\n0  [mejoramiento, de, la, iluminacion, de, la, ig...   \n1  [adquisicion, de, uniformes, para, la, direcci...   \n2  [proyecto, ejecutivo, jardin, vecinal, colonia...   \n3        [construccion, de, deportivo, bicentenario]   \n4  [acondicionamiento, de, centro, cultural, y, d...   \n\n                            Plantilla del expediente  \\\n0  V20150817 30. Licitación Pública Nacional de O...   \n1  V20150817 28. Licitación Pública Nacional de A...   \n2                    06. Adjudicación Directa LOPSRM   \n3  V20151220 19. Invitación a cuando menos tres N...   \n4  V20151220 19. Invitación a cuando menos tres N...   \n\n                             Descripción del Anuncio  \\\n0  [mejoramiento, de, la, iluminacion, de, la, ig...   \n1  [adquisicion, de, uniformes, para, la, direcci...   \n2  [proyecto, ejecutivo, jardin, vecinal, colonia...   \n3        [construccion, de, deportivo, bicentenario]   \n4  [acondicionamiento, de, centro, cultural, y, d...   \n\n                                     Nombre de la UC Entidad federativa  \\\n0  QROO-Cozumel-Dirección de Obras Públicas #8230...              South   \n1  QROO-Cozumel-Dirección de Obras Públicas #8230...              South   \n2  GTO-Salamanca-DIRECCION GENERAL DE OBRAS PUBLI...              Bajio   \n3  MEX-Nicolás Romero-Direccion de Obras Publicas...             Center   \n4  MEX-Nicolás Romero-Direccion de Obras Publicas...             Center   \n\n               Tipo de contratación Publicación del anuncio  \\\n0                      Obra Publica        2020-08-10 12:49   \n1                     Adquisiciones        2020-08-14 11:19   \n2  Servicios Relacionados con la OP        2020-03-20 12:35   \n3                      Obra Publica        2020-06-08 10:26   \n4                      Obra Publica        2020-06-08 10:16   \n\n  Vigencia del anuncio Fecha de creación Fecha de última modificacion  \\\n0     2011-08-17 07:00   2011/07/2910:40             2020/08/31 12:51   \n1     2011-08-17 12:00   2011/08/0112:14             2020/08/18 11:32   \n2     2011-08-23 23:00   2011/08/2316:57             2020/03/24 14:26   \n3     2011-09-23 11:00   2011/09/0109:55             2020/06/08 10:26   \n4     2011-09-23 09:00   2011/09/0109:29             2020/06/08 10:15   \n\n                               Dirección del anuncio  \n0  https://compranet.funcionpublica.gob.mx/esop/g...  \n1  https://compranet.funcionpublica.gob.mx/esop/g...  \n2  https://compranet.funcionpublica.gob.mx/esop/g...  \n3  https://compranet.funcionpublica.gob.mx/esop/g...  \n4  https://compranet.funcionpublica.gob.mx/esop/g...  ",
      "text/html": "<div>\n<style scoped>\n    .dataframe tbody tr th:only-of-type {\n        vertical-align: middle;\n    }\n\n    .dataframe tbody tr th {\n        vertical-align: top;\n    }\n\n    .dataframe thead th {\n        text-align: right;\n    }\n</style>\n<table border=\"1\" class=\"dataframe\">\n  <thead>\n    <tr style=\"text-align: right;\">\n      <th></th>\n      <th>Carácter del procedimiento</th>\n      <th>Forma del procedimiento</th>\n      <th>Artículo de excepción</th>\n      <th>Título del expediente</th>\n      <th>Plantilla del expediente</th>\n      <th>Descripción del Anuncio</th>\n      <th>Nombre de la UC</th>\n      <th>Entidad federativa</th>\n      <th>Tipo de contratación</th>\n      <th>Publicación del anuncio</th>\n      <th>Vigencia del anuncio</th>\n      <th>Fecha de creación</th>\n      <th>Fecha de última modificacion</th>\n      <th>Dirección del anuncio</th>\n    </tr>\n  </thead>\n  <tbody>\n    <tr>\n      <th>0</th>\n      <td>Nacional</td>\n      <td>Presencial</td>\n      <td>NaN</td>\n      <td>[mejoramiento, de, la, iluminacion, de, la, ig...</td>\n      <td>V20150817 30. Licitación Pública Nacional de O...</td>\n      <td>[mejoramiento, de, la, iluminacion, de, la, ig...</td>\n      <td>QROO-Cozumel-Dirección de Obras Públicas #8230...</td>\n      <td>South</td>\n      <td>Obra Publica</td>\n      <td>2020-08-10 12:49</td>\n      <td>2011-08-17 07:00</td>\n      <td>2011/07/2910:40</td>\n      <td>2020/08/31 12:51</td>\n      <td>https://compranet.funcionpublica.gob.mx/esop/g...</td>\n    </tr>\n    <tr>\n      <th>1</th>\n      <td>Nacional</td>\n      <td>Presencial</td>\n      <td>NaN</td>\n      <td>[adquisicion, de, uniformes, para, la, direcci...</td>\n      <td>V20150817 28. Licitación Pública Nacional de A...</td>\n      <td>[adquisicion, de, uniformes, para, la, direcci...</td>\n      <td>QROO-Cozumel-Dirección de Obras Públicas #8230...</td>\n      <td>South</td>\n      <td>Adquisiciones</td>\n      <td>2020-08-14 11:19</td>\n      <td>2011-08-17 12:00</td>\n      <td>2011/08/0112:14</td>\n      <td>2020/08/18 11:32</td>\n      <td>https://compranet.funcionpublica.gob.mx/esop/g...</td>\n    </tr>\n    <tr>\n      <th>2</th>\n      <td>nan</td>\n      <td>nan</td>\n      <td>Art. 43 s/f</td>\n      <td>[proyecto, ejecutivo, jardin, vecinal, colonia...</td>\n      <td>06. Adjudicación Directa LOPSRM</td>\n      <td>[proyecto, ejecutivo, jardin, vecinal, colonia...</td>\n      <td>GTO-Salamanca-DIRECCION GENERAL DE OBRAS PUBLI...</td>\n      <td>Bajio</td>\n      <td>Servicios Relacionados con la OP</td>\n      <td>2020-03-20 12:35</td>\n      <td>2011-08-23 23:00</td>\n      <td>2011/08/2316:57</td>\n      <td>2020/03/24 14:26</td>\n      <td>https://compranet.funcionpublica.gob.mx/esop/g...</td>\n    </tr>\n    <tr>\n      <th>3</th>\n      <td>Nacional</td>\n      <td>Mixta</td>\n      <td>Art. 43 s/f</td>\n      <td>[construccion, de, deportivo, bicentenario]</td>\n      <td>V20151220 19. Invitación a cuando menos tres N...</td>\n      <td>[construccion, de, deportivo, bicentenario]</td>\n      <td>MEX-Nicolás Romero-Direccion de Obras Publicas...</td>\n      <td>Center</td>\n      <td>Obra Publica</td>\n      <td>2020-06-08 10:26</td>\n      <td>2011-09-23 11:00</td>\n      <td>2011/09/0109:55</td>\n      <td>2020/06/08 10:26</td>\n      <td>https://compranet.funcionpublica.gob.mx/esop/g...</td>\n    </tr>\n    <tr>\n      <th>4</th>\n      <td>Nacional</td>\n      <td>Mixta</td>\n      <td>Art. 43 s/f</td>\n      <td>[acondicionamiento, de, centro, cultural, y, d...</td>\n      <td>V20151220 19. Invitación a cuando menos tres N...</td>\n      <td>[acondicionamiento, de, centro, cultural, y, d...</td>\n      <td>MEX-Nicolás Romero-Direccion de Obras Publicas...</td>\n      <td>Center</td>\n      <td>Obra Publica</td>\n      <td>2020-06-08 10:16</td>\n      <td>2011-09-23 09:00</td>\n      <td>2011/09/0109:29</td>\n      <td>2020/06/08 10:15</td>\n      <td>https://compranet.funcionpublica.gob.mx/esop/g...</td>\n    </tr>\n  </tbody>\n</table>\n</div>"
     },
     "metadata": {},
     "execution_count": 36
    }
   ],
   "source": [
    "df_new.head(5)"
   ]
  },
  {
   "cell_type": "markdown",
   "metadata": {},
   "source": [
    "### Remove stop words and punctuations"
   ]
  },
  {
   "cell_type": "code",
   "execution_count": 37,
   "metadata": {},
   "outputs": [],
   "source": [
    "stopwords_esp = stopwords.words('spanish')"
   ]
  },
  {
   "cell_type": "code",
   "execution_count": 38,
   "metadata": {
    "tags": []
   },
   "outputs": [],
   "source": [
    "def clean_token(column):\n",
    "    clean_text = []\n",
    "    for word in column: # Go through every word in your tokens list\n",
    "        if (word not in stopwords_esp and  # remove stopwords\n",
    "            word not in string.punctuation): # remove punctuation   \n",
    "            word_ = ''\n",
    "            for char in word:\n",
    "                if (char not in string.punctuation and\n",
    "                    char not in ['1','2','3','4','5','6','7','8','9','0']):\n",
    "                    word_ = \"\".join((word_,char))\n",
    "            clean_text.append(word_)\n",
    "\n",
    "    return clean_text"
   ]
  },
  {
   "cell_type": "code",
   "execution_count": 39,
   "metadata": {},
   "outputs": [],
   "source": [
    "df_new['Título del expediente'] = df_new['Título del expediente'].apply(clean_token)"
   ]
  },
  {
   "cell_type": "code",
   "execution_count": 40,
   "metadata": {},
   "outputs": [],
   "source": [
    "df_new['Descripción del Anuncio'] = df_new['Descripción del Anuncio'].apply(clean_token).apply(clean_token).apply(clean_token)"
   ]
  },
  {
   "cell_type": "markdown",
   "metadata": {},
   "source": [
    "### Stemming"
   ]
  },
  {
   "cell_type": "code",
   "execution_count": 41,
   "metadata": {},
   "outputs": [],
   "source": [
    "from nltk.stem import SnowballStemmer"
   ]
  },
  {
   "cell_type": "markdown",
   "metadata": {},
   "source": [
    "Stemming = the process of transforming each word to its roots. "
   ]
  },
  {
   "cell_type": "code",
   "execution_count": 42,
   "metadata": {},
   "outputs": [],
   "source": [
    "stemmer = SnowballStemmer('spanish')"
   ]
  },
  {
   "cell_type": "code",
   "execution_count": 43,
   "metadata": {},
   "outputs": [],
   "source": [
    "def stem_token(column):\n",
    "    stem_text = []\n",
    "\n",
    "    for word in column: # Go through every word in your tokens list\n",
    "        stem_word = stemmer.stem(word)\n",
    "        stem_text.append(stem_word)\n",
    "\n",
    "    return stem_text"
   ]
  },
  {
   "cell_type": "code",
   "execution_count": 44,
   "metadata": {},
   "outputs": [],
   "source": [
    "df_new['Descripción del Anuncio'] = df_new['Descripción del Anuncio'].apply(stem_token)\n"
   ]
  },
  {
   "cell_type": "code",
   "execution_count": 45,
   "metadata": {},
   "outputs": [],
   "source": [
    "df_new['Título del expediente'] = df_new['Título del expediente'].apply(stem_token)"
   ]
  },
  {
   "cell_type": "code",
   "execution_count": 46,
   "metadata": {},
   "outputs": [
    {
     "output_type": "execute_result",
     "data": {
      "text/plain": "0                [mejor, iluminacion, iglesi, san, miguel]\n1        [adquisicion, uniform, direccion, segur, publi...\n2        [proyect, ejecut, jardin, vecinal, coloni, ame...\n3                      [construccion, deport, bicentenari]\n4                    [acondicion, centr, cultural, deport]\n                               ...                        \n96117                       [maquinari, equip, industrial]\n96118        [jabon, tocador, det, polv, jabon, lavanderi]\n96119    [construccion, aul, didact, obra, exterior, vi...\n96120                          [adquisicion, muebl, mader]\n96121    [reparacion, integral, mecan, apertur, puert, ...\nName: Descripción del Anuncio, Length: 96122, dtype: object"
     },
     "metadata": {},
     "execution_count": 46
    }
   ],
   "source": [
    "df_new['Descripción del Anuncio']"
   ]
  },
  {
   "source": [
    "# Continue in next notebook..."
   ],
   "cell_type": "markdown",
   "metadata": {}
  },
  {
   "cell_type": "code",
   "execution_count": 47,
   "metadata": {},
   "outputs": [],
   "source": [
    "# Save the object in a python file\n",
    "import pickle\n",
    "\n",
    "with open('df1.data','wb') as data:\n",
    "    pickle.dump(df_new, data)"
   ]
  }
 ],
 "metadata": {
  "language_info": {
   "codemirror_mode": {
    "name": "ipython",
    "version": 3
   },
   "file_extension": ".py",
   "mimetype": "text/x-python",
   "name": "python",
   "nbconvert_exporter": "python",
   "pygments_lexer": "ipython3",
   "version": "3.7.4-final"
  },
  "orig_nbformat": 2,
  "kernelspec": {
   "name": "Python 3.7.4 64-bit ('base': conda)",
   "display_name": "Python 3.7.4 64-bit ('base': conda)",
   "metadata": {
    "interpreter": {
     "hash": "1c806136200b0eca212bee46925cab97b1df6a3bae2401ff46da3aaaf2e1deb3"
    }
   }
  }
 },
 "nbformat": 4,
 "nbformat_minor": 2
}