{
 "cells": [
  {
   "cell_type": "markdown",
   "metadata": {},
   "source": [
    "# Preprocessing "
   ]
  },
  {
   "cell_type": "code",
   "execution_count": 1,
   "metadata": {},
   "outputs": [],
   "source": [
    "#Importing Libraties \n",
    "import pandas as pd\n",
    "import unicodedata\n",
    "import numpy as np"
   ]
  },
  {
   "cell_type": "markdown",
   "metadata": {},
   "source": [
    "## Importing the Data"
   ]
  },
  {
   "cell_type": "code",
   "execution_count": 2,
   "metadata": {},
   "outputs": [],
   "source": [
    "df = pd.read_excel('ExpedientesPublicados2020_200906074133.xlsx')"
   ]
  },
  {
   "cell_type": "code",
   "execution_count": 3,
   "metadata": {},
   "outputs": [
    {
     "output_type": "execute_result",
     "data": {
      "text/plain": "   Código del expediente Número del procedimiento Carácter del procedimiento  \\\n0                  50739     EO-823001999-N8-2011                   Nacional   \n1                  51475    EA-823001999-N10-2011                   Nacional   \n2                  61495    AO-811027990-N12-2011                        NaN   \n3                  65885     IO-815060972-N7-2011                   Nacional   \n4                  65850     IO-815060972-N8-2011                   Nacional   \n5                  65910     IO-815060972-N6-2011                   Nacional   \n\n  Forma del procedimiento Artículo de excepción  \\\n0              Presencial                   NaN   \n1              Presencial                   NaN   \n2                     NaN           Art. 43 s/f   \n3                   Mixta           Art. 43 s/f   \n4                   Mixta           Art. 43 s/f   \n5                   Mixta           Art. 43 s/f   \n\n                  REFERENCIA_EXPEDIENTE  \\\n0                                   NaN   \n1                                   NaN   \n2              DGOP/HABITAT/PROY/007-11   \n3      NR-OP-IR-PREP-15060-EMF-002/2011   \n4      NR-OP-IR-PREP-15060-EMF-001/2011   \n5  NR-OP-IR-HABITAT-01/150601ME008/2011   \n\n                               Título del expediente  \\\n0  Mejoramiento de la iluminación de la Iglesia S...   \n1  Adquisición de Uniformes para la dirección de ...   \n2  PROYECTO EJECUTIVO JARDIN VECINAL COLONIA LAS ...   \n3             CONSTRUCCION DE DEPORTIVO BICENTENARIO   \n4   ACONDICIONAMIENTO DE CENTRO CULTURAL Y DEPORTIVO   \n5                            PAVIMENTACIÓN ASFÁLTICA   \n\n                            Plantilla del expediente  \\\n0  V20150817 30. Licitación Pública Nacional de O...   \n1  V20150817 28. Licitación Pública Nacional de A...   \n2                    06. Adjudicación Directa LOPSRM   \n3  V20151220 19. Invitación a cuando menos tres N...   \n4  V20151220 19. Invitación a cuando menos tres N...   \n5  V20151220 19. Invitación a cuando menos tres N...   \n\n                             Descripción del Anuncio Clave de la UC  \n0  Mejoramiento de la iluminación de la Iglesia S...      823001999  \n1  Adquisición de Uniformes para la dirección de ...      823001999  \n2  PROYECTO EJECUTIVO JARDIN VECINAL COLONIA LAS ...      811027990  \n3             CONSTRUCCION DE DEPORTIVO BICENTENARIO      815060972  \n4   ACONDICIONAMIENTO DE CENTRO CULTURAL Y DEPORTIVO      815060972  \n5                            PAVIMENTACIÓN ASFÁLTICA      815060972  ",
      "text/html": "<div>\n<style scoped>\n    .dataframe tbody tr th:only-of-type {\n        vertical-align: middle;\n    }\n\n    .dataframe tbody tr th {\n        vertical-align: top;\n    }\n\n    .dataframe thead th {\n        text-align: right;\n    }\n</style>\n<table border=\"1\" class=\"dataframe\">\n  <thead>\n    <tr style=\"text-align: right;\">\n      <th></th>\n      <th>Código del expediente</th>\n      <th>Número del procedimiento</th>\n      <th>Carácter del procedimiento</th>\n      <th>Forma del procedimiento</th>\n      <th>Artículo de excepción</th>\n      <th>REFERENCIA_EXPEDIENTE</th>\n      <th>Título del expediente</th>\n      <th>Plantilla del expediente</th>\n      <th>Descripción del Anuncio</th>\n      <th>Clave de la UC</th>\n    </tr>\n  </thead>\n  <tbody>\n    <tr>\n      <th>0</th>\n      <td>50739</td>\n      <td>EO-823001999-N8-2011</td>\n      <td>Nacional</td>\n      <td>Presencial</td>\n      <td>NaN</td>\n      <td>NaN</td>\n      <td>Mejoramiento de la iluminación de la Iglesia S...</td>\n      <td>V20150817 30. Licitación Pública Nacional de O...</td>\n      <td>Mejoramiento de la iluminación de la Iglesia S...</td>\n      <td>823001999</td>\n    </tr>\n    <tr>\n      <th>1</th>\n      <td>51475</td>\n      <td>EA-823001999-N10-2011</td>\n      <td>Nacional</td>\n      <td>Presencial</td>\n      <td>NaN</td>\n      <td>NaN</td>\n      <td>Adquisición de Uniformes para la dirección de ...</td>\n      <td>V20150817 28. Licitación Pública Nacional de A...</td>\n      <td>Adquisición de Uniformes para la dirección de ...</td>\n      <td>823001999</td>\n    </tr>\n    <tr>\n      <th>2</th>\n      <td>61495</td>\n      <td>AO-811027990-N12-2011</td>\n      <td>NaN</td>\n      <td>NaN</td>\n      <td>Art. 43 s/f</td>\n      <td>DGOP/HABITAT/PROY/007-11</td>\n      <td>PROYECTO EJECUTIVO JARDIN VECINAL COLONIA LAS ...</td>\n      <td>06. Adjudicación Directa LOPSRM</td>\n      <td>PROYECTO EJECUTIVO JARDIN VECINAL COLONIA LAS ...</td>\n      <td>811027990</td>\n    </tr>\n    <tr>\n      <th>3</th>\n      <td>65885</td>\n      <td>IO-815060972-N7-2011</td>\n      <td>Nacional</td>\n      <td>Mixta</td>\n      <td>Art. 43 s/f</td>\n      <td>NR-OP-IR-PREP-15060-EMF-002/2011</td>\n      <td>CONSTRUCCION DE DEPORTIVO BICENTENARIO</td>\n      <td>V20151220 19. Invitación a cuando menos tres N...</td>\n      <td>CONSTRUCCION DE DEPORTIVO BICENTENARIO</td>\n      <td>815060972</td>\n    </tr>\n    <tr>\n      <th>4</th>\n      <td>65850</td>\n      <td>IO-815060972-N8-2011</td>\n      <td>Nacional</td>\n      <td>Mixta</td>\n      <td>Art. 43 s/f</td>\n      <td>NR-OP-IR-PREP-15060-EMF-001/2011</td>\n      <td>ACONDICIONAMIENTO DE CENTRO CULTURAL Y DEPORTIVO</td>\n      <td>V20151220 19. Invitación a cuando menos tres N...</td>\n      <td>ACONDICIONAMIENTO DE CENTRO CULTURAL Y DEPORTIVO</td>\n      <td>815060972</td>\n    </tr>\n    <tr>\n      <th>5</th>\n      <td>65910</td>\n      <td>IO-815060972-N6-2011</td>\n      <td>Nacional</td>\n      <td>Mixta</td>\n      <td>Art. 43 s/f</td>\n      <td>NR-OP-IR-HABITAT-01/150601ME008/2011</td>\n      <td>PAVIMENTACIÓN ASFÁLTICA</td>\n      <td>V20151220 19. Invitación a cuando menos tres N...</td>\n      <td>PAVIMENTACIÓN ASFÁLTICA</td>\n      <td>815060972</td>\n    </tr>\n  </tbody>\n</table>\n</div>"
     },
     "metadata": {},
     "execution_count": 3
    }
   ],
   "source": [
    "df.iloc[0:6,:10]"
   ]
  },
  {
   "cell_type": "code",
   "execution_count": 4,
   "metadata": {},
   "outputs": [
    {
     "output_type": "execute_result",
     "data": {
      "text/plain": "                                     Nombre de la UC                 Operador  \\\n0  QROO-Cozumel-Dirección de Obras Públicas #8230...    Gabriel Caamal Caamal   \n1  QROO-Cozumel-Dirección de Obras Públicas #8230...    Gabriel Caamal Caamal   \n2  GTO-Salamanca-DIRECCION GENERAL DE OBRAS PUBLI...  Adriana Ortega González   \n3  MEX-Nicolás Romero-Direccion de Obras Publicas...    Paulino Mata González   \n4  MEX-Nicolás Romero-Direccion de Obras Publicas...    Paulino Mata González   \n5  MEX-Nicolás Romero-Direccion de Obras Publicas...    Paulino Mata González   \n\n                      Correo electrónico Entidad federativa  \\\n0  compranetobraspublicas@cozumel.gob.mx       Quintana Roo   \n1  compranetobraspublicas@cozumel.gob.mx       Quintana Roo   \n2        adriana.ortega@salamanca.gob.mx         Guanajuato   \n3                    arqpau7@hotmail.com             México   \n4                    arqpau7@hotmail.com             México   \n5                    arqpau7@hotmail.com             México   \n\n               Tipo de contratación Publicación del anuncio  \\\n0                      Obra Pública        2020-08-10 12:49   \n1                     Adquisiciones        2020-08-14 11:19   \n2  Servicios Relacionados con la OP        2020-03-20 12:35   \n3                      Obra Pública        2020-06-08 10:26   \n4                      Obra Pública        2020-06-08 10:16   \n5                      Obra Pública        2020-06-08 10:35   \n\n  Vigencia del anuncio Clave COG Fecha de creación  \\\n0     2011-08-17 07:00      6170   2011/07/2910:40   \n1     2011-08-17 12:00      2830   2011/08/0112:14   \n2     2011-08-23 23:00      6290   2011/08/2316:57   \n3     2011-09-23 11:00      6120   2011/09/0109:55   \n4     2011-09-23 09:00      6120   2011/09/0109:29   \n5     2011-09-26 09:00      6140   2011/09/0110:10   \n\n  Fecha de última modificacion  \\\n0             2020/08/31 12:51   \n1             2020/08/18 11:32   \n2             2020/03/24 14:26   \n3             2020/06/08 10:26   \n4             2020/06/08 10:15   \n5             2020/06/08 10:35   \n\n                               Dirección del anuncio  \n0  https://compranet.funcionpublica.gob.mx/esop/g...  \n1  https://compranet.funcionpublica.gob.mx/esop/g...  \n2  https://compranet.funcionpublica.gob.mx/esop/g...  \n3  https://compranet.funcionpublica.gob.mx/esop/g...  \n4  https://compranet.funcionpublica.gob.mx/esop/g...  \n5  https://compranet.funcionpublica.gob.mx/esop/g...  ",
      "text/html": "<div>\n<style scoped>\n    .dataframe tbody tr th:only-of-type {\n        vertical-align: middle;\n    }\n\n    .dataframe tbody tr th {\n        vertical-align: top;\n    }\n\n    .dataframe thead th {\n        text-align: right;\n    }\n</style>\n<table border=\"1\" class=\"dataframe\">\n  <thead>\n    <tr style=\"text-align: right;\">\n      <th></th>\n      <th>Nombre de la UC</th>\n      <th>Operador</th>\n      <th>Correo electrónico</th>\n      <th>Entidad federativa</th>\n      <th>Tipo de contratación</th>\n      <th>Publicación del anuncio</th>\n      <th>Vigencia del anuncio</th>\n      <th>Clave COG</th>\n      <th>Fecha de creación</th>\n      <th>Fecha de última modificacion</th>\n      <th>Dirección del anuncio</th>\n    </tr>\n  </thead>\n  <tbody>\n    <tr>\n      <th>0</th>\n      <td>QROO-Cozumel-Dirección de Obras Públicas #8230...</td>\n      <td>Gabriel Caamal Caamal</td>\n      <td>compranetobraspublicas@cozumel.gob.mx</td>\n      <td>Quintana Roo</td>\n      <td>Obra Pública</td>\n      <td>2020-08-10 12:49</td>\n      <td>2011-08-17 07:00</td>\n      <td>6170</td>\n      <td>2011/07/2910:40</td>\n      <td>2020/08/31 12:51</td>\n      <td>https://compranet.funcionpublica.gob.mx/esop/g...</td>\n    </tr>\n    <tr>\n      <th>1</th>\n      <td>QROO-Cozumel-Dirección de Obras Públicas #8230...</td>\n      <td>Gabriel Caamal Caamal</td>\n      <td>compranetobraspublicas@cozumel.gob.mx</td>\n      <td>Quintana Roo</td>\n      <td>Adquisiciones</td>\n      <td>2020-08-14 11:19</td>\n      <td>2011-08-17 12:00</td>\n      <td>2830</td>\n      <td>2011/08/0112:14</td>\n      <td>2020/08/18 11:32</td>\n      <td>https://compranet.funcionpublica.gob.mx/esop/g...</td>\n    </tr>\n    <tr>\n      <th>2</th>\n      <td>GTO-Salamanca-DIRECCION GENERAL DE OBRAS PUBLI...</td>\n      <td>Adriana Ortega González</td>\n      <td>adriana.ortega@salamanca.gob.mx</td>\n      <td>Guanajuato</td>\n      <td>Servicios Relacionados con la OP</td>\n      <td>2020-03-20 12:35</td>\n      <td>2011-08-23 23:00</td>\n      <td>6290</td>\n      <td>2011/08/2316:57</td>\n      <td>2020/03/24 14:26</td>\n      <td>https://compranet.funcionpublica.gob.mx/esop/g...</td>\n    </tr>\n    <tr>\n      <th>3</th>\n      <td>MEX-Nicolás Romero-Direccion de Obras Publicas...</td>\n      <td>Paulino Mata González</td>\n      <td>arqpau7@hotmail.com</td>\n      <td>México</td>\n      <td>Obra Pública</td>\n      <td>2020-06-08 10:26</td>\n      <td>2011-09-23 11:00</td>\n      <td>6120</td>\n      <td>2011/09/0109:55</td>\n      <td>2020/06/08 10:26</td>\n      <td>https://compranet.funcionpublica.gob.mx/esop/g...</td>\n    </tr>\n    <tr>\n      <th>4</th>\n      <td>MEX-Nicolás Romero-Direccion de Obras Publicas...</td>\n      <td>Paulino Mata González</td>\n      <td>arqpau7@hotmail.com</td>\n      <td>México</td>\n      <td>Obra Pública</td>\n      <td>2020-06-08 10:16</td>\n      <td>2011-09-23 09:00</td>\n      <td>6120</td>\n      <td>2011/09/0109:29</td>\n      <td>2020/06/08 10:15</td>\n      <td>https://compranet.funcionpublica.gob.mx/esop/g...</td>\n    </tr>\n    <tr>\n      <th>5</th>\n      <td>MEX-Nicolás Romero-Direccion de Obras Publicas...</td>\n      <td>Paulino Mata González</td>\n      <td>arqpau7@hotmail.com</td>\n      <td>México</td>\n      <td>Obra Pública</td>\n      <td>2020-06-08 10:35</td>\n      <td>2011-09-26 09:00</td>\n      <td>6140</td>\n      <td>2011/09/0110:10</td>\n      <td>2020/06/08 10:35</td>\n      <td>https://compranet.funcionpublica.gob.mx/esop/g...</td>\n    </tr>\n  </tbody>\n</table>\n</div>"
     },
     "metadata": {},
     "execution_count": 4
    }
   ],
   "source": [
    "df.iloc[0:6,10:21]"
   ]
  },
  {
   "cell_type": "code",
   "execution_count": 5,
   "metadata": {
    "tags": []
   },
   "outputs": [
    {
     "output_type": "stream",
     "name": "stdout",
     "text": "&lt;class &#39;pandas.core.frame.DataFrame&#39;&gt;\nRangeIndex: 96122 entries, 0 to 96121\nData columns (total 21 columns):\n #   Column                        Non-Null Count  Dtype \n---  ------                        --------------  ----- \n 0   Código del expediente         96122 non-null  int64 \n 1   Número del procedimiento      96120 non-null  object\n 2   Carácter del procedimiento    94081 non-null  object\n 3   Forma del procedimiento       94087 non-null  object\n 4   Artículo de excepción         83724 non-null  object\n 5   REFERENCIA_EXPEDIENTE         92094 non-null  object\n 6   Título del expediente         96122 non-null  object\n 7   Plantilla del expediente      96122 non-null  object\n 8   Descripción del Anuncio       96121 non-null  object\n 9   Clave de la UC                96122 non-null  object\n 10  Nombre de la UC               96122 non-null  object\n 11  Operador                      96122 non-null  object\n 12  Correo electrónico            96122 non-null  object\n 13  Entidad federativa            96121 non-null  object\n 14  Tipo de contratación          96121 non-null  object\n 15  Publicación del anuncio       96122 non-null  object\n 16  Vigencia del anuncio          96100 non-null  object\n 17  Clave COG                     96122 non-null  object\n 18  Fecha de creación             96122 non-null  object\n 19  Fecha de última modificacion  96122 non-null  object\n 20  Dirección del anuncio         96122 non-null  object\ndtypes: int64(1), object(20)\nmemory usage: 15.4+ MB\n"
    }
   ],
   "source": [
    "df.info()"
   ]
  },
  {
   "cell_type": "markdown",
   "metadata": {},
   "source": [
    "## Removing Irrelevant Attributes"
   ]
  },
  {
   "cell_type": "code",
   "execution_count": 6,
   "metadata": {},
   "outputs": [],
   "source": [
    "df_reduced = df.copy(deep = True)"
   ]
  },
  {
   "cell_type": "code",
   "execution_count": 7,
   "metadata": {},
   "outputs": [],
   "source": [
    "df_reduced.drop(['Código del expediente','Número del procedimiento','REFERENCIA_EXPEDIENTE','Clave de la UC','Clave COG',\n",
    "'Dirección del anuncio','Fecha de creación','Fecha de última modificacion', 'Vigencia del anuncio','Código del expediente'], axis = 1, inplace = True)"
   ]
  },
  {
   "cell_type": "markdown",
   "metadata": {},
   "source": [
    "- Código del expediente : identifier \n",
    "- Número del procedimiento : identifier\n",
    "- REFERENCIA_EXPEDIENTE : identifier\n",
    "- Clave de la UC : identifier\n",
    "- Clave COG : identifier \n",
    "- Dirección del anuncio : metadata\n"
   ]
  },
  {
   "cell_type": "code",
   "execution_count": 8,
   "metadata": {},
   "outputs": [
    {
     "output_type": "execute_result",
     "data": {
      "text/plain": "Irma Olga Arredondo Murillo      1742\nClaudia Lizeth Paz Garcìa        1327\nAlan Misael Sánchez Rojas        1187\nMariano Padilla Alfaro           1116\nDalia Garduño Armenta            1038\n                                 ... \nISABEL CRISTINA RIOS MIJANGOS       1\nVictor Arellanes Saguilan           1\nFlorentino López Gutiérrez          1\nJorge Agustin Romero Mateo          1\nMartin Arreola Arreola              1\nName: Operador, Length: 2890, dtype: int64"
     },
     "metadata": {},
     "execution_count": 8
    }
   ],
   "source": [
    "df_reduced['Operador'].value_counts()"
   ]
  },
  {
   "cell_type": "code",
   "execution_count": 9,
   "metadata": {},
   "outputs": [
    {
     "output_type": "execute_result",
     "data": {
      "text/plain": "0         True\n1         True\n2        False\n3         True\n4         True\n         ...  \n96117    False\n96118     True\n96119    False\n96120     True\n96121    False\nLength: 96122, dtype: bool"
     },
     "metadata": {},
     "execution_count": 9
    }
   ],
   "source": [
    "(df_reduced['Descripción del Anuncio'] == df_reduced['Título del expediente'])"
   ]
  },
  {
   "cell_type": "code",
   "execution_count": 10,
   "metadata": {},
   "outputs": [
    {
     "output_type": "execute_result",
     "data": {
      "text/plain": "&#39;PROYECTO EJECUTIVO JARDIN VECINAL COLONIA LAS AMERICAS DE ESTA CIUDAD DE SALAMANCA, GTO.&#39;"
     },
     "metadata": {},
     "execution_count": 10
    }
   ],
   "source": [
    "(df_reduced['Descripción del Anuncio'])[2]"
   ]
  },
  {
   "cell_type": "code",
   "execution_count": 11,
   "metadata": {},
   "outputs": [
    {
     "output_type": "execute_result",
     "data": {
      "text/plain": "&#39;PROYECTO EJECUTIVO JARDIN VECINAL COLONIA LAS AMERICAS &#39;"
     },
     "metadata": {},
     "execution_count": 11
    }
   ],
   "source": [
    "(df_reduced['Título del expediente'])[2]"
   ]
  },
  {
   "cell_type": "code",
   "execution_count": 12,
   "metadata": {},
   "outputs": [
    {
     "output_type": "execute_result",
     "data": {
      "text/plain": "      Carácter del procedimiento Forma del procedimiento  \\\n0                       Nacional              Presencial   \n1                       Nacional              Presencial   \n2                            NaN                     NaN   \n3                       Nacional                   Mixta   \n4                       Nacional                   Mixta   \n...                          ...                     ...   \n96117                   Nacional                   Mixta   \n96118                   Nacional              Presencial   \n96119                   Nacional              Presencial   \n96120                   Nacional              Presencial   \n96121                   Nacional             Electrónica   \n\n         Artículo de excepción  \\\n0                          NaN   \n1                          NaN   \n2                  Art. 43 s/f   \n3                  Art. 43 s/f   \n4                  Art. 43 s/f   \n...                        ...   \n96117  Art. 42 párrafo primero   \n96118          Art. 41 fr. XII   \n96119              Art. 43 s/f   \n96120           Art. 41 fr. XI   \n96121  Art. 42 párrafo primero   \n\n                                   Título del expediente  \\\n0      Mejoramiento de la iluminación de la Iglesia S...   \n1      Adquisición de Uniformes para la dirección de ...   \n2      PROYECTO EJECUTIVO JARDIN VECINAL COLONIA LAS ...   \n3                 CONSTRUCCION DE DEPORTIVO BICENTENARIO   \n4       ACONDICIONAMIENTO DE CENTRO CULTURAL Y DEPORTIVO   \n...                                                  ...   \n96117  13-SCN/066-2020 REQ 1707 ACON0041OR MAQUINARIA...   \n96118  JABONES DE TOCADOR, DET EN POLVO, JABON DE LAV...   \n96119  CONSTRUCCION DE 02 AULAS DIDACTICAS Y OBRA EXT...   \n96120                   Adquisición de muebles de madera   \n96121  REPARACIÓN INTEGRAL DE MECANISMOS DE APERTURA ...   \n\n                                Plantilla del expediente  \\\n0      V20150817 30. Licitación Pública Nacional de O...   \n1      V20150817 28. Licitación Pública Nacional de A...   \n2                        06. Adjudicación Directa LOPSRM   \n3      V20151220 19. Invitación a cuando menos tres N...   \n4      V20151220 19. Invitación a cuando menos tres N...   \n...                                                  ...   \n96117                    05. Adjudicación Directa LAASSP   \n96118                    05. Adjudicación Directa LAASSP   \n96119                    06. Adjudicación Directa LOPSRM   \n96120                    05. Adjudicación Directa LAASSP   \n96121                    05. Adjudicación Directa LAASSP   \n\n                                 Descripción del Anuncio  \\\n0      Mejoramiento de la iluminación de la Iglesia S...   \n1      Adquisición de Uniformes para la dirección de ...   \n2      PROYECTO EJECUTIVO JARDIN VECINAL COLONIA LAS ...   \n3                 CONSTRUCCION DE DEPORTIVO BICENTENARIO   \n4       ACONDICIONAMIENTO DE CENTRO CULTURAL Y DEPORTIVO   \n...                                                  ...   \n96117                    MAQUINARIA Y EQUIPO INDUSTRIAL    \n96118  JABONES DE TOCADOR, DET EN POLVO, JABON DE LAV...   \n96119  CONSTRUCCION DE 02 AULAS DIDACTICAS Y OBRA EXT...   \n96120                   Adquisición de muebles de madera   \n96121  REPARACIÓN INTEGRAL DE MECANISMOS DE APERTURA ...   \n\n                                         Nombre de la UC  \\\n0      QROO-Cozumel-Dirección de Obras Públicas #8230...   \n1      QROO-Cozumel-Dirección de Obras Públicas #8230...   \n2      GTO-Salamanca-DIRECCION GENERAL DE OBRAS PUBLI...   \n3      MEX-Nicolás Romero-Direccion de Obras Publicas...   \n4      MEX-Nicolás Romero-Direccion de Obras Publicas...   \n...                                                  ...   \n96117  SEMAR-Dirección General Adjunta de Adquisicion...   \n96118   DICONSA-Dirección de Comercialización #008VSS998   \n96119  CHIS-Instituto de la Infraestructura Física Ed...   \n96120  INPI-Dirección de Adquisiciones y Obra Pública...   \n96121  IMSS-Coordinación de Abastecimiento y Equipami...   \n\n                             Operador                     Correo electrónico  \\\n0               Gabriel Caamal Caamal  compranetobraspublicas@cozumel.gob.mx   \n1               Gabriel Caamal Caamal  compranetobraspublicas@cozumel.gob.mx   \n2             Adriana Ortega González        adriana.ortega@salamanca.gob.mx   \n3               Paulino Mata González                    arqpau7@hotmail.com   \n4               Paulino Mata González                    arqpau7@hotmail.com   \n...                               ...                                    ...   \n96117          MARIBEL MARTINEZ LOPEZ                 mmaribell@semar.gob.mx   \n96118          Timoteo Sigala Mercado                 tsigala@diconsa.gob.mx   \n96119         RICARDO GUTIERREZ RAMOS              rgutierrez@inifech.gob.mx   \n96120        Griselda Rodríguez Rojas                grodriguezr@inpi.gob.mx   \n96121  Karla Carolina Álvarez Álvarez             karla.alvareza@imss.gob.mx   \n\n      Entidad federativa              Tipo de contratación  \\\n0           Quintana Roo                      Obra Pública   \n1           Quintana Roo                     Adquisiciones   \n2             Guanajuato  Servicios Relacionados con la OP   \n3                 México                      Obra Pública   \n4                 México                      Obra Pública   \n...                  ...                               ...   \n96117   Ciudad de México                     Adquisiciones   \n96118            Durango                     Adquisiciones   \n96119            Chiapas                      Obra Pública   \n96120   Ciudad de México                     Adquisiciones   \n96121   Ciudad de México                         Servicios   \n\n      Publicación del anuncio  \n0            2020-08-10 12:49  \n1            2020-08-14 11:19  \n2            2020-03-20 12:35  \n3            2020-06-08 10:26  \n4            2020-06-08 10:16  \n...                       ...  \n96117        2020-08-06 13:52  \n96118        2020-08-06 13:43  \n96119        2020-08-06 13:32  \n96120        2020-08-12 13:55  \n96121        2020-08-06 19:08  \n\n[96122 rows x 12 columns]",
      "text/html": "<div>\n<style scoped>\n    .dataframe tbody tr th:only-of-type {\n        vertical-align: middle;\n    }\n\n    .dataframe tbody tr th {\n        vertical-align: top;\n    }\n\n    .dataframe thead th {\n        text-align: right;\n    }\n</style>\n<table border=\"1\" class=\"dataframe\">\n  <thead>\n    <tr style=\"text-align: right;\">\n      <th></th>\n      <th>Carácter del procedimiento</th>\n      <th>Forma del procedimiento</th>\n      <th>Artículo de excepción</th>\n      <th>Título del expediente</th>\n      <th>Plantilla del expediente</th>\n      <th>Descripción del Anuncio</th>\n      <th>Nombre de la UC</th>\n      <th>Operador</th>\n      <th>Correo electrónico</th>\n      <th>Entidad federativa</th>\n      <th>Tipo de contratación</th>\n      <th>Publicación del anuncio</th>\n    </tr>\n  </thead>\n  <tbody>\n    <tr>\n      <th>0</th>\n      <td>Nacional</td>\n      <td>Presencial</td>\n      <td>NaN</td>\n      <td>Mejoramiento de la iluminación de la Iglesia S...</td>\n      <td>V20150817 30. Licitación Pública Nacional de O...</td>\n      <td>Mejoramiento de la iluminación de la Iglesia S...</td>\n      <td>QROO-Cozumel-Dirección de Obras Públicas #8230...</td>\n      <td>Gabriel Caamal Caamal</td>\n      <td>compranetobraspublicas@cozumel.gob.mx</td>\n      <td>Quintana Roo</td>\n      <td>Obra Pública</td>\n      <td>2020-08-10 12:49</td>\n    </tr>\n    <tr>\n      <th>1</th>\n      <td>Nacional</td>\n      <td>Presencial</td>\n      <td>NaN</td>\n      <td>Adquisición de Uniformes para la dirección de ...</td>\n      <td>V20150817 28. Licitación Pública Nacional de A...</td>\n      <td>Adquisición de Uniformes para la dirección de ...</td>\n      <td>QROO-Cozumel-Dirección de Obras Públicas #8230...</td>\n      <td>Gabriel Caamal Caamal</td>\n      <td>compranetobraspublicas@cozumel.gob.mx</td>\n      <td>Quintana Roo</td>\n      <td>Adquisiciones</td>\n      <td>2020-08-14 11:19</td>\n    </tr>\n    <tr>\n      <th>2</th>\n      <td>NaN</td>\n      <td>NaN</td>\n      <td>Art. 43 s/f</td>\n      <td>PROYECTO EJECUTIVO JARDIN VECINAL COLONIA LAS ...</td>\n      <td>06. Adjudicación Directa LOPSRM</td>\n      <td>PROYECTO EJECUTIVO JARDIN VECINAL COLONIA LAS ...</td>\n      <td>GTO-Salamanca-DIRECCION GENERAL DE OBRAS PUBLI...</td>\n      <td>Adriana Ortega González</td>\n      <td>adriana.ortega@salamanca.gob.mx</td>\n      <td>Guanajuato</td>\n      <td>Servicios Relacionados con la OP</td>\n      <td>2020-03-20 12:35</td>\n    </tr>\n    <tr>\n      <th>3</th>\n      <td>Nacional</td>\n      <td>Mixta</td>\n      <td>Art. 43 s/f</td>\n      <td>CONSTRUCCION DE DEPORTIVO BICENTENARIO</td>\n      <td>V20151220 19. Invitación a cuando menos tres N...</td>\n      <td>CONSTRUCCION DE DEPORTIVO BICENTENARIO</td>\n      <td>MEX-Nicolás Romero-Direccion de Obras Publicas...</td>\n      <td>Paulino Mata González</td>\n      <td>arqpau7@hotmail.com</td>\n      <td>México</td>\n      <td>Obra Pública</td>\n      <td>2020-06-08 10:26</td>\n    </tr>\n    <tr>\n      <th>4</th>\n      <td>Nacional</td>\n      <td>Mixta</td>\n      <td>Art. 43 s/f</td>\n      <td>ACONDICIONAMIENTO DE CENTRO CULTURAL Y DEPORTIVO</td>\n      <td>V20151220 19. Invitación a cuando menos tres N...</td>\n      <td>ACONDICIONAMIENTO DE CENTRO CULTURAL Y DEPORTIVO</td>\n      <td>MEX-Nicolás Romero-Direccion de Obras Publicas...</td>\n      <td>Paulino Mata González</td>\n      <td>arqpau7@hotmail.com</td>\n      <td>México</td>\n      <td>Obra Pública</td>\n      <td>2020-06-08 10:16</td>\n    </tr>\n    <tr>\n      <th>...</th>\n      <td>...</td>\n      <td>...</td>\n      <td>...</td>\n      <td>...</td>\n      <td>...</td>\n      <td>...</td>\n      <td>...</td>\n      <td>...</td>\n      <td>...</td>\n      <td>...</td>\n      <td>...</td>\n      <td>...</td>\n    </tr>\n    <tr>\n      <th>96117</th>\n      <td>Nacional</td>\n      <td>Mixta</td>\n      <td>Art. 42 párrafo primero</td>\n      <td>13-SCN/066-2020 REQ 1707 ACON0041OR MAQUINARIA...</td>\n      <td>05. Adjudicación Directa LAASSP</td>\n      <td>MAQUINARIA Y EQUIPO INDUSTRIAL</td>\n      <td>SEMAR-Dirección General Adjunta de Adquisicion...</td>\n      <td>MARIBEL MARTINEZ LOPEZ</td>\n      <td>mmaribell@semar.gob.mx</td>\n      <td>Ciudad de México</td>\n      <td>Adquisiciones</td>\n      <td>2020-08-06 13:52</td>\n    </tr>\n    <tr>\n      <th>96118</th>\n      <td>Nacional</td>\n      <td>Presencial</td>\n      <td>Art. 41 fr. XII</td>\n      <td>JABONES DE TOCADOR, DET EN POLVO, JABON DE LAV...</td>\n      <td>05. Adjudicación Directa LAASSP</td>\n      <td>JABONES DE TOCADOR, DET EN POLVO, JABON DE LAV...</td>\n      <td>DICONSA-Dirección de Comercialización #008VSS998</td>\n      <td>Timoteo Sigala Mercado</td>\n      <td>tsigala@diconsa.gob.mx</td>\n      <td>Durango</td>\n      <td>Adquisiciones</td>\n      <td>2020-08-06 13:43</td>\n    </tr>\n    <tr>\n      <th>96119</th>\n      <td>Nacional</td>\n      <td>Presencial</td>\n      <td>Art. 43 s/f</td>\n      <td>CONSTRUCCION DE 02 AULAS DIDACTICAS Y OBRA EXT...</td>\n      <td>06. Adjudicación Directa LOPSRM</td>\n      <td>CONSTRUCCION DE 02 AULAS DIDACTICAS Y OBRA EXT...</td>\n      <td>CHIS-Instituto de la Infraestructura Física Ed...</td>\n      <td>RICARDO GUTIERREZ RAMOS</td>\n      <td>rgutierrez@inifech.gob.mx</td>\n      <td>Chiapas</td>\n      <td>Obra Pública</td>\n      <td>2020-08-06 13:32</td>\n    </tr>\n    <tr>\n      <th>96120</th>\n      <td>Nacional</td>\n      <td>Presencial</td>\n      <td>Art. 41 fr. XI</td>\n      <td>Adquisición de muebles de madera</td>\n      <td>05. Adjudicación Directa LAASSP</td>\n      <td>Adquisición de muebles de madera</td>\n      <td>INPI-Dirección de Adquisiciones y Obra Pública...</td>\n      <td>Griselda Rodríguez Rojas</td>\n      <td>grodriguezr@inpi.gob.mx</td>\n      <td>Ciudad de México</td>\n      <td>Adquisiciones</td>\n      <td>2020-08-12 13:55</td>\n    </tr>\n    <tr>\n      <th>96121</th>\n      <td>Nacional</td>\n      <td>Electrónica</td>\n      <td>Art. 42 párrafo primero</td>\n      <td>REPARACIÓN INTEGRAL DE MECANISMOS DE APERTURA ...</td>\n      <td>05. Adjudicación Directa LAASSP</td>\n      <td>REPARACIÓN INTEGRAL DE MECANISMOS DE APERTURA ...</td>\n      <td>IMSS-Coordinación de Abastecimiento y Equipami...</td>\n      <td>Karla Carolina Álvarez Álvarez</td>\n      <td>karla.alvareza@imss.gob.mx</td>\n      <td>Ciudad de México</td>\n      <td>Servicios</td>\n      <td>2020-08-06 19:08</td>\n    </tr>\n  </tbody>\n</table>\n<p>96122 rows × 12 columns</p>\n</div>"
     },
     "metadata": {},
     "execution_count": 12
    }
   ],
   "source": [
    "df_reduced"
   ]
  },
  {
   "cell_type": "code",
   "execution_count": 13,
   "metadata": {},
   "outputs": [],
   "source": [
    "df_reduced.drop(['Título del expediente'], axis = 1, inplace = True)"
   ]
  },
  {
   "cell_type": "markdown",
   "metadata": {},
   "source": [
    "## Feature Engineering"
   ]
  },
  {
   "cell_type": "code",
   "execution_count": 14,
   "metadata": {},
   "outputs": [],
   "source": [
    "#function to remove the accents\n",
    "def remove_accents(text):\n",
    "    new = unicodedata.normalize('NFKD', text).encode('ascii','ignore').decode('utf-8','ignore')\n",
    "    return new\n",
    "def lower_case(text):\n",
    "    return text.lower()"
   ]
  },
  {
   "cell_type": "code",
   "execution_count": 15,
   "metadata": {},
   "outputs": [],
   "source": [
    "df_reduced = df_reduced.rename(columns = {'Tipo de contratación': 'Tipo de contratacion', 'Carácter del procedimiento':'Caracter del procedimiento',\n",
    "'Carácter del procedimiento':'Caracter del procedimiento','Artículo de excepción':'Articulo de excepcion','Descripción del Anuncio':'Descripcion del Anuncio',\n",
    "'Correo electrónico':'Correo electronico', 'Publicación del anuncio':'Publicacion del anuncio'})"
   ]
  },
  {
   "cell_type": "code",
   "execution_count": 16,
   "metadata": {},
   "outputs": [],
   "source": [
    "df_reduced['Entidad federativa'] = df_reduced['Entidad federativa'].astype(str)\n",
    "df_reduced['Tipo de contratacion'] = df_reduced['Tipo de contratacion'].astype(str)\n",
    "df_reduced['Caracter del procedimiento'] = df_reduced['Caracter del procedimiento'].astype(str)\n",
    "df_reduced['Forma del procedimiento'] = df_reduced['Forma del procedimiento'].astype(str)\n",
    "df_reduced['Caracter del procedimiento'] = df_reduced['Caracter del procedimiento'].astype(str)\n",
    "df_reduced['Articulo de excepcion'] = df_reduced['Articulo de excepcion'].astype(str)\n",
    "df_reduced['Descripcion del Anuncio'] = df_reduced['Descripcion del Anuncio'].astype(str)\n",
    "df_reduced['Plantilla del expediente'] = df_reduced['Plantilla del expediente'].astype(str)\n",
    "df_reduced['Nombre de la UC'] = df_reduced['Nombre de la UC'].astype(str)\n",
    "df_reduced['Operador'] = df_reduced['Operador'].astype(str)\n",
    "df_reduced['Correo electronico'] = df_reduced['Correo electronico'].astype(str)"
   ]
  },
  {
   "cell_type": "code",
   "execution_count": 17,
   "metadata": {},
   "outputs": [
    {
     "output_type": "execute_result",
     "data": {
      "text/plain": "Caracter del procedimiento    object\nForma del procedimiento       object\nArticulo de excepcion         object\nPlantilla del expediente      object\nDescripcion del Anuncio       object\nNombre de la UC               object\nOperador                      object\nCorreo electronico            object\nEntidad federativa            object\nTipo de contratacion          object\nPublicacion del anuncio       object\ndtype: object"
     },
     "metadata": {},
     "execution_count": 17
    }
   ],
   "source": [
    "df_reduced.dtypes"
   ]
  },
  {
   "cell_type": "code",
   "execution_count": 18,
   "metadata": {},
   "outputs": [],
   "source": [
    "map_states = {'Baja California':'North',\n",
    "                'Baja California Sur':'North',\n",
    "                'Chihuahua':'North',\n",
    "                'Coahuila':'North',\n",
    "                'Durango':'North',\n",
    "                'Zacatecas':'North',\n",
    "                'Aguascalientes':'North',\n",
    "                'Nuevo Leon':'North',\n",
    "                'Tamaulipas':'North','Sinaloa':'North Pacific','Nayarit':'North Pacific','Jalsico':'North Pacific','Colima':'North Pacific','Michoacan':'Bajio','Guanajuato':'Bajio','San Luis Potosio':'Bajio','Queretaro':'Bajio','Guerrero':'South Pacific','Oaxaca':'South Pacific','Chiapas':'South Pacific','Campeche':'South','Yucatan':'South','Quintana Roo':'South','Tabasco':'Gulf','Veracruz':'Gulf','Mexico':'Center','Puebla':'Center','Morelos':'Center','Tlaxcala':'Center','Hidalgo':'Center','Ciudad de Mexico':'Center'}\n",
    "df_reduced['Entidad federativa'] = df_reduced['Entidad federativa'].map(map_states)\n"
   ]
  },
  {
   "cell_type": "code",
   "execution_count": 19,
   "metadata": {},
   "outputs": [
    {
     "output_type": "execute_result",
     "data": {
      "text/plain": "North            11755\nCenter            8525\nGulf              6009\nSouth Pacific     5724\nNorth Pacific     4421\nSouth             2375\nBajio             2217\nName: Entidad federativa, dtype: int64"
     },
     "metadata": {},
     "execution_count": 19
    }
   ],
   "source": [
    "df_reduced['Entidad federativa'].value_counts()"
   ]
  },
  {
   "cell_type": "code",
   "execution_count": 20,
   "metadata": {},
   "outputs": [],
   "source": [
    "df_reduced['Entidad federativa'] = df_reduced['Entidad federativa'].map({'Center':'centro','North':'norte','Gulf':'golfo','South Pacific':'pacifico sur','South':'sur','North Pacific':'pacifico norte','Bajio':'bajio'})"
   ]
  },
  {
   "cell_type": "code",
   "execution_count": 21,
   "metadata": {},
   "outputs": [
    {
     "output_type": "execute_result",
     "data": {
      "text/plain": "norte             11755\ncentro             8525\ngolfo              6009\npacifico sur       5724\npacifico norte     4421\nsur                2375\nbajio              2217\nName: Entidad federativa, dtype: int64"
     },
     "metadata": {},
     "execution_count": 21
    }
   ],
   "source": [
    "df_reduced['Entidad federativa'].value_counts()"
   ]
  },
  {
   "cell_type": "code",
   "execution_count": 22,
   "metadata": {},
   "outputs": [],
   "source": [
    "df_reduced['Tipo de contratacion'] = df_reduced['Tipo de contratacion'].apply(remove_accents)\n",
    "df_reduced['Caracter del procedimiento'] = df_reduced['Caracter del procedimiento'].apply(remove_accents)\n",
    "df_reduced['Forma del procedimiento'] = df_reduced['Forma del procedimiento'].apply(remove_accents)\n",
    "df_reduced['Articulo de excepcion'] = df_reduced['Articulo de excepcion'].apply(remove_accents)\n",
    "df_reduced['Descripcion del Anuncio'] = df_reduced['Descripcion del Anuncio'].apply(remove_accents)\n",
    "df_reduced['Plantilla del expediente'] = df_reduced['Plantilla del expediente'].apply(remove_accents)\n",
    "df_reduced['Nombre de la UC'] = df_reduced['Nombre de la UC'].apply(remove_accents)\n",
    "df_reduced['Operador'] = df_reduced['Operador'].apply(remove_accents)\n",
    "df_reduced['Correo electronico'] = df_reduced['Correo electronico'].apply(remove_accents)"
   ]
  },
  {
   "cell_type": "code",
   "execution_count": 23,
   "metadata": {},
   "outputs": [],
   "source": [
    "df_reduced['Tipo de contratacion'] = df_reduced['Tipo de contratacion'].apply(lower_case)\n",
    "df_reduced['Caracter del procedimiento'] = df_reduced['Caracter del procedimiento'].apply(lower_case)\n",
    "df_reduced['Forma del procedimiento'] = df_reduced['Forma del procedimiento'].apply(lower_case)\n",
    "df_reduced['Articulo de excepcion'] = df_reduced['Articulo de excepcion'].apply(lower_case)\n",
    "df_reduced['Descripcion del Anuncio'] = df_reduced['Descripcion del Anuncio'].apply(lower_case)\n",
    "df_reduced['Plantilla del expediente'] = df_reduced['Plantilla del expediente'].apply(lower_case)\n",
    "df_reduced['Nombre de la UC'] = df_reduced['Nombre de la UC'].apply(lower_case)\n",
    "df_reduced['Operador'] = df_reduced['Operador'].apply(lower_case)\n",
    "df_reduced['Correo electronico'] = df_reduced['Correo electronico'].apply(lower_case)"
   ]
  },
  {
   "cell_type": "code",
   "execution_count": 24,
   "metadata": {},
   "outputs": [
    {
     "output_type": "execute_result",
     "data": {
      "text/plain": "presencial     47123\nelectronica    37730\nmixta           9234\nnan             2035\nName: Forma del procedimiento, dtype: int64"
     },
     "metadata": {},
     "execution_count": 24
    }
   ],
   "source": [
    "df_reduced['Forma del procedimiento'].value_counts()"
   ]
  },
  {
   "cell_type": "code",
   "execution_count": 25,
   "metadata": {},
   "outputs": [
    {
     "output_type": "execute_result",
     "data": {
      "text/plain": "adquisiciones                       47776\nservicios                           38488\nobra publica                         7256\nservicios relacionados con la op     1896\narrendamientos                        705\nnan                                     1\nName: Tipo de contratacion, dtype: int64"
     },
     "metadata": {},
     "execution_count": 25
    }
   ],
   "source": [
    "df_reduced['Tipo de contratacion'].value_counts()"
   ]
  },
  {
   "cell_type": "code",
   "execution_count": 26,
   "metadata": {},
   "outputs": [
    {
     "output_type": "execute_result",
     "data": {
      "text/plain": "art. 42 parrafo primero    27322\nart. 41 fr. xii            14786\nnan                        12398\nart. 41 fr. xiv             9566\nart. 41 fr. v               8605\nart. 43 s/f                 4594\nart. 41 fr. i               4556\nart. 41 fr. ii              4057\nart. 41 fr. iii             2104\nart. 42 parrafo quinto      1759\nart. 41 fr. vii             1388\nart. 41 fr. xx              1056\nart. 42 parrafo segundo      812\nart. 41 fr. viii             618\nno                           561\nart. 41 fr. xvii             400\nart. 41 fr. ix               354\nart. 42 fr. ii               328\nart. 41 fr. x                112\nart. 42 fr. vii              108\nart. 41 fr. xv               106\nart. 42 fr. v                103\nart. 41 fr. xi               101\nart. 42 fr. xiv               59\nart. 42 fr. i                 48\nart. 42 fr. iii               47\nart. 42 fr. x                 42\nart. 41 fr. vi                29\nart. 42 fr. ix                20\nart. 41 fr. xviii             19\nart. 41 fr. xiii              16\nart. 41 fr. xvi               16\nart. 42 fr. viii              14\nart. 42 s/f                    8\nart. 41 fr. xix                6\nart. 42 fr. vi                 2\nart. 42 fr. xi                 2\nName: Articulo de excepcion, dtype: int64"
     },
     "metadata": {},
     "execution_count": 26
    }
   ],
   "source": [
    "df_reduced['Articulo de excepcion'].value_counts()"
   ]
  },
  {
   "cell_type": "code",
   "execution_count": 27,
   "metadata": {},
   "outputs": [
    {
     "output_type": "execute_result",
     "data": {
      "text/plain": "05. adjudicacion directa laassp                                               73918\n01. licitacion publica laassp                                                  5571\n03. invitacion a cuando menos tres personas laassp                             3866\n02. licitacion publica lopsrm                                                  3406\n04. invitacion a cuando menos tres personas lopsrm                             2663\n07. proyecto de convocatoria a la licitacion publica                           2410\n06. adjudicacion directa lopsrm                                                2387\n08. reporte de otras contrataciones y contrataciones con credito externo        862\n10. contratos entre entes publicos                                              561\nv20151220 19. invitacion a cuando menos tres nacional lopsrm                    310\nv20151220 22. adjudicacion directa nacional art. 43 lopsrm                       65\nv20151220 16. licitacion publica nacional lopsrm                                 31\nv20150817 30. licitacion publica nacional de obra publica (norma estatal)        21\nv20150817 28. licitacion publica nacional de adquisiciones (norma estatal)       21\nv20151215 04. invitacion a cuando menos tres nacional laassp                      8\nv20151215 24. adjudicacion directa nacional simplificada lopsrm                   7\nv20151220 12. adjudicacion directa nacional simplificada laassp                   4\n09. proyecto de asociacion publico privada lapp                                   4\nv20151220 07. adjudicacion directa nacional art. 42 laassp                        3\nv20151215 27. proyecto de convocatoria a la licitacion publica lopsrm             2\nv20151220 08. adjudicacion directa internacional abierta art. 42 laassp           2\nName: Plantilla del expediente, dtype: int64"
     },
     "metadata": {},
     "execution_count": 27
    }
   ],
   "source": [
    "df_reduced['Plantilla del expediente'].value_counts()"
   ]
  },
  {
   "cell_type": "code",
   "execution_count": 28,
   "metadata": {},
   "outputs": [],
   "source": [
    "def discretize(column, targets ):\n",
    "    for i,j in enumerate(targets):\n",
    "        if targets[i] in column:\n",
    "            return targets[i]\n",
    "    else: \n",
    "        return column"
   ]
  },
  {
   "cell_type": "code",
   "execution_count": 29,
   "metadata": {
    "tags": []
   },
   "outputs": [],
   "source": [
    "df_reduced['Articulo'] = df_reduced['Articulo de excepcion'].apply(discretize, args =  [['41','42','43']])"
   ]
  },
  {
   "cell_type": "code",
   "execution_count": 30,
   "metadata": {},
   "outputs": [
    {
     "output_type": "execute_result",
     "data": {
      "text/plain": "41     47895\n42     30674\nnan    12398\n43      4594\nno       561\nName: Articulo, dtype: int64"
     },
     "metadata": {},
     "execution_count": 30
    }
   ],
   "source": [
    "df_reduced['Articulo'].value_counts()"
   ]
  },
  {
   "cell_type": "code",
   "execution_count": 31,
   "metadata": {},
   "outputs": [
    {
     "output_type": "execute_result",
     "data": {
      "text/plain": "adquisiciones                       47776\nservicios                           38488\nobra publica                         7256\nservicios relacionados con la op     1896\narrendamientos                        705\nnan                                     1\nName: Tipo de contratacion, dtype: int64"
     },
     "metadata": {},
     "execution_count": 31
    }
   ],
   "source": [
    "df_reduced['Tipo de contratacion'].value_counts()"
   ]
  },
  {
   "cell_type": "code",
   "execution_count": 32,
   "metadata": {},
   "outputs": [
    {
     "output_type": "execute_result",
     "data": {
      "text/plain": "05. adjudicacion directa laassp                                               73918\n01. licitacion publica laassp                                                  5571\n03. invitacion a cuando menos tres personas laassp                             3866\n02. licitacion publica lopsrm                                                  3406\n04. invitacion a cuando menos tres personas lopsrm                             2663\n07. proyecto de convocatoria a la licitacion publica                           2410\n06. adjudicacion directa lopsrm                                                2387\n08. reporte de otras contrataciones y contrataciones con credito externo        862\n10. contratos entre entes publicos                                              561\nv20151220 19. invitacion a cuando menos tres nacional lopsrm                    310\nv20151220 22. adjudicacion directa nacional art. 43 lopsrm                       65\nv20151220 16. licitacion publica nacional lopsrm                                 31\nv20150817 30. licitacion publica nacional de obra publica (norma estatal)        21\nv20150817 28. licitacion publica nacional de adquisiciones (norma estatal)       21\nv20151215 04. invitacion a cuando menos tres nacional laassp                      8\nv20151215 24. adjudicacion directa nacional simplificada lopsrm                   7\nv20151220 12. adjudicacion directa nacional simplificada laassp                   4\n09. proyecto de asociacion publico privada lapp                                   4\nv20151220 07. adjudicacion directa nacional art. 42 laassp                        3\nv20151215 27. proyecto de convocatoria a la licitacion publica lopsrm             2\nv20151220 08. adjudicacion directa internacional abierta art. 42 laassp           2\nName: Plantilla del expediente, dtype: int64"
     },
     "metadata": {},
     "execution_count": 32
    }
   ],
   "source": [
    "df_reduced['Plantilla del expediente'].value_counts()"
   ]
  },
  {
   "cell_type": "code",
   "execution_count": 33,
   "metadata": {},
   "outputs": [],
   "source": [
    "df_reduced['Plantilla'] = df_reduced['Plantilla del expediente'].apply(discretize,args = [['proyecto','adjudicacion','licitacion','invitacion','reporte','contratos']] )"
   ]
  },
  {
   "cell_type": "code",
   "execution_count": 34,
   "metadata": {},
   "outputs": [
    {
     "output_type": "execute_result",
     "data": {
      "text/plain": "adjudicacion    76386\nlicitacion       9050\ninvitacion       6847\nproyecto         2416\nreporte           862\ncontratos         561\nName: Plantilla, dtype: int64"
     },
     "metadata": {},
     "execution_count": 34
    }
   ],
   "source": [
    "df_reduced['Plantilla'].value_counts()"
   ]
  },
  {
   "cell_type": "code",
   "execution_count": 35,
   "metadata": {},
   "outputs": [],
   "source": [
    "df_reduced.drop(['Articulo de excepcion'], axis = 1, inplace = True)\n",
    "df_reduced.drop(['Plantilla del expediente'], axis = 1, inplace = True)"
   ]
  },
  {
   "cell_type": "code",
   "execution_count": 36,
   "metadata": {},
   "outputs": [
    {
     "output_type": "execute_result",
     "data": {
      "text/plain": "irma olga arredondo murillo         1742\nclaudia lizeth paz garcia           1327\nalan misael sanchez rojas           1187\nmariano padilla alfaro              1116\ndalia garduno armenta               1038\n                                    ... \nliliana maribel victoria sanchez       1\nblanca lydia perez de la garza         1\ndonaciano moreno calva                 1\nj. ricardo gonzalez mari               1\nmiriam joseline guerrero flores        1\nName: Operador, Length: 2886, dtype: int64"
     },
     "metadata": {},
     "execution_count": 36
    }
   ],
   "source": [
    "df_reduced['Operador'].value_counts()"
   ]
  },
  {
   "cell_type": "code",
   "execution_count": 37,
   "metadata": {},
   "outputs": [],
   "source": [
    "def strip(column):\n",
    "    return column.split('@')[1].split('.')[0]\n"
   ]
  },
  {
   "cell_type": "code",
   "execution_count": 38,
   "metadata": {},
   "outputs": [],
   "source": [
    "df_reduced['Correo electronico'] = df_reduced['Correo electronico'].apply(strip)"
   ]
  },
  {
   "cell_type": "code",
   "execution_count": 39,
   "metadata": {},
   "outputs": [
    {
     "output_type": "execute_result",
     "data": {
      "text/plain": "imss         18479\ndiconsa      14565\nissste        6136\nindaabin      2412\nsct           2211\n             ...  \nicatmor          1\nangel            1\nutrodeo          1\nloretozac        1\ntlaxco           1\nName: Correo electronico, Length: 607, dtype: int64"
     },
     "metadata": {},
     "execution_count": 39
    }
   ],
   "source": [
    "df_reduced['Correo electronico'].value_counts()"
   ]
  },
  {
   "cell_type": "markdown",
   "metadata": {},
   "source": [
    "### One-hot Encoding"
   ]
  },
  {
   "cell_type": "code",
   "execution_count": 39,
   "metadata": {},
   "outputs": [],
   "source": [
    "def binarize(column, target_variable):\n",
    "    if column == target_variable:\n",
    "        return 1\n",
    "    else: \n",
    "        return 0 \n",
    "def binarize2(column, target_variable):\n",
    "    if column in target_variable:\n",
    "        return 1\n",
    "    else: \n",
    "        return 0 \n",
    "def findword(column, word):\n",
    "    if word in column:\n",
    "        return 1\n",
    "    else: \n",
    "        return 0 "
   ]
  },
  {
   "cell_type": "code",
   "execution_count": 40,
   "metadata": {},
   "outputs": [],
   "source": [
    "df_reduced['Forma_Procedimiento_Presencial'] =df_reduced['Forma del procedimiento'].apply(binarize, args = ['presencial'])\n",
    "df_reduced['Forma_Procedimiento_Electronica'] =df_reduced['Forma del procedimiento'].apply(binarize, args = ['electronica'])\n",
    "df_reduced['Forma_Procedimiento_Mixta'] =df_reduced['Forma del procedimiento'].apply(binarize, args = ['mixta'])\n"
   ]
  },
  {
   "cell_type": "code",
   "execution_count": 41,
   "metadata": {},
   "outputs": [
    {
     "output_type": "execute_result",
     "data": {
      "text/plain": "norte             11755\ncentro             8525\ngolfo              6009\npacifico sur       5724\npacifico norte     4421\nsur                2375\nbajio              2217\nName: Entidad federativa, dtype: int64"
     },
     "metadata": {},
     "execution_count": 41
    }
   ],
   "source": [
    "df_reduced['Entidad federativa'].value_counts()"
   ]
  },
  {
   "cell_type": "code",
   "execution_count": 42,
   "metadata": {},
   "outputs": [],
   "source": [
    "df_reduced['Entidad_federativa_Norte'] =df_reduced['Entidad federativa'].apply(binarize, args = ['norte'])\n",
    "df_reduced['Entidad_federativa_Centro'] =df_reduced['Entidad federativa'].apply(binarize, args = ['centro'])\n",
    "df_reduced['Entidad_federativa_Golfo'] =df_reduced['Entidad federativa'].apply(binarize, args = ['golfo'])\n",
    "df_reduced['Entidad_federativa_PacificoSur'] =df_reduced['Entidad federativa'].apply(binarize, args = ['pacifico sur'])\n",
    "df_reduced['Entidad_federativa_Sur'] =df_reduced['Entidad federativa'].apply(binarize, args = ['sur'])\n",
    "df_reduced['Entidad_federativa_PacificoNorte'] =df_reduced['Entidad federativa'].apply(binarize, args = ['pacifico norte'])\n"
   ]
  },
  {
   "cell_type": "code",
   "execution_count": 43,
   "metadata": {},
   "outputs": [],
   "source": [
    "df_reduced['Caracter del procedimiento_Nacional'] =df_reduced['Caracter del procedimiento'].apply(binarize2, args = ['nacional'])\n",
    "df_reduced['Caracter del procedimiento_Internacional'] =df_reduced['Caracter del procedimiento'].apply(binarize2, args = [['internacional', 'internacional bajo TLC', 'internacional Abierto']])\n"
   ]
  },
  {
   "cell_type": "code",
   "execution_count": 44,
   "metadata": {},
   "outputs": [],
   "source": [
    "df_reduced['Articulo de excepcion_41'] = df_reduced['Articulo'].apply(binarize ,args = ['41'])\n",
    "df_reduced['Articulo de excepcion_42'] = df_reduced['Articulo'].apply(binarize, args = ['42'])\n",
    "df_reduced['Articulo de excepcion_43'] = df_reduced['Articulo'].apply(binarize, args = ['43'])"
   ]
  },
  {
   "cell_type": "code",
   "execution_count": 45,
   "metadata": {},
   "outputs": [
    {
     "output_type": "execute_result",
     "data": {
      "text/plain": "adquisiciones                       47776\nservicios                           38488\nobra publica                         7256\nservicios relacionados con la op     1896\narrendamientos                        705\nnan                                     1\nName: Tipo de contratacion, dtype: int64"
     },
     "metadata": {},
     "execution_count": 45
    }
   ],
   "source": [
    "df_reduced['Tipo de contratacion'].value_counts()"
   ]
  },
  {
   "cell_type": "code",
   "execution_count": 46,
   "metadata": {},
   "outputs": [],
   "source": [
    "df_reduced['Contratacion_adquisiciones'] = df_reduced['Tipo de contratacion'].apply(binarize, args = ['adquisiciones'])\n",
    "df_reduced['Contratacion_servicios'] = df_reduced['Tipo de contratacion'].apply(binarize, args = ['servicios'])\n",
    "df_reduced['Contratacion_obra_publica'] = df_reduced['Tipo de contratacion'].apply(binarize, args = ['obra publica'])\n",
    "df_reduced['Contratacion_arrendamientos'] = df_reduced['Tipo de contratacion'].apply(binarize, args = ['arrendamientos'])\n",
    "df_reduced['Contratacion_servicios_op'] = df_reduced['Tipo de contratacion'].apply(binarize, args = ['servicios relacionados con la op'])"
   ]
  },
  {
   "cell_type": "code",
   "execution_count": 48,
   "metadata": {},
   "outputs": [
    {
     "output_type": "execute_result",
     "data": {
      "text/plain": "adjudicacion    76386\nlicitacion       9050\ninvitacion       6847\nproyecto         2416\nreporte           862\ncontratos         561\nName: Plantilla, dtype: int64"
     },
     "metadata": {},
     "execution_count": 48
    }
   ],
   "source": [
    "df_reduced['Plantilla'].value_counts()"
   ]
  },
  {
   "cell_type": "code",
   "execution_count": 156,
   "metadata": {},
   "outputs": [],
   "source": [
    "df_reduced['Plantilla_Proyecto'] = df_reduced['Plantilla'].apply(binarize, args = ['proyecto'])\n",
    "df_reduced['Plantilla_Adjudicación'] = df_reduced['Plantilla'].apply(binarize, args = ['adjudicacion'])\n",
    "df_reduced['Plantilla_Licitación'] = df_reduced['Plantilla'].apply(binarize, args = ['licitacion'])\n",
    "df_reduced['Plantilla_Invitación'] = df_reduced['Plantilla'].apply(binarize, args = ['invitacion'])\n",
    "df_reduced['Plantilla_Reporte'] = df_reduced['Plantilla'].apply(binarize, args = ['reporte'])\n",
    "df_reduced['Plantilla_Contratos'] = df_reduced['Plantilla'].apply(binarize, args = ['contratos'])"
   ]
  },
  {
   "cell_type": "code",
   "execution_count": 157,
   "metadata": {},
   "outputs": [
    {
     "output_type": "execute_result",
     "data": {
      "text/plain": "      Caracter del procedimiento Forma del procedimiento  \\\n0                       nacional              presencial   \n1                       nacional              presencial   \n2                            nan                     nan   \n3                       nacional                   mixta   \n4                       nacional                   mixta   \n...                          ...                     ...   \n96117                   nacional                   mixta   \n96118                   nacional              presencial   \n96119                   nacional              presencial   \n96120                   nacional              presencial   \n96121                   nacional             electronica   \n\n                                 Descripcion del Anuncio  \\\n0      mejoramiento de la iluminacion de la iglesia s...   \n1      adquisicion de uniformes para la direccion de ...   \n2      proyecto ejecutivo jardin vecinal colonia las ...   \n3                 construccion de deportivo bicentenario   \n4       acondicionamiento de centro cultural y deportivo   \n...                                                  ...   \n96117                    maquinaria y equipo industrial    \n96118  jabones de tocador, det en polvo, jabon de lav...   \n96119  construccion de 02 aulas didacticas y obra ext...   \n96120                   adquisicion de muebles de madera   \n96121  reparacion integral de mecanismos de apertura ...   \n\n                                         Nombre de la UC  \\\n0      qroo-cozumel-direccion de obras publicas #8230...   \n1      qroo-cozumel-direccion de obras publicas #8230...   \n2      gto-salamanca-direccion general de obras publi...   \n3      mex-nicolas romero-direccion de obras publicas...   \n4      mex-nicolas romero-direccion de obras publicas...   \n...                                                  ...   \n96117  semar-direccion general adjunta de adquisicion...   \n96118   diconsa-direccion de comercializacion #008vss998   \n96119  chis-instituto de la infraestructura fisica ed...   \n96120  inpi-direccion de adquisiciones y obra publica...   \n96121  imss-coordinacion de abastecimiento y equipami...   \n\n                             Operador Correo electronico Entidad federativa  \\\n0               gabriel caamal caamal            cozumel                sur   \n1               gabriel caamal caamal            cozumel                sur   \n2             adriana ortega gonzalez          salamanca              bajio   \n3               paulino mata gonzalez            hotmail                NaN   \n4               paulino mata gonzalez            hotmail                NaN   \n...                               ...                ...                ...   \n96117          maribel martinez lopez              semar                NaN   \n96118          timoteo sigala mercado            diconsa              norte   \n96119         ricardo gutierrez ramos            inifech       pacifico sur   \n96120        griselda rodriguez rojas               inpi                NaN   \n96121  karla carolina alvarez alvarez               imss                NaN   \n\n                   Tipo de contratacion Publicacion del anuncio Articulo  ...  \\\n0                          obra publica        2020-08-10 12:49      nan  ...   \n1                         adquisiciones        2020-08-14 11:19      nan  ...   \n2      servicios relacionados con la op        2020-03-20 12:35       43  ...   \n3                          obra publica        2020-06-08 10:26       43  ...   \n4                          obra publica        2020-06-08 10:16       43  ...   \n...                                 ...                     ...      ...  ...   \n96117                     adquisiciones        2020-08-06 13:52       42  ...   \n96118                     adquisiciones        2020-08-06 13:43       41  ...   \n96119                      obra publica        2020-08-06 13:32       43  ...   \n96120                     adquisiciones        2020-08-12 13:55       41  ...   \n96121                         servicios        2020-08-06 19:08       42  ...   \n\n      Contratacion_servicios  Contratacion_obra_publica  \\\n0                          0                          1   \n1                          0                          0   \n2                          0                          0   \n3                          0                          1   \n4                          0                          1   \n...                      ...                        ...   \n96117                      0                          0   \n96118                      0                          0   \n96119                      0                          1   \n96120                      0                          0   \n96121                      1                          0   \n\n       Contratacion_arrendamientos  Contratacion_servicios_op  \\\n0                                0                          0   \n1                                0                          0   \n2                                0                          1   \n3                                0                          0   \n4                                0                          0   \n...                            ...                        ...   \n96117                            0                          0   \n96118                            0                          0   \n96119                            0                          0   \n96120                            0                          0   \n96121                            0                          0   \n\n       Plantilla_Proyecto  Plantilla_Adjudicación  Plantilla_Licitación  \\\n0                       0                       0                     1   \n1                       0                       0                     1   \n2                       0                       1                     0   \n3                       0                       0                     0   \n4                       0                       0                     0   \n...                   ...                     ...                   ...   \n96117                   0                       1                     0   \n96118                   0                       1                     0   \n96119                   0                       1                     0   \n96120                   0                       1                     0   \n96121                   0                       1                     0   \n\n       Plantilla_Invitación  Plantilla_Reporte  Plantilla_Contratos  \n0                         0                  0                    0  \n1                         0                  0                    0  \n2                         0                  0                    0  \n3                         1                  0                    0  \n4                         1                  0                    0  \n...                     ...                ...                  ...  \n96117                     0                  0                    0  \n96118                     0                  0                    0  \n96119                     0                  0                    0  \n96120                     0                  0                    0  \n96121                     0                  0                    0  \n\n[96122 rows x 36 columns]",
      "text/html": "<div>\n<style scoped>\n    .dataframe tbody tr th:only-of-type {\n        vertical-align: middle;\n    }\n\n    .dataframe tbody tr th {\n        vertical-align: top;\n    }\n\n    .dataframe thead th {\n        text-align: right;\n    }\n</style>\n<table border=\"1\" class=\"dataframe\">\n  <thead>\n    <tr style=\"text-align: right;\">\n      <th></th>\n      <th>Caracter del procedimiento</th>\n      <th>Forma del procedimiento</th>\n      <th>Descripcion del Anuncio</th>\n      <th>Nombre de la UC</th>\n      <th>Operador</th>\n      <th>Correo electronico</th>\n      <th>Entidad federativa</th>\n      <th>Tipo de contratacion</th>\n      <th>Publicacion del anuncio</th>\n      <th>Articulo</th>\n      <th>...</th>\n      <th>Contratacion_servicios</th>\n      <th>Contratacion_obra_publica</th>\n      <th>Contratacion_arrendamientos</th>\n      <th>Contratacion_servicios_op</th>\n      <th>Plantilla_Proyecto</th>\n      <th>Plantilla_Adjudicación</th>\n      <th>Plantilla_Licitación</th>\n      <th>Plantilla_Invitación</th>\n      <th>Plantilla_Reporte</th>\n      <th>Plantilla_Contratos</th>\n    </tr>\n  </thead>\n  <tbody>\n    <tr>\n      <th>0</th>\n      <td>nacional</td>\n      <td>presencial</td>\n      <td>mejoramiento de la iluminacion de la iglesia s...</td>\n      <td>qroo-cozumel-direccion de obras publicas #8230...</td>\n      <td>gabriel caamal caamal</td>\n      <td>cozumel</td>\n      <td>sur</td>\n      <td>obra publica</td>\n      <td>2020-08-10 12:49</td>\n      <td>nan</td>\n      <td>...</td>\n      <td>0</td>\n      <td>1</td>\n      <td>0</td>\n      <td>0</td>\n      <td>0</td>\n      <td>0</td>\n      <td>1</td>\n      <td>0</td>\n      <td>0</td>\n      <td>0</td>\n    </tr>\n    <tr>\n      <th>1</th>\n      <td>nacional</td>\n      <td>presencial</td>\n      <td>adquisicion de uniformes para la direccion de ...</td>\n      <td>qroo-cozumel-direccion de obras publicas #8230...</td>\n      <td>gabriel caamal caamal</td>\n      <td>cozumel</td>\n      <td>sur</td>\n      <td>adquisiciones</td>\n      <td>2020-08-14 11:19</td>\n      <td>nan</td>\n      <td>...</td>\n      <td>0</td>\n      <td>0</td>\n      <td>0</td>\n      <td>0</td>\n      <td>0</td>\n      <td>0</td>\n      <td>1</td>\n      <td>0</td>\n      <td>0</td>\n      <td>0</td>\n    </tr>\n    <tr>\n      <th>2</th>\n      <td>nan</td>\n      <td>nan</td>\n      <td>proyecto ejecutivo jardin vecinal colonia las ...</td>\n      <td>gto-salamanca-direccion general de obras publi...</td>\n      <td>adriana ortega gonzalez</td>\n      <td>salamanca</td>\n      <td>bajio</td>\n      <td>servicios relacionados con la op</td>\n      <td>2020-03-20 12:35</td>\n      <td>43</td>\n      <td>...</td>\n      <td>0</td>\n      <td>0</td>\n      <td>0</td>\n      <td>1</td>\n      <td>0</td>\n      <td>1</td>\n      <td>0</td>\n      <td>0</td>\n      <td>0</td>\n      <td>0</td>\n    </tr>\n    <tr>\n      <th>3</th>\n      <td>nacional</td>\n      <td>mixta</td>\n      <td>construccion de deportivo bicentenario</td>\n      <td>mex-nicolas romero-direccion de obras publicas...</td>\n      <td>paulino mata gonzalez</td>\n      <td>hotmail</td>\n      <td>NaN</td>\n      <td>obra publica</td>\n      <td>2020-06-08 10:26</td>\n      <td>43</td>\n      <td>...</td>\n      <td>0</td>\n      <td>1</td>\n      <td>0</td>\n      <td>0</td>\n      <td>0</td>\n      <td>0</td>\n      <td>0</td>\n      <td>1</td>\n      <td>0</td>\n      <td>0</td>\n    </tr>\n    <tr>\n      <th>4</th>\n      <td>nacional</td>\n      <td>mixta</td>\n      <td>acondicionamiento de centro cultural y deportivo</td>\n      <td>mex-nicolas romero-direccion de obras publicas...</td>\n      <td>paulino mata gonzalez</td>\n      <td>hotmail</td>\n      <td>NaN</td>\n      <td>obra publica</td>\n      <td>2020-06-08 10:16</td>\n      <td>43</td>\n      <td>...</td>\n      <td>0</td>\n      <td>1</td>\n      <td>0</td>\n      <td>0</td>\n      <td>0</td>\n      <td>0</td>\n      <td>0</td>\n      <td>1</td>\n      <td>0</td>\n      <td>0</td>\n    </tr>\n    <tr>\n      <th>...</th>\n      <td>...</td>\n      <td>...</td>\n      <td>...</td>\n      <td>...</td>\n      <td>...</td>\n      <td>...</td>\n      <td>...</td>\n      <td>...</td>\n      <td>...</td>\n      <td>...</td>\n      <td>...</td>\n      <td>...</td>\n      <td>...</td>\n      <td>...</td>\n      <td>...</td>\n      <td>...</td>\n      <td>...</td>\n      <td>...</td>\n      <td>...</td>\n      <td>...</td>\n      <td>...</td>\n    </tr>\n    <tr>\n      <th>96117</th>\n      <td>nacional</td>\n      <td>mixta</td>\n      <td>maquinaria y equipo industrial</td>\n      <td>semar-direccion general adjunta de adquisicion...</td>\n      <td>maribel martinez lopez</td>\n      <td>semar</td>\n      <td>NaN</td>\n      <td>adquisiciones</td>\n      <td>2020-08-06 13:52</td>\n      <td>42</td>\n      <td>...</td>\n      <td>0</td>\n      <td>0</td>\n      <td>0</td>\n      <td>0</td>\n      <td>0</td>\n      <td>1</td>\n      <td>0</td>\n      <td>0</td>\n      <td>0</td>\n      <td>0</td>\n    </tr>\n    <tr>\n      <th>96118</th>\n      <td>nacional</td>\n      <td>presencial</td>\n      <td>jabones de tocador, det en polvo, jabon de lav...</td>\n      <td>diconsa-direccion de comercializacion #008vss998</td>\n      <td>timoteo sigala mercado</td>\n      <td>diconsa</td>\n      <td>norte</td>\n      <td>adquisiciones</td>\n      <td>2020-08-06 13:43</td>\n      <td>41</td>\n      <td>...</td>\n      <td>0</td>\n      <td>0</td>\n      <td>0</td>\n      <td>0</td>\n      <td>0</td>\n      <td>1</td>\n      <td>0</td>\n      <td>0</td>\n      <td>0</td>\n      <td>0</td>\n    </tr>\n    <tr>\n      <th>96119</th>\n      <td>nacional</td>\n      <td>presencial</td>\n      <td>construccion de 02 aulas didacticas y obra ext...</td>\n      <td>chis-instituto de la infraestructura fisica ed...</td>\n      <td>ricardo gutierrez ramos</td>\n      <td>inifech</td>\n      <td>pacifico sur</td>\n      <td>obra publica</td>\n      <td>2020-08-06 13:32</td>\n      <td>43</td>\n      <td>...</td>\n      <td>0</td>\n      <td>1</td>\n      <td>0</td>\n      <td>0</td>\n      <td>0</td>\n      <td>1</td>\n      <td>0</td>\n      <td>0</td>\n      <td>0</td>\n      <td>0</td>\n    </tr>\n    <tr>\n      <th>96120</th>\n      <td>nacional</td>\n      <td>presencial</td>\n      <td>adquisicion de muebles de madera</td>\n      <td>inpi-direccion de adquisiciones y obra publica...</td>\n      <td>griselda rodriguez rojas</td>\n      <td>inpi</td>\n      <td>NaN</td>\n      <td>adquisiciones</td>\n      <td>2020-08-12 13:55</td>\n      <td>41</td>\n      <td>...</td>\n      <td>0</td>\n      <td>0</td>\n      <td>0</td>\n      <td>0</td>\n      <td>0</td>\n      <td>1</td>\n      <td>0</td>\n      <td>0</td>\n      <td>0</td>\n      <td>0</td>\n    </tr>\n    <tr>\n      <th>96121</th>\n      <td>nacional</td>\n      <td>electronica</td>\n      <td>reparacion integral de mecanismos de apertura ...</td>\n      <td>imss-coordinacion de abastecimiento y equipami...</td>\n      <td>karla carolina alvarez alvarez</td>\n      <td>imss</td>\n      <td>NaN</td>\n      <td>servicios</td>\n      <td>2020-08-06 19:08</td>\n      <td>42</td>\n      <td>...</td>\n      <td>1</td>\n      <td>0</td>\n      <td>0</td>\n      <td>0</td>\n      <td>0</td>\n      <td>1</td>\n      <td>0</td>\n      <td>0</td>\n      <td>0</td>\n      <td>0</td>\n    </tr>\n  </tbody>\n</table>\n<p>96122 rows × 36 columns</p>\n</div>"
     },
     "metadata": {},
     "execution_count": 157
    }
   ],
   "source": [
    "df_reduced"
   ]
  },
  {
   "cell_type": "code",
   "execution_count": 158,
   "metadata": {},
   "outputs": [],
   "source": [
    "#df_reduced.drop(['Tipo de contratación'] ,axis = 1, inplace = True)\n",
    "#df_reduced.drop(['Artículo'] ,axis = 1, inplace = True)\n",
    "#df_reduced.drop(['Entidad federativa'], axis = 1, inplace = True)\n",
    "#df_reduced.drop(['Carácter del procedimiento'], axis = 1, inplace = True)\n",
    "#df_reduced.drop(['Forma del procedimiento'], axis = 1, inplace = True)\n",
    "#df_reduced['Correo electrónico'], axis = 1, inplace = True)\n",
    "#df_reduced['Operador']"
   ]
  },
  {
   "cell_type": "markdown",
   "metadata": {},
   "source": [
    "## Natural Language Processing"
   ]
  },
  {
   "cell_type": "code",
   "execution_count": 159,
   "metadata": {},
   "outputs": [],
   "source": [
    "import nltk # Python library for NLP\n",
    "import matplotlib.pyplot as plt            # library for visualization\n",
    "import random                              # pseudo-random number generator\n",
    "import re                                  # library for regular expression operations\n",
    "import string                              # for string operations\n",
    "from nltk.corpus import stopwords          # module for stop words that come with NLTK\n",
    "from nltk.stem import PorterStemmer        # module for stemming\n",
    "from nltk.tokenize import TweetTokenizer   # module for tokenizing strings"
   ]
  },
  {
   "cell_type": "code",
   "execution_count": 160,
   "metadata": {
    "tags": []
   },
   "outputs": [
    {
     "output_type": "stream",
     "name": "stderr",
     "text": "[nltk_data] Downloading package stopwords to\n[nltk_data]     /Users/dannygc/nltk_data...\n[nltk_data]   Package stopwords is already up-to-date!\n"
    },
    {
     "output_type": "execute_result",
     "data": {
      "text/plain": "True"
     },
     "metadata": {},
     "execution_count": 160
    }
   ],
   "source": [
    "nltk.download('stopwords')"
   ]
  },
  {
   "cell_type": "code",
   "execution_count": 179,
   "metadata": {},
   "outputs": [
    {
     "output_type": "execute_result",
     "data": {
      "text/plain": "0        mejoramiento de la iluminacion de la iglesia s...\n1        adquisicion de uniformes para la direccion de ...\n2        proyecto ejecutivo jardin vecinal colonia las ...\n3                   construccion de deportivo bicentenario\n4         acondicionamiento de centro cultural y deportivo\n                               ...                        \n96117                      maquinaria y equipo industrial \n96118    jabones de tocador, det en polvo, jabon de lav...\n96119    construccion de 02 aulas didacticas y obra ext...\n96120                     adquisicion de muebles de madera\n96121    reparacion integral de mecanismos de apertura ...\nName: Descripcion del Anuncio, Length: 96122, dtype: object"
     },
     "metadata": {},
     "execution_count": 179
    }
   ],
   "source": [
    "df_reduced['Descripcion del Anuncio']"
   ]
  },
  {
   "cell_type": "markdown",
   "metadata": {},
   "source": [
    "### Tokenizing the string"
   ]
  },
  {
   "cell_type": "code",
   "execution_count": 180,
   "metadata": {},
   "outputs": [],
   "source": [
    "from nltk.tokenize import sent_tokenize, word_tokenize"
   ]
  },
  {
   "cell_type": "code",
   "execution_count": 181,
   "metadata": {},
   "outputs": [],
   "source": [
    "df_new = df_reduced.copy(deep = True)"
   ]
  },
  {
   "cell_type": "markdown",
   "metadata": {},
   "source": [
    "Tokenize = split the strings into individual words without blanks or tabs."
   ]
  },
  {
   "cell_type": "code",
   "execution_count": 182,
   "metadata": {},
   "outputs": [],
   "source": [
    "df_new['Descripcion del Anuncio'] = df_new['Descripcion del Anuncio'].fillna(\"\").map(nltk.word_tokenize)"
   ]
  },
  {
   "cell_type": "code",
   "execution_count": 183,
   "metadata": {},
   "outputs": [
    {
     "output_type": "execute_result",
     "data": {
      "text/plain": "0        [mejoramiento, de, la, iluminacion, de, la, ig...\n1        [adquisicion, de, uniformes, para, la, direcci...\n2        [proyecto, ejecutivo, jardin, vecinal, colonia...\n3              [construccion, de, deportivo, bicentenario]\n4        [acondicionamiento, de, centro, cultural, y, d...\n                               ...                        \n96117                  [maquinaria, y, equipo, industrial]\n96118    [jabones, de, tocador, ,, det, en, polvo, ,, j...\n96119    [construccion, de, 02, aulas, didacticas, y, o...\n96120               [adquisicion, de, muebles, de, madera]\n96121    [reparacion, integral, de, mecanismos, de, ape...\nName: Descripcion del Anuncio, Length: 96122, dtype: object"
     },
     "metadata": {},
     "execution_count": 183
    }
   ],
   "source": [
    "df_new['Descripcion del Anuncio'] "
   ]
  },
  {
   "cell_type": "code",
   "execution_count": 184,
   "metadata": {},
   "outputs": [],
   "source": [
    "df_new['Nombre de la UC'] = df_new['Nombre de la UC'].fillna(\"\").map(nltk.word_tokenize)"
   ]
  },
  {
   "cell_type": "code",
   "execution_count": 185,
   "metadata": {},
   "outputs": [
    {
     "output_type": "execute_result",
     "data": {
      "text/plain": "  Caracter del procedimiento Forma del procedimiento  \\\n0                   nacional              presencial   \n1                   nacional              presencial   \n2                        nan                     nan   \n3                   nacional                   mixta   \n4                   nacional                   mixta   \n\n                             Descripcion del Anuncio  \\\n0  [mejoramiento, de, la, iluminacion, de, la, ig...   \n1  [adquisicion, de, uniformes, para, la, direcci...   \n2  [proyecto, ejecutivo, jardin, vecinal, colonia...   \n3        [construccion, de, deportivo, bicentenario]   \n4  [acondicionamiento, de, centro, cultural, y, d...   \n\n                                     Nombre de la UC                 Operador  \\\n0  [qroo-cozumel-direccion, de, obras, publicas, ...    gabriel caamal caamal   \n1  [qroo-cozumel-direccion, de, obras, publicas, ...    gabriel caamal caamal   \n2  [gto-salamanca-direccion, general, de, obras, ...  adriana ortega gonzalez   \n3  [mex-nicolas, romero-direccion, de, obras, pub...    paulino mata gonzalez   \n4  [mex-nicolas, romero-direccion, de, obras, pub...    paulino mata gonzalez   \n\n  Correo electronico Entidad federativa              Tipo de contratacion  \\\n0            cozumel                sur                      obra publica   \n1            cozumel                sur                     adquisiciones   \n2          salamanca              bajio  servicios relacionados con la op   \n3            hotmail                NaN                      obra publica   \n4            hotmail                NaN                      obra publica   \n\n  Publicacion del anuncio Articulo  ... Contratacion_servicios  \\\n0        2020-08-10 12:49      nan  ...                      0   \n1        2020-08-14 11:19      nan  ...                      0   \n2        2020-03-20 12:35       43  ...                      0   \n3        2020-06-08 10:26       43  ...                      0   \n4        2020-06-08 10:16       43  ...                      0   \n\n   Contratacion_obra_publica  Contratacion_arrendamientos  \\\n0                          1                            0   \n1                          0                            0   \n2                          0                            0   \n3                          1                            0   \n4                          1                            0   \n\n   Contratacion_servicios_op  Plantilla_Proyecto  Plantilla_Adjudicación  \\\n0                          0                   0                       0   \n1                          0                   0                       0   \n2                          1                   0                       1   \n3                          0                   0                       0   \n4                          0                   0                       0   \n\n   Plantilla_Licitación  Plantilla_Invitación  Plantilla_Reporte  \\\n0                     1                     0                  0   \n1                     1                     0                  0   \n2                     0                     0                  0   \n3                     0                     1                  0   \n4                     0                     1                  0   \n\n   Plantilla_Contratos  \n0                    0  \n1                    0  \n2                    0  \n3                    0  \n4                    0  \n\n[5 rows x 36 columns]",
      "text/html": "<div>\n<style scoped>\n    .dataframe tbody tr th:only-of-type {\n        vertical-align: middle;\n    }\n\n    .dataframe tbody tr th {\n        vertical-align: top;\n    }\n\n    .dataframe thead th {\n        text-align: right;\n    }\n</style>\n<table border=\"1\" class=\"dataframe\">\n  <thead>\n    <tr style=\"text-align: right;\">\n      <th></th>\n      <th>Caracter del procedimiento</th>\n      <th>Forma del procedimiento</th>\n      <th>Descripcion del Anuncio</th>\n      <th>Nombre de la UC</th>\n      <th>Operador</th>\n      <th>Correo electronico</th>\n      <th>Entidad federativa</th>\n      <th>Tipo de contratacion</th>\n      <th>Publicacion del anuncio</th>\n      <th>Articulo</th>\n      <th>...</th>\n      <th>Contratacion_servicios</th>\n      <th>Contratacion_obra_publica</th>\n      <th>Contratacion_arrendamientos</th>\n      <th>Contratacion_servicios_op</th>\n      <th>Plantilla_Proyecto</th>\n      <th>Plantilla_Adjudicación</th>\n      <th>Plantilla_Licitación</th>\n      <th>Plantilla_Invitación</th>\n      <th>Plantilla_Reporte</th>\n      <th>Plantilla_Contratos</th>\n    </tr>\n  </thead>\n  <tbody>\n    <tr>\n      <th>0</th>\n      <td>nacional</td>\n      <td>presencial</td>\n      <td>[mejoramiento, de, la, iluminacion, de, la, ig...</td>\n      <td>[qroo-cozumel-direccion, de, obras, publicas, ...</td>\n      <td>gabriel caamal caamal</td>\n      <td>cozumel</td>\n      <td>sur</td>\n      <td>obra publica</td>\n      <td>2020-08-10 12:49</td>\n      <td>nan</td>\n      <td>...</td>\n      <td>0</td>\n      <td>1</td>\n      <td>0</td>\n      <td>0</td>\n      <td>0</td>\n      <td>0</td>\n      <td>1</td>\n      <td>0</td>\n      <td>0</td>\n      <td>0</td>\n    </tr>\n    <tr>\n      <th>1</th>\n      <td>nacional</td>\n      <td>presencial</td>\n      <td>[adquisicion, de, uniformes, para, la, direcci...</td>\n      <td>[qroo-cozumel-direccion, de, obras, publicas, ...</td>\n      <td>gabriel caamal caamal</td>\n      <td>cozumel</td>\n      <td>sur</td>\n      <td>adquisiciones</td>\n      <td>2020-08-14 11:19</td>\n      <td>nan</td>\n      <td>...</td>\n      <td>0</td>\n      <td>0</td>\n      <td>0</td>\n      <td>0</td>\n      <td>0</td>\n      <td>0</td>\n      <td>1</td>\n      <td>0</td>\n      <td>0</td>\n      <td>0</td>\n    </tr>\n    <tr>\n      <th>2</th>\n      <td>nan</td>\n      <td>nan</td>\n      <td>[proyecto, ejecutivo, jardin, vecinal, colonia...</td>\n      <td>[gto-salamanca-direccion, general, de, obras, ...</td>\n      <td>adriana ortega gonzalez</td>\n      <td>salamanca</td>\n      <td>bajio</td>\n      <td>servicios relacionados con la op</td>\n      <td>2020-03-20 12:35</td>\n      <td>43</td>\n      <td>...</td>\n      <td>0</td>\n      <td>0</td>\n      <td>0</td>\n      <td>1</td>\n      <td>0</td>\n      <td>1</td>\n      <td>0</td>\n      <td>0</td>\n      <td>0</td>\n      <td>0</td>\n    </tr>\n    <tr>\n      <th>3</th>\n      <td>nacional</td>\n      <td>mixta</td>\n      <td>[construccion, de, deportivo, bicentenario]</td>\n      <td>[mex-nicolas, romero-direccion, de, obras, pub...</td>\n      <td>paulino mata gonzalez</td>\n      <td>hotmail</td>\n      <td>NaN</td>\n      <td>obra publica</td>\n      <td>2020-06-08 10:26</td>\n      <td>43</td>\n      <td>...</td>\n      <td>0</td>\n      <td>1</td>\n      <td>0</td>\n      <td>0</td>\n      <td>0</td>\n      <td>0</td>\n      <td>0</td>\n      <td>1</td>\n      <td>0</td>\n      <td>0</td>\n    </tr>\n    <tr>\n      <th>4</th>\n      <td>nacional</td>\n      <td>mixta</td>\n      <td>[acondicionamiento, de, centro, cultural, y, d...</td>\n      <td>[mex-nicolas, romero-direccion, de, obras, pub...</td>\n      <td>paulino mata gonzalez</td>\n      <td>hotmail</td>\n      <td>NaN</td>\n      <td>obra publica</td>\n      <td>2020-06-08 10:16</td>\n      <td>43</td>\n      <td>...</td>\n      <td>0</td>\n      <td>1</td>\n      <td>0</td>\n      <td>0</td>\n      <td>0</td>\n      <td>0</td>\n      <td>0</td>\n      <td>1</td>\n      <td>0</td>\n      <td>0</td>\n    </tr>\n  </tbody>\n</table>\n<p>5 rows × 36 columns</p>\n</div>"
     },
     "metadata": {},
     "execution_count": 185
    }
   ],
   "source": [
    "df_new.head(5)"
   ]
  },
  {
   "cell_type": "markdown",
   "metadata": {},
   "source": [
    "### Remove stop words and punctuations"
   ]
  },
  {
   "cell_type": "code",
   "execution_count": 186,
   "metadata": {},
   "outputs": [],
   "source": [
    "stopwords_esp = stopwords.words('spanish')"
   ]
  },
  {
   "cell_type": "code",
   "execution_count": 187,
   "metadata": {
    "tags": []
   },
   "outputs": [],
   "source": [
    "def clean_token(column):\n",
    "    clean_text = []\n",
    "    for word in column: # Go through every word in your tokens list\n",
    "        if (word not in stopwords_esp and  # remove stopwords\n",
    "            word not in string.punctuation): # remove punctuation   \n",
    "            word_ = ''\n",
    "            for char in word:\n",
    "                if (char not in string.punctuation and\n",
    "                    char not in ['1','2','3','4','5','6','7','8','9','0','',' ']):\n",
    "                    word_ = \"\".join((word_,char))\n",
    "            clean_text.append(word_)\n",
    "\n",
    "    return clean_text"
   ]
  },
  {
   "cell_type": "code",
   "execution_count": 188,
   "metadata": {},
   "outputs": [],
   "source": [
    "df_new['Descripcion del Anuncio'] = df_new['Descripcion del Anuncio'].apply(clean_token)"
   ]
  },
  {
   "cell_type": "code",
   "execution_count": 189,
   "metadata": {},
   "outputs": [],
   "source": [
    "df_new['Nombre de la UC'] = df_new['Nombre de la UC'].apply(clean_token)"
   ]
  },
  {
   "cell_type": "code",
   "execution_count": 190,
   "metadata": {},
   "outputs": [
    {
     "output_type": "execute_result",
     "data": {
      "text/plain": "0        [mejoramiento, iluminacion, iglesia, san, miguel]\n1        [adquisicion, uniformes, direccion, seguridad,...\n2        [proyecto, ejecutivo, jardin, vecinal, colonia...\n3                  [construccion, deportivo, bicentenario]\n4         [acondicionamiento, centro, cultural, deportivo]\n                               ...                        \n96117                     [maquinaria, equipo, industrial]\n96118    [jabones, tocador, det, polvo, jabon, lavanderia]\n96119    [construccion, , aulas, didacticas, obra, exte...\n96120                       [adquisicion, muebles, madera]\n96121    [reparacion, integral, mecanismos, apertura, p...\nName: Descripcion del Anuncio, Length: 96122, dtype: object"
     },
     "metadata": {},
     "execution_count": 190
    }
   ],
   "source": [
    "df_new['Descripcion del Anuncio']"
   ]
  },
  {
   "cell_type": "markdown",
   "metadata": {},
   "source": [
    "### Stemming"
   ]
  },
  {
   "cell_type": "code",
   "execution_count": 191,
   "metadata": {},
   "outputs": [],
   "source": [
    "from nltk.stem import SnowballStemmer"
   ]
  },
  {
   "cell_type": "markdown",
   "metadata": {},
   "source": [
    "Stemming = the process of transforming each word to its roots. "
   ]
  },
  {
   "cell_type": "code",
   "execution_count": 192,
   "metadata": {},
   "outputs": [],
   "source": [
    "stemmer = SnowballStemmer('spanish')"
   ]
  },
  {
   "cell_type": "code",
   "execution_count": 193,
   "metadata": {},
   "outputs": [],
   "source": [
    "def stem_token(column):\n",
    "    stem_text = []\n",
    "\n",
    "    for word in column: # Go through every word in your tokens list\n",
    "        stem_word = stemmer.stem(word)\n",
    "        stem_text.append(stem_word)\n",
    "\n",
    "    return stem_text"
   ]
  },
  {
   "cell_type": "code",
   "execution_count": 194,
   "metadata": {},
   "outputs": [],
   "source": [
    "df_new['Descripcion del Anuncio'] = df_new['Descripcion del Anuncio'].apply(stem_token)"
   ]
  },
  {
   "cell_type": "code",
   "execution_count": 195,
   "metadata": {},
   "outputs": [],
   "source": [
    "df_new['Nombre de la UC'] = df_new['Nombre de la UC'].apply(stem_token)"
   ]
  },
  {
   "cell_type": "code",
   "execution_count": 196,
   "metadata": {},
   "outputs": [
    {
     "output_type": "execute_result",
     "data": {
      "text/plain": "0                  [qroocozumeldireccion, obras, public, ]\n1                  [qroocozumeldireccion, obras, public, ]\n2        [gtosalamancadireccion, general, obras, public, ]\n3             [mexnicol, romerodireccion, obras, public, ]\n4             [mexnicol, romerodireccion, obras, public, ]\n                               ...                        \n96117     [semardireccion, general, adjunt, adquisicion, ]\n96118            [diconsadireccion, comercializacion, vss]\n96119    [chisinstitut, infraestructur, fisic, educ, ch...\n96120      [inpidireccion, adquisicion, obra, public, ayb]\n96121    [imsscoordinacion, abastec, equip, delegacion,...\nName: Nombre de la UC, Length: 96122, dtype: object"
     },
     "metadata": {},
     "execution_count": 196
    }
   ],
   "source": [
    "df_new['Nombre de la UC']"
   ]
  },
  {
   "cell_type": "code",
   "execution_count": 197,
   "metadata": {},
   "outputs": [
    {
     "output_type": "execute_result",
     "data": {
      "text/plain": "0                [mejor, iluminacion, iglesi, san, miguel]\n1        [adquisicion, uniform, direccion, segur, publi...\n2        [proyect, ejecut, jardin, vecinal, coloni, ame...\n3                      [construccion, deport, bicentenari]\n4                    [acondicion, centr, cultural, deport]\n                               ...                        \n96117                       [maquinari, equip, industrial]\n96118        [jabon, tocador, det, polv, jabon, lavanderi]\n96119    [construccion, , aul, didact, obra, exterior, ...\n96120                          [adquisicion, muebl, mader]\n96121    [reparacion, integral, mecan, apertur, puert, ...\nName: Descripcion del Anuncio, Length: 96122, dtype: object"
     },
     "metadata": {},
     "execution_count": 197
    }
   ],
   "source": [
    "df_new['Descripcion del Anuncio']"
   ]
  },
  {
   "cell_type": "code",
   "execution_count": 198,
   "metadata": {},
   "outputs": [
    {
     "output_type": "execute_result",
     "data": {
      "text/plain": "Index(['Caracter del procedimiento', 'Forma del procedimiento',\n       'Descripcion del Anuncio', 'Nombre de la UC', 'Operador',\n       'Correo electronico', 'Entidad federativa', 'Tipo de contratacion',\n       'Publicacion del anuncio', 'Articulo', 'Plantilla',\n       'Forma_Procedimiento_Presencial', 'Forma_Procedimiento_Electronica',\n       'Forma_Procedimiento_Mixta', 'Entidad_federativa_Norte',\n       'Entidad_federativa_Centro', 'Entidad_federativa_Golfo',\n       'Entidad_federativa_PacificoSur', 'Entidad_federativa_Sur',\n       'Entidad_federativa_PacificoNorte',\n       'Caracter del procedimiento_Nacional',\n       'Caracter del procedimiento_Internacional', 'Articulo de excepcion_41',\n       'Articulo de excepcion_42', 'Articulo de excepcion_43',\n       'Contratacion_adquisiciones', 'Contratacion_servicios',\n       'Contratacion_obra_publica', 'Contratacion_arrendamientos',\n       'Contratacion_servicios_op', 'Plantilla_Proyecto',\n       'Plantilla_Adjudicación', 'Plantilla_Licitación',\n       'Plantilla_Invitación', 'Plantilla_Reporte', 'Plantilla_Contratos'],\n      dtype='object')"
     },
     "metadata": {},
     "execution_count": 198
    }
   ],
   "source": [
    "df_new.columns"
   ]
  },
  {
   "source": [
    "### Word frequency in next notebook..."
   ],
   "cell_type": "markdown",
   "metadata": {}
  },
  {
   "cell_type": "code",
   "execution_count": 199,
   "metadata": {},
   "outputs": [],
   "source": [
    "# Save the object in a python file\n",
    "import pickle\n",
    "\n",
    "with open('df1.data','wb') as data:\n",
    "    pickle.dump(df_new, data)"
   ]
  },
  {
   "cell_type": "code",
   "execution_count": null,
   "metadata": {},
   "outputs": [],
   "source": []
  }
 ],
 "metadata": {
  "language_info": {
   "codemirror_mode": {
    "name": "ipython",
    "version": 3
   },
   "file_extension": ".py",
   "mimetype": "text/x-python",
   "name": "python",
   "nbconvert_exporter": "python",
   "pygments_lexer": "ipython3",
   "version": "3.7.6-final"
  },
  "orig_nbformat": 2,
  "kernelspec": {
   "name": "Python 3.7.6 64-bit ('base': conda)",
   "display_name": "Python 3.7.6 64-bit ('base': conda)",
   "metadata": {
    "interpreter": {
     "hash": "9128dd7abc6f2bcca1f1110752e321c48fea6a9df3aaa3ae665d5777c27b5d48"
    }
   }
  }
 },
 "nbformat": 4,
 "nbformat_minor": 2
}