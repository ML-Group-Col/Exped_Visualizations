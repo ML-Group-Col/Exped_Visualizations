{
 "metadata": {
  "language_info": {
   "codemirror_mode": {
    "name": "ipython",
    "version": 3
   },
   "file_extension": ".py",
   "mimetype": "text/x-python",
   "name": "python",
   "nbconvert_exporter": "python",
   "pygments_lexer": "ipython3",
   "version": "3.7.6-final"
  },
  "orig_nbformat": 2,
  "kernelspec": {
   "name": "Python 3.7.6 64-bit ('base': conda)",
   "display_name": "Python 3.7.6 64-bit ('base': conda)",
   "metadata": {
    "interpreter": {
     "hash": "f515a261c91f2d540a32fd338636eea76c71c483334d8e72b3eaaa34365c9198"
    }
   }
  }
 },
 "nbformat": 4,
 "nbformat_minor": 2,
 "cells": [
  {
   "cell_type": "code",
   "execution_count": 76,
   "metadata": {},
   "outputs": [],
   "source": [
    "import pandas as pd \n",
    "import numpy as np\n",
    "import unidecode\n",
    "import spacy\n",
    "import re"
   ]
  },
  {
   "cell_type": "code",
   "execution_count": null,
   "metadata": {},
   "outputs": [],
   "source": [
    "df = pd.read_csv(\"ExpedientesPublicados.csv\")"
   ]
  },
  {
   "cell_type": "code",
   "execution_count": null,
   "metadata": {},
   "outputs": [],
   "source": [
    "nlp = spacy.load(\"es_core_news_md\")"
   ]
  },
  {
   "cell_type": "code",
   "execution_count": 86,
   "metadata": {},
   "outputs": [],
   "source": [
    "def process_text(text):\n",
    "    text = ' '.join(text.split())\n",
    "    doc = nlp(text.lower().replace(\"¨\",\"\"))\n",
    "    result = []\n",
    "    for token in doc:\n",
    "        if '\"' in token.text:\n",
    "            continue\n",
    "        if '-' in token.text:\n",
    "            continue\n",
    "        if token.text in nlp.Defaults.stop_words:\n",
    "            continue\n",
    "        if token.is_punct:\n",
    "            continue\n",
    "        if token.lemma_ == '-PRON-':\n",
    "            continue\n",
    "        result.append(token.lemma_)\n",
    "    #Remove accents\n",
    "    result = unidecode.unidecode(\" \".join(result))\n",
    "    result = re.sub(r\"[^A-Za-z\\s]+\", ' ', result)\n",
    "    return result"
   ]
  },
  {
   "cell_type": "code",
   "execution_count": 12,
   "metadata": {
    "tags": []
   },
   "outputs": [
    {
     "output_type": "stream",
     "name": "stdout",
     "text": "<class 'pandas.core.frame.DataFrame'>\nInt64Index: 95353 entries, 0 to 96121\nData columns (total 22 columns):\nCódigo del expediente           95353 non-null int64\nNúmero del procedimiento        95353 non-null object\nCarácter del procedimiento      95353 non-null object\nForma del procedimiento         95353 non-null object\nArtículo de excepción           95353 non-null object\nREFERENCIA_EXPEDIENTE           95353 non-null object\nTítulo del expediente           95353 non-null object\nPlantilla del expediente        95353 non-null object\nDescripción del Anuncio         95353 non-null object\nClave de la UC                  95353 non-null object\nNombre de la UC                 95353 non-null object\nOperador                        95353 non-null object\nCorreo electrónico              95353 non-null object\nEntidad federativa              95353 non-null object\nTipo de contratación            95353 non-null object\nPublicación del anuncio         95353 non-null object\nVigencia del anuncio            95353 non-null object\nClave COG                       95353 non-null object\nFecha de creación               95353 non-null object\nFecha de última modificacion    95353 non-null object\nDirección del anuncio           95353 non-null object\nCleanDesc                       95353 non-null object\ndtypes: int64(1), object(21)\nmemory usage: 16.7+ MB\n"
    }
   ],
   "source": [
    "df.info()"
   ]
  },
  {
   "cell_type": "code",
   "execution_count": 87,
   "metadata": {
    "tags": []
   },
   "outputs": [
    {
     "output_type": "stream",
     "name": "stdout",
     "text": "servicio profesional coadyuvar registrar y control proyectosde investigacion creacion deexpedientes academico y fisico elsistema albala apoyar realizacionde tramite referente a lacoordinacion investigacion delcentro nacional investigacion documentacion e investigacion musical carlos chavez\n"
    }
   ],
   "source": [
    "print(process_text('SERVICIOS PROFESIONALES PARA COADYUVAREN EL REGISTRO Y CONTROL DE LOS PROYECTOSDE INVESTIGACIÓN, EN LA CREACIÓN DEEXPEDIENTES ACADÉMICOS Y FÍSICOS EN ELSISTEMA ALBALÁ, APOYAR EN LA REALIZACIÓNDE LOS TRÁMITES REFERENTES A LACOORDINACIÓN DE INVESTIGACIÓN DELCENTRO NACIONAL DE INVESTIGACIÓN,DOCUMENTACIÓN E INVESTIGACIÓN MUSICAL“CARLOS CHÁVEZ”.'))"
   ]
  },
  {
   "cell_type": "code",
   "execution_count": 88,
   "metadata": {
    "tags": []
   },
   "outputs": [
    {
     "output_type": "execute_result",
     "data": {
      "text/plain": "servicio profesional elaboracion avaluo                                                                                                                                                                                                                                                                                         1915\nharina maiz                                                                                                                                                                                                                                                                                                                     1226\nservicio profesional                                                                                                                                                                                                                                                                                                             915\nmaterial curacion                                                                                                                                                                                                                                                                                                                829\nharina trigo                                                                                                                                                                                                                                                                                                                     807\naceitar vegetal comestible                                                                                                                                                                                                                                                                                                       752\nadquisicion medicamento                                                                                                                                                                                                                                                                                                          484\nmaterial curacion alto especialidad                                                                                                                                                                                                                                                                                              477\nazucar estandar                                                                                                                                                                                                                                                                                                                  433\nservicio profesional elaboracion avaluar                                                                                                                                                                                                                                                                                         408\nadquisicion material curacion                                                                                                                                                                                                                                                                                                    379\nmedicamento alto especialidad                                                                                                                                                                                                                                                                                                    374\nalimento pecuario                                                                                                                                                                                                                                                                                                                374\ndetergente polvo                                                                                                                                                                                                                                                                                                                 374\nsalir moler y refinar                                                                                                                                                                                                                                                                                                            359\nmedicamento                                                                                                                                                                                                                                                                                                                      356\npapel higienico                                                                                                                                                                                                                                                                                                                  337\nprestador servicio profesional                                                                                                                                                                                                                                                                                                   333\ngalleta basicas                                                                                                                                                                                                                                                                                                                  318\ns  ad  medicamento                                                                                                                                                                                                                                                                                                               302\natun enlatar                                                                                                                                                                                                                                                                                                                     283\nmaterial accesorio y suministro medicos                                                                                                                                                                                                                                                                                          267\nharina maiz mimasa                                                                                                                                                                                                                                                                                                               259\nblanqueador                                                                                                                                                                                                                                                                                                                      243\navenar                                                                                                                                                                                                                                                                                                                           205\nsuavizante tela                                                                                                                                                                                                                                                                                                                  195\narroz envasar                                                                                                                                                                                                                                                                                                                    194\nservicio extensionismo territorio cader apoyar programar fertilizante   guerrero                                                                                                                                                                                                                                                 188\ns  ad  material curacion                                                                                                                                                                                                                                                                                                         182\nejecucion lineo accion establecer clausula sexto convenio colaboracion celebrar direccion desarrollar capacidad y extensionismo rural sader y inca rural a c termino establecer ley desarrollar rural sustentable conformar a establecer programar proponer tecnico proveedor formar integral presentar instrumentar chiapas     179\nmed                                                                                                                                                                                                                                                                                                                              176\nprestador servicio                                                                                                                                                                                                                                                                                                               168\nadquisicion material accesorio y suministro laboratorio                                                                                                                                                                                                                                                                          160\nsardina enlatar                                                                                                                                                                                                                                                                                                                  158\ncontratar hraev sp  ad                                                                                                                                                                                                                                                                                                           153\nbebida fruto gravar                                                                                                                                                                                                                                                                                                              149\nabarrote comestible                                                                                                                                                                                                                                                                                                              133\nservicio vigilancia                                                                                                                                                                                                                                                                                                              132\nabarrote                                                                                                                                                                                                                                                                                                                         131\njabon lavanderia                                                                                                                                                                                                                                                                                                                 130\nsubcontratacion servicio tercero                                                                                                                                                                                                                                                                                                 130\ncereal hojuela                                                                                                                                                                                                                                                                                                                   129\nmanteca vegetal                                                                                                                                                                                                                                                                                                                  127\nchocolate polvo                                                                                                                                                                                                                                                                                                                  125\ncafe soluble                                                                                                                                                                                                                                                                                                                     125\nejecucion lineo accion establecer clausula sexto convenio colaboracion celebrar direccion desarrollar capacidad y extensionismo rural sader y inca rural a c termino establecer ley desarrollar rural sustentable conformar a establecer programar proponer tecnico proveedor formar integral presentar instrumentar oaxaca      125\nveladora                                                                                                                                                                                                                                                                                                                         124\nservicio medicos subrogar especializacion                                                                                                                                                                                                                                                                                        123\nadquisicion material accesorio y suministro medico                                                                                                                                                                                                                                                                               122\nmaterial laboratorio                                                                                                                                                                                                                                                                                                             121\nsurtimiento alimento perecedero                                                                                                                                                                                                                                                                                                  119\npersonar prestador servicio profesional conapred                                                                                                                                                                                                                                                                                 116\nsoya texturizada                                                                                                                                                                                                                                                                                                                 113\nadjudicacion directo medicamento                                                                                                                                                                                                                                                                                                 112\ngalleta basicas galleta diverso                                                                                                                                                                                                                                                                                                  109\nadquisicion material limpieza                                                                                                                                                                                                                                                                                                    108\ngalleta diverso                                                                                                                                                                                                                                                                                                                  107\nadquisicion bien terapeuticos                                                                                                                                                                                                                                                                                                    105\nservicio medico subrogar especializacion                                                                                                                                                                                                                                                                                         102\nadquisicion producto quimicos basicos                                                                                                                                                                                                                                                                                            100\nName: CleanDesc, dtype: int64"
     },
     "metadata": {},
     "execution_count": 88
    }
   ],
   "source": [
    "df = df.fillna('')\n",
    "df['CleanDesc'] = df.apply(lambda row : process_text(row['Descripción del Anuncio']), axis = 1)\n",
    "descriptions = df['CleanDesc'].value_counts()\n",
    "descriptions.head(60)"
   ]
  },
  {
   "cell_type": "code",
   "execution_count": 89,
   "metadata": {},
   "outputs": [],
   "source": [
    "df = df[df['CleanDesc'].astype(bool)]"
   ]
  },
  {
   "cell_type": "code",
   "execution_count": 90,
   "metadata": {},
   "outputs": [
    {
     "output_type": "execute_result",
     "data": {
      "text/plain": "28040              servicio profesional elaboracion avaluo\n77960                              adquisicion medicamento\n73895               adquisicion consumible equipar medicar\n80523                                      papel higienico\n31817    servicio apoyar a direccion recurso material y...\n55366    trabajo obrar civil e instalacion electromecan...\n48641                     servicio telefonico convencional\n61657                                          grupo      \n20101                                        jugo y nectar\n63062    elaboracion estudio socavacion y evaluacion es...\n17756           rehabilitacion primario guadalupe victoria\n31923    servicio preservacion digital a soporte iconog...\n53680                         adq material curacion covid \n19789    servicio limpieza a instalacion aeropuerto int...\n1982               servicio profesional elaboracion avaluo\n10412                     adquisicion colchon hopitalarios\n75985                              material complementario\n67964                      galleta diverso galleta basicas\n84408                             garbanzo haba pelar maiz\n72015        adquisicion   terminal digital portatil radio\nName: CleanDesc, dtype: object"
     },
     "metadata": {},
     "execution_count": 90
    }
   ],
   "source": [
    "df['CleanDesc'].sample(20)"
   ]
  },
  {
   "cell_type": "code",
   "execution_count": 96,
   "metadata": {
    "tags": []
   },
   "outputs": [],
   "source": [
    "for row in df['CleanDesc']:\n",
    "    if '\"' in row:\n",
    "        print(row)"
   ]
  },
  {
   "cell_type": "code",
   "execution_count": 91,
   "metadata": {},
   "outputs": [],
   "source": [
    "df['Word Vectors'] = df.apply(lambda row : nlp(row['CleanDesc']).vector, axis = 1)"
   ]
  },
  {
   "cell_type": "code",
   "execution_count": 92,
   "metadata": {},
   "outputs": [
    {
     "output_type": "error",
     "ename": "PermissionError",
     "evalue": "[Errno 13] Permission denied: 'ExpedientesNLP.csv'",
     "traceback": [
      "\u001b[1;31m---------------------------------------------------------------------------\u001b[0m",
      "\u001b[1;31mPermissionError\u001b[0m                           Traceback (most recent call last)",
      "\u001b[1;32m<ipython-input-92-4847b4c84d32>\u001b[0m in \u001b[0;36m<module>\u001b[1;34m\u001b[0m\n\u001b[1;32m----> 1\u001b[1;33m \u001b[0mdf\u001b[0m\u001b[1;33m.\u001b[0m\u001b[0mto_csv\u001b[0m\u001b[1;33m(\u001b[0m\u001b[1;34m'ExpedientesNLP.csv'\u001b[0m\u001b[1;33m)\u001b[0m\u001b[1;33m\u001b[0m\u001b[1;33m\u001b[0m\u001b[0m\n\u001b[0m",
      "\u001b[1;32m~\\anaconda3\\lib\\site-packages\\pandas\\core\\generic.py\u001b[0m in \u001b[0;36mto_csv\u001b[1;34m(self, path_or_buf, sep, na_rep, float_format, columns, header, index, index_label, mode, encoding, compression, quoting, quotechar, line_terminator, chunksize, date_format, doublequote, escapechar, decimal)\u001b[0m\n\u001b[0;32m   3226\u001b[0m             \u001b[0mdecimal\u001b[0m\u001b[1;33m=\u001b[0m\u001b[0mdecimal\u001b[0m\u001b[1;33m,\u001b[0m\u001b[1;33m\u001b[0m\u001b[1;33m\u001b[0m\u001b[0m\n\u001b[0;32m   3227\u001b[0m         )\n\u001b[1;32m-> 3228\u001b[1;33m         \u001b[0mformatter\u001b[0m\u001b[1;33m.\u001b[0m\u001b[0msave\u001b[0m\u001b[1;33m(\u001b[0m\u001b[1;33m)\u001b[0m\u001b[1;33m\u001b[0m\u001b[1;33m\u001b[0m\u001b[0m\n\u001b[0m\u001b[0;32m   3229\u001b[0m \u001b[1;33m\u001b[0m\u001b[0m\n\u001b[0;32m   3230\u001b[0m         \u001b[1;32mif\u001b[0m \u001b[0mpath_or_buf\u001b[0m \u001b[1;32mis\u001b[0m \u001b[1;32mNone\u001b[0m\u001b[1;33m:\u001b[0m\u001b[1;33m\u001b[0m\u001b[1;33m\u001b[0m\u001b[0m\n",
      "\u001b[1;32m~\\anaconda3\\lib\\site-packages\\pandas\\io\\formats\\csvs.py\u001b[0m in \u001b[0;36msave\u001b[1;34m(self)\u001b[0m\n\u001b[0;32m    181\u001b[0m                 \u001b[0mself\u001b[0m\u001b[1;33m.\u001b[0m\u001b[0mmode\u001b[0m\u001b[1;33m,\u001b[0m\u001b[1;33m\u001b[0m\u001b[1;33m\u001b[0m\u001b[0m\n\u001b[0;32m    182\u001b[0m                 \u001b[0mencoding\u001b[0m\u001b[1;33m=\u001b[0m\u001b[0mself\u001b[0m\u001b[1;33m.\u001b[0m\u001b[0mencoding\u001b[0m\u001b[1;33m,\u001b[0m\u001b[1;33m\u001b[0m\u001b[1;33m\u001b[0m\u001b[0m\n\u001b[1;32m--> 183\u001b[1;33m                 \u001b[0mcompression\u001b[0m\u001b[1;33m=\u001b[0m\u001b[0mself\u001b[0m\u001b[1;33m.\u001b[0m\u001b[0mcompression\u001b[0m\u001b[1;33m,\u001b[0m\u001b[1;33m\u001b[0m\u001b[1;33m\u001b[0m\u001b[0m\n\u001b[0m\u001b[0;32m    184\u001b[0m             )\n\u001b[0;32m    185\u001b[0m             \u001b[0mclose\u001b[0m \u001b[1;33m=\u001b[0m \u001b[1;32mTrue\u001b[0m\u001b[1;33m\u001b[0m\u001b[1;33m\u001b[0m\u001b[0m\n",
      "\u001b[1;32m~\\anaconda3\\lib\\site-packages\\pandas\\io\\common.py\u001b[0m in \u001b[0;36m_get_handle\u001b[1;34m(path_or_buf, mode, encoding, compression, memory_map, is_text)\u001b[0m\n\u001b[0;32m    397\u001b[0m         \u001b[1;32mif\u001b[0m \u001b[0mencoding\u001b[0m\u001b[1;33m:\u001b[0m\u001b[1;33m\u001b[0m\u001b[1;33m\u001b[0m\u001b[0m\n\u001b[0;32m    398\u001b[0m             \u001b[1;31m# Encoding\u001b[0m\u001b[1;33m\u001b[0m\u001b[1;33m\u001b[0m\u001b[1;33m\u001b[0m\u001b[0m\n\u001b[1;32m--> 399\u001b[1;33m             \u001b[0mf\u001b[0m \u001b[1;33m=\u001b[0m \u001b[0mopen\u001b[0m\u001b[1;33m(\u001b[0m\u001b[0mpath_or_buf\u001b[0m\u001b[1;33m,\u001b[0m \u001b[0mmode\u001b[0m\u001b[1;33m,\u001b[0m \u001b[0mencoding\u001b[0m\u001b[1;33m=\u001b[0m\u001b[0mencoding\u001b[0m\u001b[1;33m,\u001b[0m \u001b[0mnewline\u001b[0m\u001b[1;33m=\u001b[0m\u001b[1;34m\"\"\u001b[0m\u001b[1;33m)\u001b[0m\u001b[1;33m\u001b[0m\u001b[1;33m\u001b[0m\u001b[0m\n\u001b[0m\u001b[0;32m    400\u001b[0m         \u001b[1;32melif\u001b[0m \u001b[0mis_text\u001b[0m\u001b[1;33m:\u001b[0m\u001b[1;33m\u001b[0m\u001b[1;33m\u001b[0m\u001b[0m\n\u001b[0;32m    401\u001b[0m             \u001b[1;31m# No explicit encoding\u001b[0m\u001b[1;33m\u001b[0m\u001b[1;33m\u001b[0m\u001b[1;33m\u001b[0m\u001b[0m\n",
      "\u001b[1;31mPermissionError\u001b[0m: [Errno 13] Permission denied: 'ExpedientesNLP.csv'"
     ]
    }
   ],
   "source": [
    "df.to_csv('ExpedientesNLP.csv')"
   ]
  },
  {
   "cell_type": "code",
   "execution_count": 97,
   "metadata": {},
   "outputs": [
    {
     "output_type": "execute_result",
     "data": {
      "text/plain": "                                           CleanDesc         0         1  \\\n0      mejoramiento iluminacion iglesia santo miguel  0.285134 -0.347190   \n1  adquisicion uniforme direccion seguridad publi...  1.505920 -0.214450   \n2  proyectar ejecutivo jardin vecinal colonia ame...  0.879200 -0.109962   \n3                construccion deportivo bicentenario  1.647743 -0.124789   \n4     acondicionamiento centrar cultural y deportivo  1.590622  0.248824   \n\n          2         3         4         5         6         7         8  ...  \\\n0  0.372838  1.786500  1.304575 -0.875542  0.241736  2.207744  1.386242  ...   \n1  0.031016 -0.216319 -0.079253 -0.846233 -0.163367  1.464723  0.367282  ...   \n2  1.224388  0.414138  1.023179  0.381762 -0.782174  0.455059  0.482879  ...   \n3  0.974133  0.514520  1.243167 -0.244903 -0.728567  0.235247  0.193003  ...   \n4  1.003108 -0.054634  1.140828 -0.664088 -0.539960  0.613790  0.202512  ...   \n\n        290       291       292       293       294       295       296  \\\n0  0.015060  0.083816 -0.624450  1.240238  1.526300 -0.409667  1.292290   \n1 -0.208350  0.192616 -0.442881  0.968356  0.985995 -0.190079  1.071147   \n2  0.245520  0.150462  0.823416  0.994631  1.179548 -0.024129  1.741747   \n3 -0.948187  0.531850 -1.003360  0.536137  1.164490 -1.412653  1.416800   \n4 -0.214696  0.146978 -0.556054 -0.291617  1.160667 -1.053317  1.052188   \n\n        297       298       299  \n0 -0.202832 -0.500314 -0.494364  \n1  0.525607 -1.122517  0.314290  \n2  0.117264  1.272586  0.618184  \n3  0.748527  1.055030 -1.647617  \n4 -0.020922  0.222214 -1.146474  \n\n[5 rows x 301 columns]",
      "text/html": "<div>\n<style scoped>\n    .dataframe tbody tr th:only-of-type {\n        vertical-align: middle;\n    }\n\n    .dataframe tbody tr th {\n        vertical-align: top;\n    }\n\n    .dataframe thead th {\n        text-align: right;\n    }\n</style>\n<table border=\"1\" class=\"dataframe\">\n  <thead>\n    <tr style=\"text-align: right;\">\n      <th></th>\n      <th>CleanDesc</th>\n      <th>0</th>\n      <th>1</th>\n      <th>2</th>\n      <th>3</th>\n      <th>4</th>\n      <th>5</th>\n      <th>6</th>\n      <th>7</th>\n      <th>8</th>\n      <th>...</th>\n      <th>290</th>\n      <th>291</th>\n      <th>292</th>\n      <th>293</th>\n      <th>294</th>\n      <th>295</th>\n      <th>296</th>\n      <th>297</th>\n      <th>298</th>\n      <th>299</th>\n    </tr>\n  </thead>\n  <tbody>\n    <tr>\n      <th>0</th>\n      <td>mejoramiento iluminacion iglesia santo miguel</td>\n      <td>0.285134</td>\n      <td>-0.347190</td>\n      <td>0.372838</td>\n      <td>1.786500</td>\n      <td>1.304575</td>\n      <td>-0.875542</td>\n      <td>0.241736</td>\n      <td>2.207744</td>\n      <td>1.386242</td>\n      <td>...</td>\n      <td>0.015060</td>\n      <td>0.083816</td>\n      <td>-0.624450</td>\n      <td>1.240238</td>\n      <td>1.526300</td>\n      <td>-0.409667</td>\n      <td>1.292290</td>\n      <td>-0.202832</td>\n      <td>-0.500314</td>\n      <td>-0.494364</td>\n    </tr>\n    <tr>\n      <th>1</th>\n      <td>adquisicion uniforme direccion seguridad publi...</td>\n      <td>1.505920</td>\n      <td>-0.214450</td>\n      <td>0.031016</td>\n      <td>-0.216319</td>\n      <td>-0.079253</td>\n      <td>-0.846233</td>\n      <td>-0.163367</td>\n      <td>1.464723</td>\n      <td>0.367282</td>\n      <td>...</td>\n      <td>-0.208350</td>\n      <td>0.192616</td>\n      <td>-0.442881</td>\n      <td>0.968356</td>\n      <td>0.985995</td>\n      <td>-0.190079</td>\n      <td>1.071147</td>\n      <td>0.525607</td>\n      <td>-1.122517</td>\n      <td>0.314290</td>\n    </tr>\n    <tr>\n      <th>2</th>\n      <td>proyectar ejecutivo jardin vecinal colonia ame...</td>\n      <td>0.879200</td>\n      <td>-0.109962</td>\n      <td>1.224388</td>\n      <td>0.414138</td>\n      <td>1.023179</td>\n      <td>0.381762</td>\n      <td>-0.782174</td>\n      <td>0.455059</td>\n      <td>0.482879</td>\n      <td>...</td>\n      <td>0.245520</td>\n      <td>0.150462</td>\n      <td>0.823416</td>\n      <td>0.994631</td>\n      <td>1.179548</td>\n      <td>-0.024129</td>\n      <td>1.741747</td>\n      <td>0.117264</td>\n      <td>1.272586</td>\n      <td>0.618184</td>\n    </tr>\n    <tr>\n      <th>3</th>\n      <td>construccion deportivo bicentenario</td>\n      <td>1.647743</td>\n      <td>-0.124789</td>\n      <td>0.974133</td>\n      <td>0.514520</td>\n      <td>1.243167</td>\n      <td>-0.244903</td>\n      <td>-0.728567</td>\n      <td>0.235247</td>\n      <td>0.193003</td>\n      <td>...</td>\n      <td>-0.948187</td>\n      <td>0.531850</td>\n      <td>-1.003360</td>\n      <td>0.536137</td>\n      <td>1.164490</td>\n      <td>-1.412653</td>\n      <td>1.416800</td>\n      <td>0.748527</td>\n      <td>1.055030</td>\n      <td>-1.647617</td>\n    </tr>\n    <tr>\n      <th>4</th>\n      <td>acondicionamiento centrar cultural y deportivo</td>\n      <td>1.590622</td>\n      <td>0.248824</td>\n      <td>1.003108</td>\n      <td>-0.054634</td>\n      <td>1.140828</td>\n      <td>-0.664088</td>\n      <td>-0.539960</td>\n      <td>0.613790</td>\n      <td>0.202512</td>\n      <td>...</td>\n      <td>-0.214696</td>\n      <td>0.146978</td>\n      <td>-0.556054</td>\n      <td>-0.291617</td>\n      <td>1.160667</td>\n      <td>-1.053317</td>\n      <td>1.052188</td>\n      <td>-0.020922</td>\n      <td>0.222214</td>\n      <td>-1.146474</td>\n    </tr>\n  </tbody>\n</table>\n<p>5 rows × 301 columns</p>\n</div>"
     },
     "metadata": {},
     "execution_count": 97
    }
   ],
   "source": [
    "clustering_df = df[['CleanDesc','Word Vectors']]\n",
    "vector = pd.DataFrame(clustering_df['Word Vectors'].tolist(), index= clustering_df.index)\n",
    "clustering_df = clustering_df.merge(vector, left_index=True, right_index=True)\n",
    "clustering_df = clustering_df.drop(['Word Vectors'], axis = 1)\n",
    "clustering_df.head()"
   ]
  },
  {
   "cell_type": "code",
   "execution_count": 98,
   "metadata": {},
   "outputs": [],
   "source": [
    "clustering_df.to_csv('DescVectors.csv',index=False)"
   ]
  },
  {
   "cell_type": "code",
   "execution_count": 14,
   "metadata": {
    "tags": []
   },
   "outputs": [
    {
     "output_type": "stream",
     "name": "stdout",
     "text": "48062\n9256\ninvestigacion mercar servicio mantenimiento preventivo y correctivo a equipo distribucion y suministrar electrico generador vapor y compresor aire presion hidroneumatico y bombear aire acondicionar y sistema proteccion incendio instalar inmueble ccayac y eq minisplits instalar inmueble oklahoma constar 6 partir 1 mantto preventivo y correctivo a subestacion electrico tablero electrico distribucion subgeneral y centro cargar transformador electrico bajo potenciar plantar electrico emergencia sistema tierra pararrayos unidad ininterrumpibles energia ups 2 mantto preventivo y correctivo a centro control motor generador vapor caldera caldereta compresor aire presion positivo y negativo cabina banar aire air shower pass box tranfer's electronico 3 mantto preventivo y correctivo a sistema hidroneumatico eq bombear carcamo eq recirculadores aguar y bombear aguar potable sistema almacenamiento y distribucion gas licuar petroleo tanque almacenamiento regulador presion manometro valvula y accesorio tanque elevar almacenamiento aguar potable 4 mantto preventivo y correctivo a eq aire tipo minisplit eq aire tipo fan coil eq aire tipo paquete eq aire tipo unidad precision unidad manejadoras aire uma's y condensador extractor aire y banco filtro laboratorio camara conservacion extractor aire y banco filtro almacen 5 mantto preventivo y correctivo a sistema proteccion incendio sistema deteccion incendiar sistema alertamiento sismico puerta automatico y control acceso 6 mantto preventivo y correctivo a equipo aire tipo minisplit y condensador instinstalados inmueble oklahoma\n"
    }
   ],
   "source": [
    "suma = 0\n",
    "for i,element in enumerate(descriptions):\n",
    "    suma += element\n",
    "    if suma > 96122/2:\n",
    "        print(suma)\n",
    "        print(i)\n",
    "        print(descriptions.index[i])\n",
    "        break\n"
   ]
  },
  {
   "cell_type": "code",
   "execution_count": 19,
   "metadata": {},
   "outputs": [],
   "source": [
    "main_options = np.where(descriptions>10,descriptions,'')\n",
    "main_options = main_options[main_options != '']"
   ]
  },
  {
   "cell_type": "code",
   "execution_count": 20,
   "metadata": {
    "tags": []
   },
   "outputs": [
    {
     "output_type": "stream",
     "name": "stdout",
     "text": "401\n"
    }
   ],
   "source": [
    "print(len(main_options))"
   ]
  },
  {
   "cell_type": "code",
   "execution_count": 73,
   "metadata": {
    "tags": []
   },
   "outputs": [
    {
     "output_type": "stream",
     "name": "stdout",
     "text": " \nSPACE\nFalse\nhello\nPROPN\nFalse\n-\nPUNCT\nTrue\nmy\nPRON\nFalse\n'\nPUNCT\nTrue\nd\nINTJ\nFalse\nfiend\nPROPN\nFalse\n"
    }
   ],
   "source": [
    "doc = nlp(\"maíz maiz plátano platano tortilla\")\n",
    "for token in doc:\n",
    "    for token2 in doc:\n",
    "        print(\"Sim: \" + token + \" , \" + token2)\n",
    "        print(token.similarity(token1))"
   ]
  },
  {
   "cell_type": "code",
   "execution_count": null,
   "metadata": {},
   "outputs": [],
   "source": []
  }
 ]
}