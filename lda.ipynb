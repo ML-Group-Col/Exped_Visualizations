{
 "metadata": {
  "language_info": {
   "codemirror_mode": {
    "name": "ipython",
    "version": 3
   },
   "file_extension": ".py",
   "mimetype": "text/x-python",
   "name": "python",
   "nbconvert_exporter": "python",
   "pygments_lexer": "ipython3",
   "version": "3.7.4-final"
  },
  "orig_nbformat": 2,
  "kernelspec": {
   "name": "Python 3.7.4 64-bit ('base': conda)",
   "display_name": "Python 3.7.4 64-bit ('base': conda)",
   "metadata": {
    "interpreter": {
     "hash": "1c806136200b0eca212bee46925cab97b1df6a3bae2401ff46da3aaaf2e1deb3"
    }
   }
  }
 },
 "nbformat": 4,
 "nbformat_minor": 2,
 "cells": [
  {
   "source": [
    "# LDA Modelling for main topics"
   ],
   "cell_type": "markdown",
   "metadata": {}
  },
  {
   "cell_type": "code",
   "execution_count": 3,
   "metadata": {},
   "outputs": [],
   "source": [
    "import pandas as pd\n",
    "import numpy as np"
   ]
  },
  {
   "cell_type": "code",
   "execution_count": 4,
   "metadata": {},
   "outputs": [],
   "source": [
    "df = pd.read_csv('clean_dataset.csv')"
   ]
  },
  {
   "source": [
    "**Get frequencies**"
   ],
   "cell_type": "markdown",
   "metadata": {}
  },
  {
   "cell_type": "code",
   "execution_count": 2,
   "metadata": {},
   "outputs": [],
   "source": [
    "def get_frequencies(bag_words):\n",
    "    '''\n",
    "    This function gets a dictionary of frequencies for all the descriptions\n",
    "    Input:\n",
    "        bag_words: List of lists of words\n",
    "    Output:\n",
    "        freq_dict: a dictionary of the word and its frquency of all\n",
    "    '''\n",
    "    freq_dict = {}\n",
    "    for description in bag_words:\n",
    "        for word in description:\n",
    "            freq_dict[word] = freq_dict.get(word,0)+1\n",
    "    return freq_dict"
   ]
  },
  {
   "cell_type": "code",
   "execution_count": null,
   "metadata": {},
   "outputs": [],
   "source": [
    "# Get the frequencies and save it in a dictionary\n",
    "freq_dict = get_frequencies(df['Descripción del Anuncio'].values)"
   ]
  },
  {
   "cell_type": "code",
   "execution_count": null,
   "metadata": {},
   "outputs": [],
   "source": [
    "def plot_freq():\n",
    "    # Sort the dictionary by value to plot\n",
    "    freq_dict_ = sorted(freq_dict.items(), key=lambda x: x[1], reverse=True)\n",
    "    # Unzip the dictionary\n",
    "    x, y = zip(*freq_dict_[:10])"
   ]
  },
  {
   "source": [
    "**Vectorize the vocabulary to train LDA**"
   ],
   "cell_type": "markdown",
   "metadata": {}
  },
  {
   "cell_type": "code",
   "execution_count": null,
   "metadata": {},
   "outputs": [],
   "source": [
    "def vectorize_features(freq_dict, bag_words):\n",
    "    '''\n",
    "    It gets you the list of vocabulary to vectorize\n",
    "    Input:\n",
    "        The frequency dictionary and bag of words of descriptions\n",
    "    Outpur:\n",
    "        List of dictionaries with all vocabulary\n",
    "    '''\n",
    "    freq_vector = []\n",
    "    words = sorted(freq_dict)\n",
    "    for element in range(len(bag_words)):\n",
    "        temp = []\n",
    "        for word in words:\n",
    "            if word in bag_words[element]:\n",
    "                temp.append(1)\n",
    "            else:\n",
    "                temp.append(0)\n",
    "        freq_vector.append(temp)\n",
    "    return freq_vector"
   ]
  },
  {
   "cell_type": "code",
   "execution_count": null,
   "metadata": {},
   "outputs": [],
   "source": [
    "freq_vector = vectorize_features(freq_dict, df_new['Descripción del Anuncio'].values)"
   ]
  },
  {
   "cell_type": "code",
   "execution_count": null,
   "metadata": {},
   "outputs": [],
   "source": [
    "# load the library for LDA\n",
    "from sklearn.decomposition import LatentDirichletAllocation as LDA\n",
    "\n",
    "def create_lda():\n",
    "    '''\n",
    "    This function convert the corpus to vectors\n",
    "    '''\n",
    "    # Define the model\n",
    "    lda = LDA(n_components=5, n_jobs=-1, random_state=10)\n",
    "    # Fit the model\n",
    "    lda.fit(freq_dict)"
   ]
  },
  {
   "cell_type": "code",
   "execution_count": null,
   "metadata": {},
   "outputs": [],
   "source": []
  }
 ]
}